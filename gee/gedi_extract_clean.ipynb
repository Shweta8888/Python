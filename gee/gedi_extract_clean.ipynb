{
  "nbformat": 4,
  "nbformat_minor": 0,
  "metadata": {
    "colab": {
      "provenance": [],
      "collapsed_sections": [],
      "authorship_tag": "ABX9TyN8LQadU432/Xt+pUWcjRvS",
      "include_colab_link": true
    },
    "kernelspec": {
      "name": "python3",
      "display_name": "Python 3"
    },
    "language_info": {
      "name": "python"
    }
  },
  "cells": [
    {
      "cell_type": "markdown",
      "metadata": {
        "id": "view-in-github",
        "colab_type": "text"
      },
      "source": [
        "<a href=\"https://colab.research.google.com/github/manmeet3591/python_class/blob/master/gee/gedi_extract_clean.ipynb\" target=\"_parent\"><img src=\"https://colab.research.google.com/assets/colab-badge.svg\" alt=\"Open In Colab\"/></a>"
      ]
    },
    {
      "cell_type": "code",
      "execution_count": null,
      "metadata": {
        "id": "2Dz53glqYYtk"
      },
      "outputs": [],
      "source": [
        "from google.colab import auth\n",
        "auth.authenticate_user()"
      ]
    },
    {
      "cell_type": "code",
      "source": [
        "from google.colab import drive\n",
        "drive.mount('/content/drive')"
      ],
      "metadata": {
        "id": "UC_1YbNWYeac"
      },
      "execution_count": null,
      "outputs": []
    },
    {
      "cell_type": "code",
      "source": [
        "import ee, folium"
      ],
      "metadata": {
        "id": "NWmlYMuFYgYa"
      },
      "execution_count": null,
      "outputs": []
    },
    {
      "cell_type": "code",
      "source": [
        "import ee\n",
        "ee.Authenticate()\n",
        "ee.Initialize()"
      ],
      "metadata": {
        "id": "i0UzjKNZYmVq"
      },
      "execution_count": null,
      "outputs": []
    },
    {
      "cell_type": "code",
      "source": [
        "!sudo add-apt-repository ppa:ubuntugis/ppa\n",
        "!sudo apt-get update\n",
        "!sudo apt-get install gdal-bin libgdal-dev\n",
        "!pip install -U pip\n",
        "!pip install rasterio"
      ],
      "metadata": {
        "id": "IVNG3snKYn-n"
      },
      "execution_count": null,
      "outputs": []
    },
    {
      "cell_type": "code",
      "source": [
        "try:\n",
        "    import geopandas as gpd\n",
        "    import shapefile\n",
        "    from osgeo import ogr,osr,gdal\n",
        "except:\n",
        "    !pip install geopandas\n",
        "    !pip install PyShp\n",
        "    !pip install gdal\n",
        "import geopandas as gpd\n",
        "import shapefile\n",
        "import numpy as np\n",
        "import os\n",
        "import time\n",
        "from osgeo import ogr,osr,gdal\n",
        "import tensorflow as tf"
      ],
      "metadata": {
        "id": "KgpZR6Y9Ypvb"
      },
      "execution_count": null,
      "outputs": []
    },
    {
      "cell_type": "code",
      "source": [
        "def qualityMask(im):\n",
        "    return im.updateMask(im.select('quality_flag').eq(1)).updateMask(im.select('degrade_flag').eq(0))\n",
        "dataset = ee.ImageCollection('LARSE/GEDI/GEDI02_A_002_MONTHLY').map(qualityMask).select('rh98')"
      ],
      "metadata": {
        "id": "8VNcBhx8YsmN"
      },
      "execution_count": null,
      "outputs": []
    },
    {
      "cell_type": "code",
      "source": [
        "visualization = {\n",
        "  'min': 1.0,\n",
        "  'max': 60.0,\n",
        "  'palette': ['darkred','red','orange','green','darkgreen']\n",
        "  #'bands': ['B4', 'B3', 'B2'],\n",
        "}\n",
        "\n",
        "map = folium.Map(location=[1.64, 110.20],zoom_start=4, height=1000,width=1500)\n",
        "mapid = dataset.get(100).getMapId(visualization)\n",
        "folium.TileLayer(\n",
        "    tiles=mapid['tile_fetcher'].url_format,\n",
        "    attr='Map Data &copy; <a href=\"https://earthengine.google.com/\">Google Earth Engine</a>',\n",
        "    overlay=True,\n",
        "    name='GEDI',\n",
        "    opacity=0.5,\n",
        "  ).add_to(map)\n",
        "\n",
        "map.add_child(folium.LayerControl())\n",
        "title_html = '''\n",
        "             <h3 align=\"center\" style=\"font-size:10px\"><b>'GEDI RH98'</b></h3>\n",
        "             '''\n",
        "map.get_root().html.add_child(folium.Element(title_html))\n",
        "map"
      ],
      "metadata": {
        "id": "pq884v0BYwch"
      },
      "execution_count": null,
      "outputs": []
    },
    {
      "cell_type": "code",
      "source": [
        "aoi = ee.Geometry.Polygon(\n",
        "        [[[10.752981103928594, 0.7627966289396413],\n",
        "          [10.752981103928594, -0.7615114430026542],\n",
        "          [13.104055322678594, -0.7615114430026542],\n",
        "          [13.104055322678594, 0.7627966289396413]]], np.nan, False)"
      ],
      "metadata": {
        "id": "OQCimRqSYy7i"
      },
      "execution_count": null,
      "outputs": []
    },
    {
      "cell_type": "code",
      "source": [
        "#// GEDI pre-processing\n",
        "def func_(image):\n",
        "    return image.updateMask(image.select('sensitivity').gt(0.98)).updateMask(image.select('quality_flag').eq(1)).updateMask(image.select('degrade_flag').eq(0)).select('rh100').toInt()\n",
        "\n",
        "gedi = ee.ImageCollection('LARSE/GEDI/GEDI02_A_002_MONTHLY').filterBounds(aoi).map(func_)"
      ],
      "metadata": {
        "id": "mvep2QIYY4Dj"
      },
      "execution_count": null,
      "outputs": []
    },
    {
      "cell_type": "code",
      "source": [
        "projection = gedi.first().projection().aside(print)\n",
        "scale = projection.nominalScale().aside(print)\n",
        "mosaic = gedi.mosaic().setDefaultProjection(crs=projection, scale=scale)\n",
        "mosaicMask = mosaic.lt(60)\n",
        "mosaic = mosaic.updateMask(mosaicMask)\n",
        "#//print(mosaic)   \n",
        "\n",
        "\n",
        "referenceData = mosaic.reduceToVectors(geometry = aoi,\n",
        "      geometryType= 'polygon',\n",
        "      scale = scale,\n",
        "      maxPixels = 100e9,\n",
        "      tileScale=16,\n",
        "      crs = projection,\n",
        "          )"
      ],
      "metadata": {
        "id": "ssLR8tFhY6j8"
      },
      "execution_count": null,
      "outputs": []
    },
    {
      "cell_type": "code",
      "source": [
        "task = ee.batch.Export.table.toDrive(\n",
        "            collection= referenceData,\n",
        "            folder= 'gedi',\n",
        "            description='referenceData',\n",
        "            fileFormat= 'SHP'\n",
        ")\n",
        "task.start()"
      ],
      "metadata": {
        "id": "HkLalRZrY9Fl"
      },
      "execution_count": null,
      "outputs": []
    }
  ]
}