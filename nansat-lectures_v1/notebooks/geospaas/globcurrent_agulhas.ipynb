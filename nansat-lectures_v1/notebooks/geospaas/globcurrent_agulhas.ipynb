{
 "cells": [
  {
   "cell_type": "code",
   "execution_count": null,
   "metadata": {
    "collapsed": false,
    "deletable": true,
    "editable": true
   },
   "outputs": [],
   "source": [
    "import os\n",
    "import sys\n",
    "\n",
    "### INITIALIZE DJANGO-GEO-SPAAS\n",
    "src_dir = os.getcwd().split('nansat-lectures')[0]\n",
    "os.environ['DJANGO_SETTINGS_MODULE'] = 'geospaas_project.settings'\n",
    "sys.path.insert(0, os.path.join(src_dir, 'geospaas_project'))\n",
    "import django\n",
    "django.setup()"
   ]
  },
  {
   "cell_type": "code",
   "execution_count": null,
   "metadata": {
    "collapsed": false,
    "deletable": true,
    "editable": true
   },
   "outputs": [],
   "source": [
    "import matplotlib.pyplot as plt\n",
    "import numpy as np\n",
    "\n",
    "from django.utils import timezone\n",
    "from django.contrib.gis.geos import WKTReader\n",
    "\n",
    "from nansat import Nansat, Domain, NSR\n",
    "from geospaas.catalog.models import Dataset, DatasetURI\n",
    "%matplotlib notebook"
   ]
  },
  {
   "cell_type": "code",
   "execution_count": null,
   "metadata": {
    "collapsed": false,
    "deletable": true,
    "editable": true
   },
   "outputs": [],
   "source": [
    "# Find GlobCurrent data after 1st January 2014\n",
    "gc_datasets = Dataset.objects.filter(entry_title__contains='globcurrent',\n",
    "                                 time_coverage_start__gt=timezone.datetime(2014,1,1,tzinfo=timezone.utc))"
   ]
  },
  {
   "cell_type": "code",
   "execution_count": null,
   "metadata": {
    "collapsed": false
   },
   "outputs": [],
   "source": [
    "gc_datasets"
   ]
  },
  {
   "cell_type": "code",
   "execution_count": null,
   "metadata": {
    "collapsed": false,
    "deletable": true,
    "editable": true
   },
   "outputs": [],
   "source": [
    "# Take the first GlobCurrent dataset, define region of interest, and reproject\n",
    "#\n",
    "# NOTE:\n",
    "#       - only metadata is transferred from the source (in this case the Ifremer Hyrax server)\n",
    "#       - operations are mapped in a vrt file (xml)\n",
    "n = Nansat(gc_datasets[0].dataseturi_set.all()[0].uri)\n",
    "d = Domain(NSR().wkt, '-te 10 -44 40 -30 -tr 0.125 0.125')\n",
    "n.reproject(d, addmask=False)"
   ]
  },
  {
   "cell_type": "code",
   "execution_count": null,
   "metadata": {
    "collapsed": false,
    "deletable": true,
    "editable": true
   },
   "outputs": [],
   "source": [
    "# Search for drifters in the same region (defined at lon={0,360}) and time\n",
    "drifterdomain = Domain(NSR().wkt, '-te 10 -44 40 -30 -tr 0.125 0.125')\n",
    "geometry = WKTReader().read(drifterdomain.get_border_wkt(nPoints=1000))\n",
    "drifters = Dataset.objects.filter(entry_title__contains='drifter', \n",
    "                                  time_coverage_start__range=[n.time_coverage_start-timezone.timedelta(days=15),\n",
    "                                      n.time_coverage_end+timezone.timedelta(days=15)],\n",
    "                                  geographic_location__geometry__intersects=geometry)\n",
    "print len(drifters)"
   ]
  },
  {
   "cell_type": "code",
   "execution_count": null,
   "metadata": {
    "collapsed": false,
    "deletable": true,
    "editable": true
   },
   "outputs": [],
   "source": [
    "# Get zonal and meridional geostrophic current\n",
    "#\n",
    "# NOTE:\n",
    "#      - the xml-mapped operations are now performed\n",
    "#      - actual data is streamed and assigned to variables as numpy arrays\n",
    "u = n['eastward_geostrophic_current_velocity']\n",
    "v = n['northward_geostrophic_current_velocity']"
   ]
  },
  {
   "cell_type": "code",
   "execution_count": null,
   "metadata": {
    "collapsed": false,
    "deletable": true,
    "editable": true
   },
   "outputs": [],
   "source": [
    "# Plot surface geostrophic current and collocated drifters\n",
    "plt.figure()\n",
    "plt.imshow(np.hypot(u, v), extent=(10,40,-44,-30))\n",
    "for d in drifters:\n",
    "    try:\n",
    "        coords = np.array(d.geographic_location.geometry.coords).T\n",
    "        plt.plot(coords[0], coords[1],'r.')\n",
    "    except:\n",
    "        continue"
   ]
  },
  {
   "cell_type": "code",
   "execution_count": null,
   "metadata": {
    "collapsed": false,
    "deletable": true,
    "editable": true
   },
   "outputs": [],
   "source": [
    "# Add virtual drifter functions\n",
    "from scipy import ndimage\n",
    "def rungekutta4(x, y, u0, v0, u1, v1, x0, y0, h):\n",
    "    ''' Integrate velocity field using Runge-Kutta 4th order '''\n",
    "    # convert grid with initial X (in meters) to columns\n",
    "    xMin, xMax = float(x.min()), float(x.max())\n",
    "    x1 = (x0 - xMin) / (xMax - xMin) * (x.shape[1] - 1)\n",
    "\n",
    "    # convert grid with initial Y (in meters) to rows (reverse)\n",
    "    yMin, yMax = float(y.min()), float(y.max())\n",
    "    y1 = (yMax - y0) / (yMax - yMin) * (y.shape[0] - 1)\n",
    "\n",
    "    # rescale h to be in rows/cols\n",
    "    dx = float(np.diff(x)[0,0])\n",
    "    h /= dx\n",
    "\n",
    "    k1 = h * ndimage.map_coordinates(u0, [y1, x1], order=1, cval=np.nan)\n",
    "    l1 =-h * ndimage.map_coordinates(v0, [y1, x1], order=1, cval=np.nan)\n",
    "\n",
    "    k2 = h * ndimage.map_coordinates((u0 + u1) / 2, [y1 + l1 / 2, x1 + k1 / 2], order=1, cval=np.nan)\n",
    "    l2 =-h * ndimage.map_coordinates((v0 + v1) / 2, [y1 + l1 / 2, x1 + k1 / 2], order=1, cval=np.nan)\n",
    "\n",
    "    k3 = h * ndimage.map_coordinates((u0 + u1) / 2, [y1 + l2 / 2, x1 + k2 / 2], order=1, cval=np.nan)\n",
    "    l3 =-h * ndimage.map_coordinates((v0 + v1) / 2, [y1 + l2 / 2, x1 + k2 / 2], order=1, cval=np.nan)\n",
    "\n",
    "    k4 = h * ndimage.map_coordinates(u1, [y1 + l3, x1 + k3], order=1, cval=np.nan)\n",
    "    l4 =-h * ndimage.map_coordinates(v1, [y1 + l3, x1 + k3], order=1, cval=np.nan)\n",
    "\n",
    "    x5 = x1 + (k1 + 2 * k2 + 2 * k3 + k4) / 6\n",
    "    y5 = y1 + (l1 + 2 * l2 + 2 * l3 + l4) / 6\n",
    "\n",
    "    # convert rows/cols back to meters\n",
    "    xOut = x5 / (x.shape[1] - 1) * (xMax - xMin) + xMin\n",
    "    yOut = yMax - y5 / (x.shape[0] - 1) * (yMax - yMin)\n",
    "\n",
    "    return xOut, yOut\n",
    "\n",
    "NMAX = 100.\n",
    "def run_rk4(xgrd, ygrd, u, v, h, xx, yy, n=0):\n",
    "    if (xx[-1] > xgrd.max() or\n",
    "        xx[-1] < xgrd.min() or\n",
    "        yy[-1] > ygrd.max() or\n",
    "        yy[-1] < ygrd.min() or\n",
    "        n > NMAX):\n",
    "        return xx, yy\n",
    "    #print xx, yy, n\n",
    "    x1, y1 = rungekutta4(xgrd, ygrd, u, v, u, v, np.array([xx[-1]]), np.array([yy[-1]]), h)\n",
    "    xx.append(x1[0])\n",
    "    yy.append(y1[0])\n",
    "    return run_rk4(xgrd, ygrd, u, v, h, xx, yy, n+1)"
   ]
  },
  {
   "cell_type": "code",
   "execution_count": null,
   "metadata": {
    "collapsed": true,
    "deletable": true,
    "editable": true
   },
   "outputs": [],
   "source": [
    "lon, lat = n.get_geolocation_grids()"
   ]
  },
  {
   "cell_type": "code",
   "execution_count": null,
   "metadata": {
    "collapsed": false,
    "deletable": true,
    "editable": true
   },
   "outputs": [],
   "source": [
    "# Plot surface geostrophic current, collocated drifters, and allow interactive animation\n",
    "# of virtual drifters\n",
    "h = 0.1\n",
    "xgrd, ygrd = lon.copy(), lat.copy()\n",
    "xx, yy = None, None\n",
    "\n",
    "# interactive animation (local Jupyter-notebook)\n",
    "fig = plt.figure()\n",
    "ax1 = fig.add_subplot(111)\n",
    "\n",
    "def click(event):\n",
    "    global x0, y0, xx, yy\n",
    "    if event.button==1 and event.inaxes:#select initial conditions pressing left mouse button \n",
    "        x0,y0 = event.xdata, event.ydata\n",
    "        print x0, y0\n",
    "        xx,yy = run_rk4(xgrd, ygrd, u, v, h, [x0], [y0])\n",
    "        ax1.plot(xx, yy, '.-')\n",
    "        fig.canvas.draw()\n",
    "\n",
    "img1 = ax1.imshow(np.hypot(u,v), extent=[xgrd.min(), xgrd.max(), ygrd.min(), ygrd.max()], vmax=2);\n",
    "for d in drifters:\n",
    "    try:\n",
    "        coords = np.array(d.geographic_location.geometry.coords).T\n",
    "        ax1.plot(coords[0], coords[1],'r.')\n",
    "    except:\n",
    "        continue\n",
    "#plt.colorbar(img1)\n",
    "plt.connect('button_press_event', click)\n",
    "plt.show()\n",
    "print xx, yy"
   ]
  },
  {
   "cell_type": "code",
   "execution_count": null,
   "metadata": {
    "collapsed": true,
    "deletable": true,
    "editable": true
   },
   "outputs": [],
   "source": []
  }
 ],
 "metadata": {
  "kernelspec": {
   "display_name": "Python 2",
   "language": "python",
   "name": "python2"
  },
  "language_info": {
   "codemirror_mode": {
    "name": "ipython",
    "version": 2
   },
   "file_extension": ".py",
   "mimetype": "text/x-python",
   "name": "python",
   "nbconvert_exporter": "python",
   "pygments_lexer": "ipython2",
   "version": "2.7.13"
  }
 },
 "nbformat": 4,
 "nbformat_minor": 2
}
