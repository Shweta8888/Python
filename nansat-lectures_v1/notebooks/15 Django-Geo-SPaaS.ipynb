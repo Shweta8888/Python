{
 "cells": [
  {
   "cell_type": "markdown",
   "metadata": {},
   "source": [
    "# Django-Geo-SPaaS - GeoDjango framework for Satellite Data Management\n",
    "\n",
    "\n",
    "#### First of all we need to initialize Django to work. Let's do some 'magic'"
   ]
  },
  {
   "cell_type": "code",
   "execution_count": 1,
   "metadata": {},
   "outputs": [],
   "source": [
    "import os, sys\n",
    "os.environ['DJANGO_SETTINGS_MODULE'] = 'geospaas_project.settings'\n",
    "sys.path.insert(0, '/vagrant/shared/course_vm/geospaas_project/')\n",
    "\n",
    "import django\n",
    "django.setup()\n",
    "\n",
    "from django.conf import settings"
   ]
  },
  {
   "cell_type": "markdown",
   "metadata": {},
   "source": [
    "#### Now we can import our models"
   ]
  },
  {
   "cell_type": "code",
   "execution_count": 2,
   "metadata": {},
   "outputs": [],
   "source": [
    "from geospaas.catalog.models import Dataset\n",
    "from geospaas.catalog.models import DatasetURI"
   ]
  },
  {
   "cell_type": "markdown",
   "metadata": {},
   "source": [
    "#### Now we can use the model Dataset to search for datasets"
   ]
  },
  {
   "cell_type": "code",
   "execution_count": 3,
   "metadata": {},
   "outputs": [],
   "source": [
    "# find all images\n",
    "datasets = Dataset.objects.all()"
   ]
  },
  {
   "cell_type": "markdown",
   "metadata": {},
   "source": [
    "### What is happening:\n",
    " - A SQL query is generated\n",
    " - The query is sent to the database (local database driven by SpatiaLite)\n",
    " - The query is executed by the database engine\n",
    " - The result is sent back to Python\n",
    " - The results is wrapped into a QuerySet object"
   ]
  },
  {
   "cell_type": "code",
   "execution_count": 4,
   "metadata": {},
   "outputs": [
    {
     "name": "stdout",
     "output_type": "stream",
     "text": [
      "5\n",
      "ENVISAT/MERIS/2012-03-03T09:38:10.423969+00:00\n",
      "ENVISAT/ASAR/2008-11-10T20:56:23.207430+00:00\n",
      "AQUA/MODIS/2015-05-01T11:36:49+00:00\n",
      "AQUA/MODIS/2015-05-02T12:20:09+00:00\n",
      "SENTINEL-1A/SAR/2015-07-02T17:29:54.066281+00:00\n"
     ]
    }
   ],
   "source": [
    "print datasets.count()\n",
    "\n",
    "# print info about each image\n",
    "for ds in datasets:\n",
    "    print ds"
   ]
  },
  {
   "cell_type": "markdown",
   "metadata": {},
   "source": [
    "#### Use the complex structure of the catalog models"
   ]
  },
  {
   "cell_type": "code",
   "execution_count": 12,
   "metadata": {},
   "outputs": [
    {
     "name": "stdout",
     "output_type": "stream",
     "text": [
      "2012-03-03 09:38:10.423969+00:00\n"
     ]
    },
    {
     "data": {
      "text/plain": [
       "datetime.datetime(2008, 11, 10, 20, 56, 23, 207430, tzinfo=<UTC>)"
      ]
     },
     "execution_count": 12,
     "metadata": {},
     "output_type": "execute_result"
    }
   ],
   "source": [
    "# get just one Dataset\n",
    "ds0 = datasets.first()\n",
    "print ds0.time_coverage_start\n"
   ]
  },
  {
   "cell_type": "code",
   "execution_count": 6,
   "metadata": {},
   "outputs": [
    {
     "name": "stdout",
     "output_type": "stream",
     "text": [
      "MERIS ENVISAT\n",
      "ASAR ENVISAT\n",
      "MODIS AQUA\n",
      "MODIS AQUA\n",
      "SAR SENTINEL-1A\n"
     ]
    }
   ],
   "source": [
    "# print joined fields (Foreign key)\n",
    "for ds in datasets:\n",
    "    print ds.source.instrument.short_name,\n",
    "    print ds.source.platform.short_name\n",
    "\n",
    "    \n",
    "    "
   ]
  },
  {
   "cell_type": "code",
   "execution_count": 7,
   "metadata": {},
   "outputs": [
    {
     "name": "stdout",
     "output_type": "stream",
     "text": [
      "file://localhost/vagrant/shared/test_data/meris_l1/MER_FRS_1PNPDK20120303_093810_000000333112_00180_52349_3561.N1\n"
     ]
    }
   ],
   "source": [
    "# get infromation from Foreign key in the opposite direction\n",
    "print ds0.dataseturi_set.first().uri\n"
   ]
  },
  {
   "cell_type": "markdown",
   "metadata": {},
   "source": [
    "## Search for data"
   ]
  },
  {
   "cell_type": "code",
   "execution_count": 15,
   "metadata": {},
   "outputs": [
    {
     "name": "stdout",
     "output_type": "stream",
     "text": [
      "[<Dataset: ENVISAT/MERIS/2012-03-03T09:38:10.423969+00:00>]\n",
      "[<Dataset: ENVISAT/MERIS/2012-03-03T09:38:10.423969+00:00>, <Dataset: ENVISAT/ASAR/2008-11-10T20:56:23.207430+00:00>, <Dataset: AQUA/MODIS/2015-05-01T11:36:49+00:00>, <Dataset: AQUA/MODIS/2015-05-02T12:20:09+00:00>, <Dataset: SENTINEL-1A/SAR/2015-07-02T17:29:54.066281+00:00>]\n"
     ]
    }
   ],
   "source": [
    "# search by time\n",
    "ds = Dataset.objects.filter(time_coverage_start='2012-03-03 09:38:10.423969')\n",
    "print ds\n",
    "\n",
    "ds = Dataset.objects.filter(time_coverage_start__gte='1900-03-01')\n",
    "print ds"
   ]
  },
  {
   "cell_type": "code",
   "execution_count": 16,
   "metadata": {},
   "outputs": [
    {
     "name": "stdout",
     "output_type": "stream",
     "text": [
      "[<Dataset: AQUA/MODIS/2015-05-01T11:36:49+00:00>, <Dataset: AQUA/MODIS/2015-05-02T12:20:09+00:00>]\n"
     ]
    }
   ],
   "source": [
    "# search by instrument\n",
    "ds = Dataset.objects.filter(source__instrument__short_name='MODIS')\n",
    "print ds"
   ]
  },
  {
   "cell_type": "code",
   "execution_count": 25,
   "metadata": {},
   "outputs": [
    {
     "name": "stdout",
     "output_type": "stream",
     "text": [
      "[<Dataset: AQUA/MODIS/2015-05-02T12:20:09+00:00>]\n"
     ]
    }
   ],
   "source": [
    "# search by spatial location\n",
    "ds0 = Dataset.objects.first()\n",
    "ds0_geom = ds0.geographic_location.geometry\n",
    "\n",
    "ds_ovlp = Dataset.objects.filter(\n",
    "    geographic_location__geometry__intersects=ds0_geom,\n",
    "    time_coverage_start__gte='2015-05-02',\n",
    "    source__platform__short_name='AQUA')\n",
    "print ds_ovlp\n"
   ]
  },
  {
   "cell_type": "markdown",
   "metadata": {},
   "source": [
    "### Finally, get data"
   ]
  },
  {
   "cell_type": "code",
   "execution_count": 26,
   "metadata": {},
   "outputs": [],
   "source": [
    "dsovlp0 = ds_ovlp.first()"
   ]
  },
  {
   "cell_type": "code",
   "execution_count": 31,
   "metadata": {},
   "outputs": [
    {
     "name": "stdout",
     "output_type": "stream",
     "text": [
      "file://localhost/vagrant/shared/test_data/obpg_l2/A2015122122000.L2_LAC.NorthNorwegianSeas.hdf\n"
     ]
    }
   ],
   "source": [
    "uri0 = dsovlp0.dataseturi_set.first().uri\n",
    "print uri0"
   ]
  },
  {
   "cell_type": "code",
   "execution_count": 33,
   "metadata": {},
   "outputs": [
    {
     "name": "stdout",
     "output_type": "stream",
     "text": [
      "[[ 22.20515633  22.15754128  22.10977554 ...,  -2.4479444   -2.48379612\n",
      "   -2.51980472]\n",
      " [ 22.20428276  22.15644073  22.10901642 ...,  -2.45618773  -2.49206471\n",
      "   -2.52809858]\n",
      " [ 22.2034626   22.15546989  22.10785866 ...,  -2.46444297  -2.50034523\n",
      "   -2.53640437]\n",
      " ..., \n",
      " [ 19.98286629  19.89513779  19.80788994 ..., -20.16187286 -20.20990181\n",
      "  -20.25743484]\n",
      " [ 19.98246765  19.8946743   19.8073597  ..., -20.18548775 -20.23342133\n",
      "  -20.28373528]\n",
      " [ 19.98209     19.89422989  19.80684853 ..., -20.21025085 -20.25760651\n",
      "  -20.30633354]]\n"
     ]
    }
   ],
   "source": [
    "from nansat import Nansat\n",
    "n = Nansat(uri0.replace('file://localhost', ''))\n",
    "print n[1]\n",
    "\n",
    "\n",
    "\n",
    "\n",
    "\n",
    "\n",
    "\n",
    "\n",
    "\n",
    "\n",
    "\n",
    "\n",
    "\n",
    "\n",
    "\n"
   ]
  },
  {
   "cell_type": "code",
   "execution_count": null,
   "metadata": {},
   "outputs": [],
   "source": []
  }
 ],
 "metadata": {
  "kernelspec": {
   "display_name": "Python 3",
   "language": "python",
   "name": "python3"
  },
  "language_info": {
   "codemirror_mode": {
    "name": "ipython",
    "version": 3
   },
   "file_extension": ".py",
   "mimetype": "text/x-python",
   "name": "python",
   "nbconvert_exporter": "python",
   "pygments_lexer": "ipython3",
   "version": "3.7.3"
  }
 },
 "nbformat": 4,
 "nbformat_minor": 1
}
