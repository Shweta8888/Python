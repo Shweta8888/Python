{
 "cells": [
  {
   "cell_type": "markdown",
   "metadata": {
    "slideshow": {
     "slide_type": "slide"
    }
   },
   "source": [
    "# Numbers"
   ]
  },
  {
   "cell_type": "code",
   "execution_count": 1,
   "metadata": {
    "slideshow": {
     "slide_type": "slide"
    }
   },
   "outputs": [
    {
     "name": "stdout",
     "output_type": "stream",
     "text": [
      "7 2.9 (10+2j) 9.9 2.0 2 343\n"
     ]
    }
   ],
   "source": [
    "\"\"\"\n",
    "Multi-line\n",
    "comment\n",
    "\"\"\"\n",
    "a = 7           # integer\n",
    "b = 2.9         # float\n",
    "c = 10 + 2j     # complex\n",
    "d = a + b       # sum\n",
    "e = a // b      # integer division\n",
    "f = a % 5       # remainder of the division\n",
    "g = a ** 3      # power\n",
    "print(a, b, c, d, e, f, g)"
   ]
  },
  {
   "cell_type": "code",
   "execution_count": 2,
   "metadata": {},
   "outputs": [
    {
     "name": "stdout",
     "output_type": "stream",
     "text": [
      "2 10 1\n"
     ]
    }
   ],
   "source": [
    "a = round(1.5)        # floor\n",
    "b = abs(-10)          # absolute value\n",
    "c = min(1, 2, 3)      # minimum value\n",
    "print(a, b, c)\n"
   ]
  },
  {
   "cell_type": "markdown",
   "metadata": {},
   "source": [
    "# Create Strings"
   ]
  },
  {
   "cell_type": "code",
   "execution_count": 3,
   "metadata": {},
   "outputs": [
    {
     "name": "stdout",
     "output_type": "stream",
     "text": [
      "some string another one with escape '  without escape '   two \n",
      " lines  Several\n",
      "lines\n",
      "of text\n"
     ]
    }
   ],
   "source": [
    "a = 'some string'\n",
    "b = \"another one\"\n",
    "d = \"without escape ' \"\n",
    "c = 'with escape \\' '\n",
    "e = ' two \\n lines '\n",
    "f = '''Several\n",
    "lines\n",
    "of text'''\n",
    "\n",
    "print(a, b, c, d, e, f)"
   ]
  },
  {
   "cell_type": "markdown",
   "metadata": {},
   "source": [
    "# Access / Modify strings"
   ]
  },
  {
   "cell_type": "code",
   "execution_count": 4,
   "metadata": {},
   "outputs": [
    {
     "name": "stdout",
     "output_type": "stream",
     "text": [
      "10 6 L o rem We can concatenate\n",
      " We can format \n",
      " >=<>=<>=<>=<>=<>=<>=<>=<>=<>=<>=<>=<>=<>=<>=<>=<>=<>=<>=<>=<\n"
     ]
    }
   ],
   "source": [
    "a = int('10')                    # convert to integer\n",
    "b = len('string')                # length of string\n",
    "\n",
    "c = 'LoremIpsumDolorSitAmet'\n",
    "\n",
    "d = 'We ' + 'can ' + 'concatenate' + '\\n'   # concatenate\n",
    "e = 'We %s format %s' % ('can', '\\n')       # format string\n",
    "f = '>=<' * 20                              # replicate\n",
    "\n",
    "print(a, b, c[0], c[1], c[2:5], d, e, f)"
   ]
  },
  {
   "cell_type": "markdown",
   "metadata": {},
   "source": [
    "# Boolean"
   ]
  },
  {
   "cell_type": "code",
   "execution_count": 5,
   "metadata": {},
   "outputs": [
    {
     "name": "stdout",
     "output_type": "stream",
     "text": [
      "True False True True True True True\n"
     ]
    }
   ],
   "source": [
    "a = True\n",
    "b = 1 > 2\n",
    "c = 3 == 3\n",
    "d = \"abc\" > \"ABC\"\n",
    "e = 'a' in 'abcd'\n",
    "f = 'o' not in 'abcd' \n",
    "g = f is True\n",
    "print (a, b, c, d, e, f, g)"
   ]
  },
  {
   "cell_type": "markdown",
   "metadata": {},
   "source": [
    "# Lists"
   ]
  },
  {
   "cell_type": "code",
   "execution_count": 6,
   "metadata": {},
   "outputs": [
    {
     "name": "stdout",
     "output_type": "stream",
     "text": [
      "[1, 2, 3.5, (4+1j), 'str5', 'str6', 7, 8, 9, 10]\n",
      "1\n",
      "[(4+1j), 'str5']\n",
      "[1, 2, 3.5, (4+1j), 'str5']\n",
      "['str6', 7, 8, 9, 10]\n",
      "[1, 2, 3.5, (4+1j), 'str5', 'str6', 7, 8, 9, 10]\n",
      "[1, 2, 3.5, (4+1j), 'str5', 'str6', 7, 8]\n"
     ]
    }
   ],
   "source": [
    "a = [1, 2, 3.5, 4+1j, 'str5', 'str6', 7, 8, 9, 10] # create list\n",
    "b = a[0]                        # access one element\n",
    "c = a[3:5]                      # access several elements\n",
    "d = a[:5]                       # access several elements from begining\n",
    "e = a[5:]                       # access several elements until end\n",
    "f = a[:]                        # access all elements\n",
    "g = a[:-2]                      # access several elements from begining\n",
    "print (a)\n",
    "print (b)\n",
    "print (c)\n",
    "print (d)\n",
    "print (e)\n",
    "print (f)\n",
    "print (g)"
   ]
  },
  {
   "cell_type": "raw",
   "metadata": {},
   "source": [
    " +---+---+---+---+---+---+\n",
    " | P | y | t | h | o | n |\n",
    " +---+---+---+---+---+---+\n",
    " 0   1   2   3   4   5   6\n",
    "-6  -5  -4  -3  -2  -1"
   ]
  },
  {
   "cell_type": "markdown",
   "metadata": {},
   "source": [
    "# Operations with lists"
   ]
  },
  {
   "cell_type": "code",
   "execution_count": 7,
   "metadata": {},
   "outputs": [
    {
     "name": "stdout",
     "output_type": "stream",
     "text": [
      "['0', '1', 2, 3.5, (4+1j), 'str5', 'str6', 7, 11]\n",
      "['0', '1', 2, 3.5, (4+1j), 'str5', 'str6', 7, 11]\n",
      "[[1, 2, 3], [4, 5, 6]]\n",
      "[['0', '1', 2, 3.5], [(4+1j), 'str5', 'str6', 7, 11]]\n",
      "[1, 2, 3, 1, 2, 3, 1, 2, 3]\n",
      "[[1, 2, 3], [1, 2, 3], [1, 2, 3]]\n"
     ]
    }
   ],
   "source": [
    "a = [0, 1, 2, 3.5, 4+1j, 'str5', 'str6', 7, 8, 9]\n",
    "a[9] = 11                  # replace one element\n",
    "a[0:2] = ['0', '1']        # replace several elements\n",
    "del a[8]                   # remove first element\n",
    "b = a[:4] + a[4:]          # concatenate two lists\n",
    "c = [[1, 2, 3], [4, 5, 6]] # create nested list\n",
    "\n",
    "c = [[1, 2, 3],            # nested list\n",
    "     [4, 5, 6]]            # on multiple lines\n",
    "\n",
    "d = [a[0:4], a[4:]]        # nested list from two sub-lists\n",
    "e = [1, 2, 3] * 3          # replicate list\n",
    "f = [[1, 2, 3]] * 3          # replicate list\n",
    "\n",
    "print (a)\n",
    "print (b)\n",
    "print (c)\n",
    "print (d)\n",
    "print (e)\n",
    "print (f)"
   ]
  },
  {
   "cell_type": "markdown",
   "metadata": {},
   "source": [
    "# Tuples"
   ]
  },
  {
   "cell_type": "code",
   "execution_count": 8,
   "metadata": {},
   "outputs": [
    {
     "name": "stdout",
     "output_type": "stream",
     "text": [
      "(1, 2, 3) (1, 2, 3) 1 2 3 2 1\n"
     ]
    }
   ],
   "source": [
    "a = (1,2,3)          # create tuple\n",
    "b = 1,2,3            # create tuple\n",
    "c, d, e = 1, 2, 3    # multiple assignment\n",
    "f, g = c, d          # multiple assignment\n",
    "f, g = g, f          # switch values\n",
    "print (a,b,c,d,e,f,g)"
   ]
  },
  {
   "cell_type": "markdown",
   "metadata": {},
   "source": [
    "\n",
    "# Dictionaries"
   ]
  },
  {
   "cell_type": "code",
   "execution_count": 9,
   "metadata": {},
   "outputs": [
    {
     "name": "stdout",
     "output_type": "stream",
     "text": [
      "{1: 123, 2.5: 'text', 'm': [1, 2, 3]}\n",
      "123\n",
      "text\n",
      "[1, 2, 3]\n",
      "{'new key': 'new value', 0: 'new value'}\n",
      "new value\n"
     ]
    }
   ],
   "source": [
    "a = {1: 123, 2.5: 'text', 'key3': [1,2,3]} # define dictionary\n",
    "\n",
    "a = {    1 : 123,           # define dictionary \n",
    "       2.5 : 'text',        # on multiple lines\n",
    "        'm': [1,2,3]}\n",
    "\n",
    "b = a[1]                    # acces by key\n",
    "c = a[2.5]                  # acces by key\n",
    "d = a['m']                  # acces by key\n",
    "e = {}                      # create empty dict\n",
    "e['new key'] = 'new value'  # add key:value to the dict\n",
    "e[0] = 'new value'  # add key:value to the dict\n",
    "\n",
    "print (a)\n",
    "print (b)\n",
    "print (c)\n",
    "print (d)\n",
    "print (e)\n",
    "print (e[0])\n"
   ]
  },
  {
   "cell_type": "markdown",
   "metadata": {},
   "source": [
    "# Objects\n",
    "## Everything is object\n",
    " * Object is a container for data and functions\n",
    " * Data is called *value* (or *attributes*)\n",
    " * Functions are called *methods*"
   ]
  },
  {
   "cell_type": "code",
   "execution_count": 10,
   "metadata": {},
   "outputs": [
    {
     "name": "stdout",
     "output_type": "stream",
     "text": [
      "   LoremIpsumDolorSitAmet   \n",
      "LoremIpsumDolorSitAmet\n",
      "[0, 1, 2, 4, 5]\n"
     ]
    }
   ],
   "source": [
    "a = '   LoremIpsumDolorSitAmet   '\n",
    "c = a.strip()\n",
    "\n",
    "d = [0, 2, 1, 5, 4]\n",
    "d.sort()\n",
    "print (a)\n",
    "print (c)\n",
    "print (d)"
   ]
  },
  {
   "cell_type": "markdown",
   "metadata": {},
   "source": [
    "# Important methods of 'string'"
   ]
  },
  {
   "cell_type": "code",
   "execution_count": 11,
   "metadata": {},
   "outputs": [
    {
     "name": "stdout",
     "output_type": "stream",
     "text": [
      "   LaremIpsumDalarSitAmet    \n",
      "    LoremIpsumDolorSitAmet    \n",
      " 3 \n",
      " Larem_Ipsum_Dalar_Sit_Amet \n",
      " ['Larem', 'Ipsum', 'Dalar', 'Sit', 'Amet'] \n",
      " ['Lore', 'Ipsu', 'DolorSitA', 'et'] \n",
      " New style is better!\n"
     ]
    }
   ],
   "source": [
    "# STRINGS\n",
    "a = '   LaremIpsumDalarSitAmet   '\n",
    "b = a.replace('a','o')\n",
    "c = b.find('Lo')\n",
    "d = '_'.join(['Larem', 'Ipsum', 'Dalar', 'Sit', 'Amet'])\n",
    "                                  # a = '_'; a.join(...)\n",
    "e = d.split('_')\n",
    "f = a.replace('a', 'o').strip().split('m')\n",
    "\n",
    "g = 'New {0} {1} {good}!'.format('style', 'is', good='better') \n",
    "\n",
    "print (a, '\\n', b, '\\n', c, '\\n', d, '\\n', e, '\\n', f, '\\n', g)"
   ]
  },
  {
   "cell_type": "markdown",
   "metadata": {},
   "source": [
    "# Importnat methods of 'list'"
   ]
  },
  {
   "cell_type": "code",
   "execution_count": 12,
   "metadata": {},
   "outputs": [
    {
     "name": "stdout",
     "output_type": "stream",
     "text": [
      "[200, 11, 10, 9, 8, 7, 6, 4, 3, 1, 0] 2\n"
     ]
    }
   ],
   "source": [
    "a = [0, 1, 2, 3, 4, 5, 6, 7, 8]\n",
    "a.append(9)\n",
    "a.extend([10,11])\n",
    "a.insert(2, 200)\n",
    "b = a.pop(3)\n",
    "a.remove(5)\n",
    "a.sort()\n",
    "a.reverse()\n",
    "print (a, b)"
   ]
  },
  {
   "cell_type": "markdown",
   "metadata": {},
   "source": [
    "# Importnat methods of 'dict'"
   ]
  },
  {
   "cell_type": "code",
   "execution_count": 13,
   "metadata": {},
   "outputs": [
    {
     "name": "stdout",
     "output_type": "stream",
     "text": [
      "{1: 123, 2.5: 'text'} default [1, 2, 3] True dict_keys([1, 2.5]) dict_values([123, 'text'])\n"
     ]
    }
   ],
   "source": [
    "a = {1: 123, 2.5: 'text', 'key3': [1,2,3]}\n",
    "b = a.get(2, 'default')\n",
    "c = a.pop('key3')\n",
    "d = 2.5 in a\n",
    "e = a.keys()\n",
    "f = a.values()\n",
    "print (a, b, c, d, e, f)"
   ]
  },
  {
   "cell_type": "code",
   "execution_count": 14,
   "metadata": {},
   "outputs": [
    {
     "name": "stdout",
     "output_type": "stream",
     "text": [
      "dict_values([100, 'text'])\n"
     ]
    }
   ],
   "source": [
    "a[1] = 100\n",
    "print (f) "
   ]
  },
  {
   "cell_type": "markdown",
   "metadata": {},
   "source": [
    "# Pointers\n",
    "## Everything is a pointer to object\n",
    "* Data is stored in computer memory (RAM)\n",
    "* *Pointer* is address of the object in memory\n",
    "* Several pointers may point to the same object"
   ]
  },
  {
   "cell_type": "code",
   "execution_count": 15,
   "metadata": {},
   "outputs": [
    {
     "name": "stdout",
     "output_type": "stream",
     "text": [
      "[10, 1, 2]\n"
     ]
    }
   ],
   "source": [
    "a = [0, 1, 2]\n",
    "b = a\n",
    "b[0] = 10\n",
    "print (a)"
   ]
  },
  {
   "cell_type": "code",
   "execution_count": 16,
   "metadata": {},
   "outputs": [
    {
     "name": "stdout",
     "output_type": "stream",
     "text": [
      "[10, 1, 2] (10, 1, 2)\n"
     ]
    }
   ],
   "source": [
    "b = list(a)\n",
    "d = tuple(a)\n",
    "print (b, d )\n"
   ]
  },
  {
   "cell_type": "code",
   "execution_count": 17,
   "metadata": {},
   "outputs": [
    {
     "name": "stdout",
     "output_type": "stream",
     "text": [
      "[10, 2, 3]\n"
     ]
    }
   ],
   "source": [
    "a = [1,2,3]\n",
    "a[0] = 10\n",
    "b = (1,2,3)\n",
    "#b[0] = 10\n",
    "print (a)"
   ]
  },
  {
   "cell_type": "markdown",
   "metadata": {},
   "source": [
    "# Functions are also <s>objects</s> pointers to objects"
   ]
  },
  {
   "cell_type": "code",
   "execution_count": 18,
   "metadata": {},
   "outputs": [
    {
     "name": "stdout",
     "output_type": "stream",
     "text": [
      "<built-in function len> 9\n"
     ]
    }
   ],
   "source": [
    "a = len               # let <a> be the len() function\n",
    "print (a, a('some text'))"
   ]
  },
  {
   "cell_type": "code",
   "execution_count": 19,
   "metadata": {},
   "outputs": [
    {
     "name": "stdout",
     "output_type": "stream",
     "text": [
      "[-1, 0, 1, 2, 3]\n"
     ]
    }
   ],
   "source": [
    "a = [0, 2, 3, 1]\n",
    "b = a.sort          # let <b> be method of the list\n",
    "a.append(-1)        # modify the list\n",
    "b()                 # call the method, equals to a.sort()\n",
    "print (a)"
   ]
  },
  {
   "cell_type": "markdown",
   "metadata": {},
   "source": [
    "# Other useful built-in types"
   ]
  },
  {
   "cell_type": "code",
   "execution_count": 20,
   "metadata": {},
   "outputs": [
    {
     "name": "stdout",
     "output_type": "stream",
     "text": [
      "{1, 2, 3, 4} {3, 4, 5, 6} {1, 2, 3, 4, 5, 6} {3, 4}\n"
     ]
    }
   ],
   "source": [
    "a = set([1,2,3,4,1,2,3,4])  # SET: unordered collection\n",
    "b = set([3,4,5,6,3,4,5])    #      of distinct objects (unique)\n",
    "c = a | b                   # join\n",
    "d = a & b                   # intersect\n",
    "print (a, b, c, d)"
   ]
  },
  {
   "cell_type": "code",
   "execution_count": 21,
   "metadata": {},
   "outputs": [
    {
     "name": "stdout",
     "output_type": "stream",
     "text": [
      "['the first line\\n', 'the second line\\n']\n"
     ]
    }
   ],
   "source": [
    "f = open('test.txt', 'w')                    # open FILE\n",
    "f.write('the first line\\nthe second line\\n') # write text\n",
    "f.close()                                    # close\n",
    "f = open('test.txt')                         # open again\n",
    "print (f.readlines() )                         # read lines as list"
   ]
  },
  {
   "cell_type": "code",
   "execution_count": 22,
   "metadata": {},
   "outputs": [
    {
     "name": "stdout",
     "output_type": "stream",
     "text": [
      "range(0, 5) [0, 1, 2, 3, 4] 2 range(9, 15, 2) 6\n"
     ]
    }
   ],
   "source": [
    "# RANGE: list generated on-the-fly\n",
    "r1 = range(5)         # number of elements\n",
    "r2 = range(3, 15)     # first and last\n",
    "r3 = range(3, 15, 2)  # first, last and step\n",
    "a = list(r1)          # convert to list\n",
    "b = r1[2]             # access element\n",
    "c = r3[3:]            # get sub-range\n",
    "d = len(r3)           # length of range\n",
    "print (r1, a, b, c, d)"
   ]
  },
  {
   "cell_type": "markdown",
   "metadata": {},
   "source": [
    "# Modules, packages and scripts"
   ]
  },
  {
   "cell_type": "raw",
   "metadata": {},
   "source": [
    "+---------------------------------------+\n",
    "|  Python                               |\n",
    "|                                       |\n",
    "|  +---------------------------------+  |\n",
    "|  | Packages (os)                   |  |\n",
    "|  |                                 |  |\n",
    "|  |  +---------------------------+  |  |\n",
    "|  |  | Modules (path)            |  |  |\n",
    "|  |  |                           |  |  |\n",
    "|  |  |  +---------------------+  |  |  |\n",
    "|  |  |  | Functions (exists)  |  |  |  |\n",
    "|  |  |  |                     |  |  |  |\n",
    "|  |  |  +---------------------+  |  |  |\n",
    "|  |  +---------------------------+  |  |\n",
    "|  +---------------------------------+  |\n",
    "+---------------------------------------+"
   ]
  },
  {
   "cell_type": "code",
   "execution_count": 23,
   "metadata": {},
   "outputs": [],
   "source": [
    "import os                            # import entire package\n",
    "a = os.path.exists('some_file.txt')\n",
    "\n",
    "import os.path                       # import module\n",
    "a = os.path.exists('some_file.txt')\n",
    "\n",
    "from os import path                  # import module\n",
    "a = path.exists('some_file.txt')\n",
    "\n",
    "from os.path import *           # import function\n",
    "a = exists('some_file.txt')\n",
    "\n",
    "from os.path import exists as xsts   # import function with nickname\n",
    "a = xsts('some_file.txt')"
   ]
  },
  {
   "cell_type": "markdown",
   "metadata": {},
   "source": [
    "# Control flow"
   ]
  },
  {
   "cell_type": "code",
   "execution_count": 24,
   "metadata": {},
   "outputs": [
    {
     "name": "stdout",
     "output_type": "stream",
     "text": [
      "OK, inside a block\n",
      "1 outside a block\n",
      "OK\n",
      "0\n",
      "1\n",
      "2\n",
      "3\n",
      "4\n",
      "0\n",
      "1\n",
      "2\n",
      "3\n",
      "4\n",
      "6\n",
      "7\n",
      "8\n",
      "9\n"
     ]
    }
   ],
   "source": [
    "# simple IF. Notice 4-space intendation of a block!\n",
    "a = 0\n",
    "if a == 0:\n",
    "    a += 1\n",
    "    print ('OK, inside a block')\n",
    "print (a, 'outside a block')\n",
    "\n",
    "\n",
    "# IF with many choices. function values are tested\n",
    "b = [0, 1, 2]\n",
    "if a in b:\n",
    "    print ('OK')\n",
    "elif isinstance(a, str):\n",
    "    print ('not OK')\n",
    "else:\n",
    "    print ('else')\n",
    "\n",
    "    \n",
    "# FOR loop over a list element\n",
    "a = [0, 1, 2, 3, 4]\n",
    "for i in a:\n",
    "    print (i)\n",
    "\n",
    "    \n",
    "# FOR loop over a range\n",
    "for i in range(5):\n",
    "    print (i)\n",
    "\n",
    "    \n",
    "# Nested blocks\n",
    "for i in range(10):\n",
    "    if i > 5:\n",
    "        print (i)\n",
    "\n",
    "        \n",
    "# List comprehension\n",
    "a = []\n",
    "for i in range(10):\n",
    "    b = i**2\n",
    "    a.append(b)\n",
    "# Equal TO:\n",
    "a = [i**2 for i in range(10)]"
   ]
  },
  {
   "cell_type": "code",
   "execution_count": null,
   "metadata": {
    "collapsed": true
   },
   "outputs": [],
   "source": []
  }
 ],
 "metadata": {
  "kernelspec": {
   "display_name": "Python 3",
   "language": "python",
   "name": "python3"
  },
  "language_info": {
   "codemirror_mode": {
    "name": "ipython",
    "version": 3
   },
   "file_extension": ".py",
   "mimetype": "text/x-python",
   "name": "python",
   "nbconvert_exporter": "python",
   "pygments_lexer": "ipython3",
   "version": "3.7.6"
  },
  "widgets": {
   "state": {},
   "version": "1.1.2"
  }
 },
 "nbformat": 4,
 "nbformat_minor": 1
}
