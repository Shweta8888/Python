{
 "cells": [
  {
   "cell_type": "markdown",
   "metadata": {},
   "source": [
    "## Use Case 2: Combine different data on a map "
   ]
  },
  {
   "cell_type": "code",
   "execution_count": 1,
   "metadata": {},
   "outputs": [],
   "source": [
    "# Needed in IPython notebook only\n",
    "from IPython.display import Image   \n",
    "%matplotlib inline"
   ]
  },
  {
   "cell_type": "code",
   "execution_count": 2,
   "metadata": {},
   "outputs": [
    {
     "name": "stdout",
     "output_type": "stream",
     "text": [
      "File ‘data/gfs_4_20191001_0000_000.grb2’ already there; not retrieving.\r\n",
      "\r\n"
     ]
    }
   ],
   "source": [
    "!wget -P data -nc http://nomads.ncdc.noaa.gov/data/gfs4/201910/20191001/gfs_4_20191001_0000_000.grb2"
   ]
  },
  {
   "cell_type": "code",
   "execution_count": null,
   "metadata": {},
   "outputs": [],
   "source": [
    "d = Domain('+proj=longlat', '-te -10 55 20 75 -tr 0.1 0.1')\n",
    "n.reproject(d)\n",
    "\n",
    "u = n['U']\n",
    "v = n['V']\n",
    "w = np.hypot(u,v)\n",
    "\n",
    "# create canvas to draw a map\n",
    "nmap = Nansatmap(n, resolution='l')\n",
    "\n",
    "# make plot of wind speed (color) and add colorbar\n",
    "nmap.pcolormesh(w)\n",
    "nmap.add_colorbar(fontsize=10)\n",
    "\n",
    "# add vectors showing wind directions\n",
    "nmap.quiver(u, v, step=10)\n",
    "\n",
    "# add continents on top\n",
    "nmap.draw_continents()\n",
    "\n",
    "# draw grid of parallels and meridians\n",
    "# at given locations\n",
    "nmap.drawparallels([65, 70, 75], labels=[1,0,0,0])\n",
    "nmap.drawmeridians([5, 10, 15, 20, 25], labels=[0,0,1,0])\n",
    "\n",
    "# add title\n",
    "plt.suptitle('Wind speed and direction')\n",
    "\n",
    "# set size of the figure (inches)\n",
    "nmap.fig.set_figheight(7)\n",
    "nmap.fig.set_figwidth(10)\n",
    "\n",
    "# save figure to a PNG file\n",
    "nmap.save('usecase2a.png')"
   ]
  },
  {
   "cell_type": "markdown",
   "metadata": {},
   "source": [
    "## Exercise:\n",
    "### Create  a wind map for your area of interest for 1 Jan 2015"
   ]
  },
  {
   "cell_type": "code",
   "execution_count": null,
   "metadata": {},
   "outputs": [],
   "source": []
  }
 ],
 "metadata": {
  "kernelspec": {
   "display_name": "Python 3",
   "language": "python",
   "name": "python3"
  },
  "language_info": {
   "codemirror_mode": {
    "name": "ipython",
    "version": 3
   },
   "file_extension": ".py",
   "mimetype": "text/x-python",
   "name": "python",
   "nbconvert_exporter": "python",
   "pygments_lexer": "ipython3",
   "version": "3.7.3"
  }
 },
 "nbformat": 4,
 "nbformat_minor": 1
}
