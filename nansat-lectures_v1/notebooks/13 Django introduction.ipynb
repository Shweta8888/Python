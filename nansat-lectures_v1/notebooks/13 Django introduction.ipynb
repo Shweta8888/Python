{
 "cells": [
  {
   "cell_type": "markdown",
   "metadata": {},
   "source": [
    "# Relational database\n",
    "## A lot of data can be stored in tabels\n",
    "\n",
    "### Table Human\n",
    "|ID|Name| Age |\n",
    "|--|----|-----|\n",
    "|1|Anton|34|\n",
    "|2|Morten|37|\n",
    "\n",
    "\n",
    "### Table Course\n",
    "|ID|Subject| Hours |\n",
    "|--|----|-----|\n",
    "|1|Python|30|\n",
    "|2|Matlab|0|\n",
    "\n",
    "### Table Teacher (wrong)\n",
    "|ID|HumanName|HumanAge|CourseSubject|CourseHours|\n",
    "|--|----|-----|--|--|\n",
    "|1|Anton|34|Python|30|\n",
    "|2|Morten|37|Python|30|\n",
    "\n",
    "### Table Teacher (correct)\n",
    "|ID|HumanID|CourseID|\n",
    "|--|----|-----|\n",
    "|1|1|1|\n",
    "|2|2|1|\n",
    "\n",
    "\n",
    "## How to present structure of tables\n",
    "\n",
    "#### Table Human\n",
    "|Field|Type|\n",
    "|--|----|\n",
    "|ID|Integer|\n",
    "|Name|String|\n",
    "|Age|Integer|\n",
    "\n",
    "\n",
    "#### Table Course\n",
    "|Field|Type|\n",
    "|--|----|\n",
    "|ID|Integer|\n",
    "|Subject|String|\n",
    "|Hours|Integer|\n",
    "\n",
    "\n",
    "#### Table Teacher\n",
    "|Field|Type|\n",
    "|--|----|\n",
    "|ID|Integer|\n",
    "|human|Integer|\n",
    "|course|Integer|"
   ]
  },
  {
   "cell_type": "markdown",
   "metadata": {},
   "source": [
    "### How to define structure of tables in Python? Django Models!"
   ]
  },
  {
   "cell_type": "code",
   "execution_count": null,
   "metadata": {
    "scrolled": true
   },
   "outputs": [],
   "source": [
    "# models.py\n",
    "from django.db import models\n",
    "\n",
    "class Human(models.Model):\n",
    "    ''' Description of any Human'''\n",
    "    name = models.CharField(max_length=200)\n",
    "    age  = models.IntegerField()\n",
    "\n",
    "    objects = models.Manager()\n",
    "\n",
    "    def __str__(self):\n",
    "        ''' Nicely print Human object '''\n",
    "        return u\"I'm %s, %d years old\" % (self.name, self.age)\n",
    "\n",
    "\n",
    "class Course(models.Model):\n",
    "    ''' Description of teaching course'''\n",
    "    subject = models.CharField(max_length=200)\n",
    "    hours = models.IntegerField()\n",
    "\n",
    "    objects = models.Manager()\n",
    "\n",
    "    def __str__(self):\n",
    "        ''' Nicely print Course object '''\n",
    "        return 'Course in %s, %d hrs long' % (self.subject, self.hours)\n",
    "\n",
    "\n",
    "class Teacher(models.Model):\n",
    "    ''' Description of Teacher '''\n",
    "    human = models.ForeignKey(Human)\n",
    "    course = models.ForeignKey(Course)\n",
    "\n",
    "    objects = models.Manager()\n",
    "\n",
    "    def __str__(self):\n",
    "        ''' Nicely print Teacher object '''\n",
    "        return '%s teaching %s' % (self.human.name, self.course.subject)\n"
   ]
  },
  {
   "cell_type": "markdown",
   "metadata": {},
   "source": [
    "### How to use the Django Models?\n",
    "#### 1. Let's add data to database"
   ]
  },
  {
   "cell_type": "code",
   "execution_count": null,
   "metadata": {},
   "outputs": [],
   "source": [
    "from our_project.models import Human\n",
    "\n",
    "# create a Human and add data\n",
    "h = Human()\n",
    "h.name = 'Anton'\n",
    "h.age = 34\n",
    "\n",
    "# save data to database\n",
    "h.save()"
   ]
  },
  {
   "cell_type": "markdown",
   "metadata": {},
   "source": [
    "#### 2. Now we can quit python and enter again"
   ]
  },
  {
   "cell_type": "code",
   "execution_count": null,
   "metadata": {},
   "outputs": [],
   "source": [
    "from our_project.models import Human\n",
    "\n",
    "# fetch all Humans from the database\n",
    "humans = Human.objects.all()\n",
    "\n",
    "# get the first one (the only one so far)\n",
    "h0 = humans[0]"
   ]
  },
  {
   "cell_type": "markdown",
   "metadata": {},
   "source": [
    "#### 3. Let's add more data and make a relation"
   ]
  },
  {
   "cell_type": "code",
   "execution_count": null,
   "metadata": {},
   "outputs": [],
   "source": [
    "from our_project.models import Course, Teacher"
   ]
  },
  {
   "cell_type": "code",
   "execution_count": null,
   "metadata": {},
   "outputs": [],
   "source": [
    "# we create and save a course\n",
    "c = Course()\n",
    "c.subject = 'Python'\n",
    "c.hours = 30\n",
    "c.save()\n",
    "\n",
    "# we create a teacher\n",
    "t = Teacher()\n",
    "\n",
    "# we create relations\n",
    "t.human = h0\n",
    "t.course = c\n",
    "t.save()"
   ]
  },
  {
   "cell_type": "markdown",
   "metadata": {},
   "source": [
    "#### Now the database contains\n",
    "* three tables: Human, Course and Teacher\n",
    "* two relations: Teacher --> Human and Teacher --> Course\n",
    "\n",
    "\n",
    "Let's fetch the data from the database."
   ]
  },
  {
   "cell_type": "code",
   "execution_count": null,
   "metadata": {},
   "outputs": [],
   "source": [
    "teachers = Teacher.objects.all()\n",
    "t0 = teachers[0]\n",
    "print t0.human.name\n",
    "print t0.human.age\n",
    "print t0.course.subject\n",
    "print t0.course.hours"
   ]
  },
  {
   "cell_type": "markdown",
   "metadata": {},
   "source": [
    "#### We can also search the database using a siple syntax"
   ]
  },
  {
   "cell_type": "code",
   "execution_count": null,
   "metadata": {},
   "outputs": [],
   "source": [
    "theTeacher = Teacher.objects.find(human__name__contains='An')\n",
    "theTeacher[0]"
   ]
  }
 ],
 "metadata": {
  "kernelspec": {
   "display_name": "Python 3",
   "language": "python",
   "name": "python3"
  },
  "language_info": {
   "codemirror_mode": {
    "name": "ipython",
    "version": 3
   },
   "file_extension": ".py",
   "mimetype": "text/x-python",
   "name": "python",
   "nbconvert_exporter": "python",
   "pygments_lexer": "ipython3",
   "version": "3.7.3"
  }
 },
 "nbformat": 4,
 "nbformat_minor": 1
}
