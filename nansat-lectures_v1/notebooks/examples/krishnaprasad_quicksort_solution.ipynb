{
 "metadata": {
  "name": "",
  "signature": "sha256:9b6921c0dc9f9ac1bb97430f6c9f32f46edf4ccb4b50b1138d421098790ac8b6"
 },
 "nbformat": 3,
 "nbformat_minor": 0,
 "worksheets": [
  {
   "cells": [
    {
     "cell_type": "code",
     "collapsed": false,
     "input": [
      "def quickSort(alist):\n",
      "   quickSortHelper(alist,0,len(alist)-1)\n",
      "\n",
      "def quickSortHelper(alist,first,last):\n",
      "   if first<last:\n",
      "\n",
      "       splitpoint = partition(alist,first,last)\n",
      "\n",
      "       quickSortHelper(alist,first,splitpoint-1)\n",
      "       quickSortHelper(alist,splitpoint+1,last)\n",
      "\n",
      "\n",
      "def partition(alist,first,last):\n",
      "   pivotvalue = alist[first]\n",
      "\n",
      "   leftmark = first+1\n",
      "   rightmark = last\n",
      "\n",
      "   done = False\n",
      "   while not done:\n",
      "\n",
      "       while leftmark <= rightmark and \\\n",
      "               alist[leftmark] <= pivotvalue:\n",
      "           leftmark = leftmark + 1\n",
      "\n",
      "       while alist[rightmark] >= pivotvalue and \\\n",
      "               rightmark >= leftmark:\n",
      "           rightmark = rightmark -1\n",
      "\n",
      "       if rightmark < leftmark:\n",
      "           done = True\n",
      "       else:\n",
      "           temp = alist[leftmark]\n",
      "           alist[leftmark] = alist[rightmark]\n",
      "           alist[rightmark] = temp\n",
      "\n",
      "   temp = alist[first]\n",
      "   alist[first] = alist[rightmark]\n",
      "   alist[rightmark] = temp\n",
      "\n",
      "\n",
      "   return rightmark\n",
      "\n",
      "alist = [54,26,93,17,77,1,44,55,20]\n",
      "quickSort(alist)\n",
      "print(alist)\n"
     ],
     "language": "python",
     "metadata": {},
     "outputs": [
      {
       "output_type": "stream",
       "stream": "stdout",
       "text": [
        "[1, 17, 20, 26, 44, 54, 55, 77, 93]\n"
       ]
      }
     ],
     "prompt_number": 1
    },
    {
     "cell_type": "code",
     "collapsed": false,
     "input": [],
     "language": "python",
     "metadata": {},
     "outputs": []
    }
   ],
   "metadata": {}
  }
 ]
}