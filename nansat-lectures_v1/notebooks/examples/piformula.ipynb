{
 "cells": [
  {
   "cell_type": "code",
   "execution_count": 5,
   "metadata": {
    "collapsed": false
   },
   "outputs": [
    {
     "name": "stdout",
     "output_type": "stream",
     "text": [
      "3.14080696083\n"
     ]
    }
   ],
   "source": [
    "pi = 1\n",
    "for i in range(1, 1000):\n",
    "    pi = pi * 4. * i ** 2. / (4. * i ** 2. - 1.)\n",
    "\n",
    "print pi * 2\n",
    "    \n"
   ]
  },
  {
   "cell_type": "code",
   "execution_count": 1,
   "metadata": {
    "collapsed": false
   },
   "outputs": [
    {
     "name": "stdout",
     "output_type": "stream",
     "text": [
      "198168 3.14158869029\n"
     ]
    }
   ],
   "source": [
    "pi = 1.\n",
    "dpi = 1\n",
    "i = 1\n",
    "precision = 0.00000000001\n",
    "while dpi > precision:\n",
    "    pi2 = pi * 4. * i ** 2. / (4. * i ** 2. - 1.)\n",
    "    dpi = pi2 - pi\n",
    "    pi = pi2\n",
    "    i += 1\n",
    "\n",
    "print i, pi * 2"
   ]
  },
  {
   "cell_type": "code",
   "execution_count": 7,
   "metadata": {
    "collapsed": false
   },
   "outputs": [
    {
     "name": "stdout",
     "output_type": "stream",
     "text": [
      "3.14158479958\n"
     ]
    }
   ],
   "source": [
    "import numpy as np\n",
    "\n",
    "ii = np.arange(1, 100000)\n",
    "pp = 4. * ii ** 2. / (4. * ii ** 2. - 1.) \n",
    "print 2 * pp.prod()\n"
   ]
  },
  {
   "cell_type": "code",
   "execution_count": null,
   "metadata": {
    "collapsed": false
   },
   "outputs": [],
   "source": []
  }
 ],
 "metadata": {
  "kernelspec": {
   "display_name": "Python 2",
   "language": "python",
   "name": "python2"
  },
  "language_info": {
   "codemirror_mode": {
    "name": "ipython",
    "version": 2
   },
   "file_extension": ".py",
   "mimetype": "text/x-python",
   "name": "python",
   "nbconvert_exporter": "python",
   "pygments_lexer": "ipython2",
   "version": "2.7.6"
  }
 },
 "nbformat": 4,
 "nbformat_minor": 0
}
