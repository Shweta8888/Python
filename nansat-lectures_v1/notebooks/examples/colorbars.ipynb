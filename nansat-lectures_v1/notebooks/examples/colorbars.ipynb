{
 "metadata": {
  "name": "",
  "signature": "sha256:3c305ab78eb4a36f2b2953130622bcf7ab568e232a1f9c4652a76edf8cacf9c0"
 },
 "nbformat": 3,
 "nbformat_minor": 0,
 "worksheets": [
  {
   "cells": [
    {
     "cell_type": "code",
     "collapsed": false,
     "input": [
      "from nansat import *\n",
      "%matplotlib inline"
     ],
     "language": "python",
     "metadata": {},
     "outputs": [],
     "prompt_number": 4
    },
    {
     "cell_type": "code",
     "collapsed": false,
     "input": [
      "from matplotlib import pyplot\n",
      "import matplotlib as mpl\n",
      "\n",
      "# Make a figure and axes with dimensions as desired.\n",
      "fig = pyplot.figure(figsize=(8,3))\n",
      "ax1 = fig.add_axes([0.05, 0.80, 0.9, 0.15])\n",
      "ax2 = fig.add_axes([0.05, 0.475, 0.9, 0.15])\n",
      "\n",
      "\n",
      "# ColorbarBase derives from ScalarMappable and puts a colorbar\n",
      "# in a specified axes, so it has everything needed for a\n",
      "# standalone colorbar.  There are many more kwargs, but the\n",
      "# following gives a basic continuous colorbar with ticks\n",
      "# and labels.\n",
      "cb1 = mpl.colorbar.ColorbarBase(ax1, cmap=mpl.cm.jet,\n",
      "                                   norm=mpl.colors.Normalize(vmin=-5, vmax=13),\n",
      "                                   orientation='horizontal')\n",
      "cb1.set_label('SST, K')\n",
      "\n",
      "\n",
      "# ColorbarBase derives from ScalarMappable and puts a colorbar\n",
      "# in a specified axes, so it has everything needed for a\n",
      "# standalone colorbar.  There are many more kwargs, but the\n",
      "# following gives a basic continuous colorbar with ticks\n",
      "# and labels.\n",
      "cb2 = mpl.colorbar.ColorbarBase(ax2, cmap=mpl.cm.bone,\n",
      "                                   norm=mpl.colors.Normalize(vmin=0, vmax=100),\n",
      "                                   orientation='horizontal')\n",
      "cb2.set_label('ice concentration, %')\n"
     ],
     "language": "python",
     "metadata": {},
     "outputs": [
      {
       "metadata": {},
       "output_type": "display_data",
       "png": "[encoded data removed]",
       "text": [
        "<matplotlib.figure.Figure at 0x7f983ddfab90>"
       ]
      }
     ],
     "prompt_number": 13
    },
    {
     "cell_type": "code",
     "collapsed": false,
     "input": [],
     "language": "python",
     "metadata": {},
     "outputs": []
    }
   ],
   "metadata": {}
  }
 ]
}