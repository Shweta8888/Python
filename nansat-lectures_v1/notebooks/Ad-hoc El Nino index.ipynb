{
 "cells": [
  {
   "cell_type": "markdown",
   "metadata": {},
   "source": [
    "## Exercise: Compute an ad-hoc El Nino index based on SST data between 2010 and 2017\n",
    "Tips:\n",
    "* Use Pandas to handle array indexing (with time), and for plotting\n",
    "* Try using Google and Python documentation to find help...\n",
    "\n",
    "### Input data\n",
    "SST: https://drive.google.com/file/d/0BwOH3Mmh7DGCYmRCamQ5THhsUDA/view?usp=sharing\n",
    "\n",
    "Time stamps: ```/vagrant/shared/course_vm/nansat-lectures/notebooks/data/times_ostia_-120_-130_-5_5.npy```\n",
    "\n",
    "### 1: Subtract seasonal signal by applying a 365 days low pass filter, then plot the spatial average as a timeseries\n",
    "\n",
    "### 2: Compute the anomaly of the inter-annual SST signal, i.e., the El Nino index, then plot the spatial average as a timeseries\n",
    "\n",
    "### 3: [OPTIONAL] The first and last 182 days of the filtered data will be invalid - how to get the best estimate of the anomalies during these periods?\n",
    "\n",
    "### 4: [OPTIONAL] Can you make a 2D animation of the SST variability in the region?\n"
   ]
  },
  {
   "cell_type": "code",
   "execution_count": null,
   "metadata": {},
   "outputs": [],
   "source": []
  }
 ],
 "metadata": {
  "kernelspec": {
   "display_name": "Python 2",
   "language": "python",
   "name": "python2"
  },
  "language_info": {
   "codemirror_mode": {
    "name": "ipython",
    "version": 2
   },
   "file_extension": ".py",
   "mimetype": "text/x-python",
   "name": "python",
   "nbconvert_exporter": "python",
   "pygments_lexer": "ipython2",
   "version": "2.7.13"
  }
 },
 "nbformat": 4,
 "nbformat_minor": 2
}
