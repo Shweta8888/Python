{
 "cells": [
  {
   "cell_type": "markdown",
   "metadata": {},
   "source": [
    "# Create your own database and fill it with data\n",
    "\n",
    "#### Create Django project\n",
    "#### Create first App (place to store your models)"
   ]
  },
  {
   "cell_type": "code",
   "execution_count": 2,
   "metadata": {},
   "outputs": [],
   "source": [
    "!django-admin startproject myproj1\n",
    "!cd myproj1 && django-admin startapp myapp1"
   ]
  },
  {
   "cell_type": "markdown",
   "metadata": {},
   "source": [
    "##### Copy the code below into notebooks/myproj1/myapp1/models.py"
   ]
  },
  {
   "cell_type": "code",
   "execution_count": 2,
   "metadata": {},
   "outputs": [],
   "source": [
    "from django.db import models\n",
    "\n",
    "class Profile(models.Model):\n",
    "    ''' Description of T/S Profile'''\n",
    "    lon = models.FloatField()\n",
    "    lat = models.FloatField()\n",
    "\n",
    "    \n",
    "class Variable(models.Model):\n",
    "    ''' Description of Temperature, Salinity, etc '''\n",
    "    name = models.CharField(max_length=200)\n",
    "    units = models.CharField(max_length=200)\n",
    "\n",
    "    \n",
    "class Measurement(models.Model):\n",
    "    ''' Description of a measurement '''\n",
    "    variable = models.ForeignKey(Variable, on_delete=models.CASCADE)\n",
    "    profile = models.ForeignKey(Profile, on_delete=models.CASCADE)\n",
    "    depth = models.FloatField()\n",
    "    value = models.FloatField()"
   ]
  },
  {
   "cell_type": "markdown",
   "metadata": {},
   "source": [
    "### Edit `notebooks/myproj1/myproj1/settings.py`"
   ]
  },
  {
   "cell_type": "code",
   "execution_count": null,
   "metadata": {},
   "outputs": [],
   "source": [
    "INSTALLED_APPS = (\n",
    "    'django.contrib.admin',\n",
    "    'django.contrib.auth',\n",
    "    'django.contrib.contenttypes',\n",
    "    'django.contrib.sessions',\n",
    "    'django.contrib.messages',\n",
    "    'django.contrib.staticfiles',\n",
    "    'myapp1',                        ### ADD THIS LINE. RESPECT SYNTAX!\n",
    ")"
   ]
  },
  {
   "cell_type": "markdown",
   "metadata": {},
   "source": [
    "## Migrate your models to your database"
   ]
  },
  {
   "cell_type": "code",
   "execution_count": 6,
   "metadata": {},
   "outputs": [
    {
     "name": "stdout",
     "output_type": "stream",
     "text": [
      "\u001b[36;1mMigrations for 'myapp1':\u001b[0m\n",
      "  \u001b[1mmyapp1/migrations/0001_initial.py\u001b[0m\n",
      "    - Create model Profile\n",
      "    - Create model Variable\n",
      "    - Create model Measurement\n",
      "\u001b[36;1mOperations to perform:\u001b[0m\n",
      "\u001b[1m  Apply all migrations: \u001b[0madmin, auth, contenttypes, myapp1, sessions\n",
      "\u001b[36;1mRunning migrations:\u001b[0m\n",
      "  Applying contenttypes.0001_initial...\u001b[32;1m OK\u001b[0m\n",
      "  Applying auth.0001_initial...\u001b[32;1m OK\u001b[0m\n",
      "  Applying admin.0001_initial...\u001b[32;1m OK\u001b[0m\n",
      "  Applying admin.0002_logentry_remove_auto_add...\u001b[32;1m OK\u001b[0m\n",
      "  Applying admin.0003_logentry_add_action_flag_choices...\u001b[32;1m OK\u001b[0m\n",
      "  Applying contenttypes.0002_remove_content_type_name...\u001b[32;1m OK\u001b[0m\n",
      "  Applying auth.0002_alter_permission_name_max_length...\u001b[32;1m OK\u001b[0m\n",
      "  Applying auth.0003_alter_user_email_max_length...\u001b[32;1m OK\u001b[0m\n",
      "  Applying auth.0004_alter_user_username_opts...\u001b[32;1m OK\u001b[0m\n",
      "  Applying auth.0005_alter_user_last_login_null...\u001b[32;1m OK\u001b[0m\n",
      "  Applying auth.0006_require_contenttypes_0002...\u001b[32;1m OK\u001b[0m\n",
      "  Applying auth.0007_alter_validators_add_error_messages...\u001b[32;1m OK\u001b[0m\n",
      "  Applying auth.0008_alter_user_username_max_length...\u001b[32;1m OK\u001b[0m\n",
      "  Applying auth.0009_alter_user_last_name_max_length...\u001b[32;1m OK\u001b[0m\n",
      "  Applying auth.0010_alter_group_name_max_length...\u001b[32;1m OK\u001b[0m\n",
      "  Applying auth.0011_update_proxy_permissions...\u001b[32;1m OK\u001b[0m\n",
      "  Applying myapp1.0001_initial...\u001b[32;1m OK\u001b[0m\n",
      "  Applying sessions.0001_initial...\u001b[32;1m OK\u001b[0m\n"
     ]
    }
   ],
   "source": [
    "!cd myproj1 && ./manage.py makemigrations && ./manage.py migrate"
   ]
  },
  {
   "cell_type": "markdown",
   "metadata": {},
   "source": [
    "## Use the database in IPython Notebook\n",
    "### Create a Notebook INSIDE `notebooks/myproj1`\n",
    "#### Copy the code from the cells below into your new notebook "
   ]
  },
  {
   "cell_type": "code",
   "execution_count": null,
   "metadata": {},
   "outputs": [],
   "source": [
    "import os, sys\n",
    "print(sys.path.append('/src/notebooks/myproj1/'))\n",
    "os.environ.setdefault(\"DJANGO_SETTINGS_MODULE\", \"myproj1.settings\")\n",
    "import django\n",
    "django.setup()\n",
    "\n",
    "from myapp1.models import Profile, Variable, Measurement\n",
    "\n",
    "%whos"
   ]
  },
  {
   "cell_type": "markdown",
   "metadata": {},
   "source": [
    "### Use your models. Create a profile, a variable and a measurement"
   ]
  },
  {
   "cell_type": "code",
   "execution_count": 3,
   "metadata": {},
   "outputs": [
    {
     "name": "stdout",
     "output_type": "stream",
     "text": [
      "[<Measurement: Measurement object>, <Measurement: Measurement object>]\n",
      "35.0\n",
      "10.0\n",
      "salinity\n"
     ]
    }
   ],
   "source": [
    "# create profile and add coordinates\n",
    "p = Profile()\n",
    "p.lon = 10\n",
    "p.lat = 20\n",
    "p.save()  # save into database\n",
    "\n",
    "# variable and add name, units\n",
    "v = Variable()\n",
    "v.name='salinity'\n",
    "v.units='psu'\n",
    "v.save()\n",
    "\n",
    "\n",
    "# create a measurement\n",
    "m = Measurement()\n",
    "m.variable = v\n",
    "m.profile = p\n",
    "m.depth = 10\n",
    "m.value = 35\n",
    "m.save()\n",
    "\n",
    "\n",
    "# Use your imagination\n",
    "# Create many more measurements\n",
    "\n",
    "# get all measurements\n",
    "ms = Measurement.objects.all()\n",
    "print (ms)\n",
    "print (ms[0].value)\n",
    "print (ms[0].profile.lon)\n",
    "print (ms[0].variable.name)\n",
    "\n",
    "# find only salinities\n",
    "salOnly = Measurement.objects.filter(variable__name='salinity')\n",
    "\n",
    "# find only measurements deeper than 5 m\n",
    "deepMes =  Measurement.objects.filter(depth__gte=5)"
   ]
  },
  {
   "cell_type": "markdown",
   "metadata": {},
   "source": [
    "## Run Django web-server (for advanced students)\n",
    "### Create superuser \n",
    "#### In the virtual machine, in `mynotebooks/myptoj1` run command\n",
    "```\n",
    "python manage.py createsuperuser\n",
    "```\n",
    "#### Enter your desired username and press enter.\n",
    "```\n",
    "Username: admin\n",
    "```\n",
    "#### Don't add email\n",
    "```\n",
    "Email address:\n",
    "```\n",
    "#### Add password 'vagrant'\n",
    "```\n",
    "Password: **********\n",
    "Password (again): *********\n",
    "Superuser created successfully.\n",
    "```\n",
    "### Edit `mynotebooks/myproj1/myapp1/admin.py` :"
   ]
  },
  {
   "cell_type": "code",
   "execution_count": null,
   "metadata": {
    "collapsed": true
   },
   "outputs": [],
   "source": [
    "from django.contrib import admin\n",
    "\n",
    "# Register your models here.\n",
    "from .models import Profile, Variable, Measurement\n",
    "\n",
    "admin.site.register(Profile)\n",
    "admin.site.register(Variable)\n",
    "admin.site.register(Measurement)"
   ]
  },
  {
   "cell_type": "markdown",
   "metadata": {},
   "source": [
    "### Run the server\n",
    "#### In the virtual machine, in `mynotebooks/myptoj1` run command\n",
    "```\n",
    "python manage.py runserver 0.0.0.0:8000\n",
    "```\n",
    "#### Open http://192.168.11.33:8000/admin in your browser\n",
    "#### Enter vagrant/vagrant as username and password\n",
    "#### Inspect your objects"
   ]
  },
  {
   "cell_type": "code",
   "execution_count": null,
   "metadata": {
    "collapsed": true
   },
   "outputs": [],
   "source": []
  }
 ],
 "metadata": {
  "kernelspec": {
   "display_name": "Python 3",
   "language": "python",
   "name": "python3"
  },
  "language_info": {
   "codemirror_mode": {
    "name": "ipython",
    "version": 3
   },
   "file_extension": ".py",
   "mimetype": "text/x-python",
   "name": "python",
   "nbconvert_exporter": "python",
   "pygments_lexer": "ipython3",
   "version": "3.7.3"
  }
 },
 "nbformat": 4,
 "nbformat_minor": 1
}
