{
 "cells": [
  {
   "cell_type": "code",
   "execution_count": 1,
   "metadata": {},
   "outputs": [],
   "source": [
    "import os\n",
    "\n",
    "import matplotlib as mpl\n",
    "import matplotlib.pyplot as plt\n",
    "from mpl_toolkits.basemap import Basemap\n",
    "import numpy as np\n",
    "import datetime\n",
    "from matplotlib.ticker import FormatStrFormatter\n",
    "from matplotlib.ticker import ScalarFormatter\n",
    "\n",
    "import h5py\n",
    "import datetime as dt\n",
    "from scipy.interpolate import griddata\n",
    "import xarray as xr"
   ]
  },
  {
   "cell_type": "code",
   "execution_count": 2,
   "metadata": {},
   "outputs": [],
   "source": [
    "FILE_NAME = 'MLS-Aura_L2GP-H2O_v04-23-c01_2019d222.he5'\n",
    "file = h5py.File(FILE_NAME, 'r')"
   ]
  },
  {
   "cell_type": "code",
   "execution_count": 3,
   "metadata": {},
   "outputs": [],
   "source": [
    "dset = file['HDFEOS']['SWATHS']['H2O']['Data Fields']['H2O']\n",
    "data_h2o = dset[:, :]\n",
    "dset = file['HDFEOS']['SWATHS']['H2O']['Data Fields']['H2OPrecision']\n",
    "data_h2o_precision = dset[:]\n",
    "dset = file['HDFEOS']['SWATHS']['H2O']['Data Fields']['Status']\n",
    "data_h2o_status = dset[:]\n",
    "dset = file['HDFEOS']['SWATHS']['H2O']['Data Fields']['Quality']\n",
    "data_quality = dset[:]\n",
    "dset = file['HDFEOS']['SWATHS']['H2O']['Data Fields']['Convergence']\n",
    "data_convergence = dset[:]\n",
    "\n",
    "dset = file['HDFEOS']['SWATHS']['H2O-APriori']['Data Fields']['H2O-APriori']\n",
    "data_h2o_apriori = dset[:, :]\n",
    "dset = file['HDFEOS']['SWATHS']['H2O-APriori']['Data Fields']['H2O-APrioriPrecision']\n",
    "data_h2o_apriori_precision = dset[:]\n",
    "dset = file['HDFEOS']['SWATHS']['H2O-APriori']['Data Fields']['Status']\n",
    "data_h2o_apriori_status = dset[:]\n",
    "dset = file['HDFEOS']['SWATHS']['H2O-APriori']['Data Fields']['Quality']\n",
    "data_quality_ = dset[:]\n",
    "dset = file['HDFEOS']['SWATHS']['H2O-APriori']['Data Fields']['Convergence']\n",
    "data_convergence_ = dset[:]\n",
    "\n",
    "\n",
    "\n",
    "dset = file['HDFEOS']['SWATHS']['H2O']['Geolocation Fields']['Latitude']\n",
    "data_lat = dset[:]\n",
    "dset = file['HDFEOS']['SWATHS']['H2O']['Geolocation Fields']['Longitude']\n",
    "data_lon = dset[:]\n",
    "dset = file['HDFEOS']['SWATHS']['H2O']['Geolocation Fields']['Pressure']\n",
    "data_pres = dset[:]\n",
    "dset = file['HDFEOS']['SWATHS']['H2O']['Geolocation Fields']['Time']\n",
    "data_time = FILE_NAME\n",
    "\n",
    "dset = file['HDFEOS']['SWATHS']['H2O-APriori']['Geolocation Fields']['Latitude']\n",
    "data_lat_ = dset[:]\n",
    "dset = file['HDFEOS']['SWATHS']['H2O-APriori']['Geolocation Fields']['Longitude']\n",
    "data_lon_ = dset[:]\n",
    "dset = file['HDFEOS']['SWATHS']['H2O-APriori']['Geolocation Fields']['Pressure']\n",
    "data_pres_ = dset[:]\n",
    "\n",
    "dt_ = datetime.datetime.strptime(data_time[29:33]+\"0101\", '%Y%m%d') + datetime.timedelta(days=int(data_time[34:37])) - datetime.timedelta(days=1)\n",
    "\n",
    "data_h2o[data_h2o==-999.99] = np.nan\n",
    "data_h2o[data_lat==-999.99] = np.nan\n",
    "data_h2o[data_lon==-999.99] = np.nan\n",
    "\n",
    "data_h2o_apriori[data_h2o_apriori==-999.99] = np.nan\n",
    "data_h2o_apriori[data_lat_==-999.99] = np.nan\n",
    "data_h2o_apriori[data_lon_==-999.99] = np.nan\n",
    "\n",
    "data_h2o[data_h2o_precision<0] = np.nan\n",
    "data_h2o[data_quality<=1.45] = np.nan\n",
    "data_h2o[data_convergence>=2.0] = np.nan\n",
    "data_h2o[data_h2o_status%2!=0] = np.nan\n",
    "\n",
    "data_h2o_apriori[data_h2o_apriori_precision<0] = np.nan\n",
    "data_h2o_apriori[data_quality_<=1.45] = np.nan\n",
    "data_h2o_apriori[data_convergence_>=2.0] = np.nan\n",
    "data_h2o_apriori[data_h2o_apriori_status%2!=0] = np.nan"
   ]
  },
  {
   "cell_type": "code",
   "execution_count": 4,
   "metadata": {},
   "outputs": [],
   "source": [
    "grid_x, grid_y = np.mgrid[-180:180:2.5, -82.5:84.5:2.5]\n",
    "points = np.random.rand(data_lat.shape[0], 2)\n",
    "points[:,0] = data_lon[:]\n",
    "points[:,1] = data_lat[:]\n",
    "\n",
    "out_data_h2o = np.zeros((1,data_h2o.shape[1], grid_x.shape[1], grid_x.shape[0]))\n",
    "out_data_h2o_a = np.zeros((1,data_h2o.shape[1], grid_x.shape[1], grid_x.shape[0]))\n",
    "for i_z in range(data_h2o.shape[1]):\n",
    "    values = data_h2o[:,i_z]\n",
    "    values_ = data_h2o_apriori[:,i_z]\n",
    "\n",
    "    values[values ==-999.99] = np.nan\n",
    "    values_[values_ ==-999.99] = np.nan\n",
    "    grid_z0 = griddata(points, values, (grid_x, grid_y), method='nearest')\n",
    "    grid_z1 = griddata(points, values_, (grid_x, grid_y), method='nearest')\n",
    "    out_data_h2o[0,i_z,:,:] = grid_z0.T\n",
    "    out_data_h2o_a[0,i_z,:,:] = grid_z1.T"
   ]
  },
  {
   "cell_type": "code",
   "execution_count": 15,
   "metadata": {},
   "outputs": [],
   "source": [
    "ds = xr.Dataset({'h2o': (('time', 'levels', 'latitude', 'longitude'), out_data_h2o)},\n",
    "                        coords={ 'time':np.atleast_1d(dt_),\n",
    "                                'levels': data_pres,\n",
    "                                'latitude': grid_y[0,:],\n",
    "                                'longitude': grid_x[:,0]})\n",
    "\n",
    "ds['h2o_a'] = (('time', 'levels', 'latitude', 'longitude'), out_data_h2o_a)\n",
    "\n",
    "ds.h2o.attrs['long_name'] = 'Water Vapor'\n",
    "ds.h2o_a.attrs['long_name'] = 'Water Vapor apriori'\n",
    "ds.h2o.attrs['units'] = 'ppmv'\n",
    "ds.h2o_a.attrs['units'] = 'ppmv'\n",
    "ds.latitude.attrs['long_name'] = 'latitude'\n",
    "ds.latitude.attrs['units'] = 'degree_north'\n",
    "ds.longitude.attrs['long_name'] = 'longitude'\n",
    "ds.longitude.attrs['units'] = 'degree_east'\n",
    "ds.levels.attrs['long_name'] = 'pressure'\n",
    "ds.levels.attrs['units'] = 'hPa'"
   ]
  },
  {
   "cell_type": "code",
   "execution_count": 20,
   "metadata": {},
   "outputs": [],
   "source": [
    "ds.to_netcdf(FILE_NAME[:-4]+'.nc')"
   ]
  }
 ],
 "metadata": {
  "kernelspec": {
   "display_name": "Python 3",
   "language": "python",
   "name": "python3"
  },
  "language_info": {
   "codemirror_mode": {
    "name": "ipython",
    "version": 3
   },
   "file_extension": ".py",
   "mimetype": "text/x-python",
   "name": "python",
   "nbconvert_exporter": "python",
   "pygments_lexer": "ipython3",
   "version": "3.7.7"
  }
 },
 "nbformat": 4,
 "nbformat_minor": 4
}
