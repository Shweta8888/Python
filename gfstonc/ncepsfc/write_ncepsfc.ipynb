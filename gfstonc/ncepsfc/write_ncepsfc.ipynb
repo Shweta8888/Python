{
 "cells": [
  {
   "cell_type": "code",
   "execution_count": 18,
   "metadata": {},
   "outputs": [],
   "source": [
    "import numpy as np\n",
    "from ncepsigma import Spharmt\n",
    "class ncepsfc(object):\n",
    "    # read ncep 'sfc' file (fortran gridded binary data)\n",
    "    def __init__(self,filename):\n",
    "        from _read_sfc import read_griddata, read_header\n",
    "        from _write_sfc import write_griddata\n",
    "        nlons,nlats,lsoil,idate,fhour = read_header(filename)\n",
    "        self._read_griddata = read_griddata\n",
    "        self._write_griddata = write_griddata\n",
    "        self.nlons = nlons; self.nlats = nlats\n",
    "        self.lsoil = lsoil\n",
    "        #self.idate = '%04i%02i%02i%02i' % (idate[3],idate[1],idate[2],idate[0])\n",
    "        self.idate = idate\n",
    "        self.fhour = fhour\n",
    "        self.filename = filename\n",
    "        sp = Spharmt(nlons,nlats,nlats/2,6.3712e6,gridtype='gaussian')\n",
    "        self.lats = (180./np.pi)*sp.lats\n",
    "        self.lons = (360./nlons)*np.arange(nlons)\n",
    "    def griddata(self):\n",
    "        grids2d,grids2d_desc,grids2d_name,grids3d,grids3d_desc,grids3d_name = self._read_griddata(self.filename,self.nlons,self.nlats,self.lsoil)\n",
    "        grds2d_desc = []\n",
    "        for n in range(grids2d_desc.shape[0]):\n",
    "            s = grids2d_desc[n].tostring()\n",
    "            s = s.encode('ascii').replace('\\x00','').strip()\n",
    "            grds2d_desc.append(s)\n",
    "        grds2d_name = []\n",
    "        for n in range(grids2d_name.shape[0]):\n",
    "            s = grids2d_name[n].tostring()\n",
    "            s = s.encode('ascii').replace('\\x00','').strip()\n",
    "            grds2d_name.append(s)\n",
    "        grds3d_desc = []\n",
    "        for n in range(grids3d_desc.shape[0]):\n",
    "            s = grids3d_desc[n].tostring()\n",
    "            s = s.encode('ascii').replace('\\x00','').strip()\n",
    "            grds3d_desc.append(s)\n",
    "        grds3d_name = []\n",
    "        for n in range(grids3d_name.shape[0]):\n",
    "            s = grids3d_name[n].tostring()\n",
    "            s = s.encode('ascii').replace('\\x00','').strip()\n",
    "            grds3d_name.append(s)\n",
    "        return grids2d.T,grds2d_desc,grds2d_name,grids3d.T,grds3d_desc,grds3d_name"
   ]
  },
  {
   "cell_type": "code",
   "execution_count": 19,
   "metadata": {},
   "outputs": [],
   "source": [
    "sfc_gdas = ncepsfc('sfcf00.gdas2.1979010100')\n",
    "grids2d,grds2d_desc,grds2d_name,grids3d,grds3d_desc,grds3d_name = sfc_gdas.griddata()"
   ]
  },
  {
   "cell_type": "code",
   "execution_count": 20,
   "metadata": {},
   "outputs": [],
   "source": [
    "import xarray as xr\n",
    "data_dir = 'sfcf00.gdas2.1979010100_o.nc' \n",
    "ds_sfc_gdas = xr.open_dataset(data_dir)"
   ]
  },
  {
   "cell_type": "code",
   "execution_count": 21,
   "metadata": {},
   "outputs": [],
   "source": [
    "#sfc._write_griddata('test_ini', idate, fhour, grids2d.T, grids3d.T)"
   ]
  },
  {
   "cell_type": "code",
   "execution_count": 22,
   "metadata": {},
   "outputs": [
    {
     "name": "stdout",
     "output_type": "stream",
     "text": [
      "((32, 190, 384), ['slmsk', 'orog', 'tsea', 'sheleg', 'tg3', 'zorl', 'alvsf', 'alvwf', 'alnsf', 'alnwf', 'vfrac', 'canopy', 'f10m', 't2m', 'q2m', 'vtype', 'stype', 'facsf', 'facwf', 'uustar', 'ffmm', 'ffhh', 'hice', 'fice', 'tisfc', 'tprcp', 'srflag', 'snwdph', 'shdmin', 'shdmax', 'slope', 'snoalb'], (3, 4, 190, 384))\n"
     ]
    }
   ],
   "source": [
    "print(grids2d.shape, grds2d_name, grids3d.shape)"
   ]
  },
  {
   "cell_type": "code",
   "execution_count": 23,
   "metadata": {
    "scrolled": true
   },
   "outputs": [
    {
     "data": {
      "text/plain": [
       "<xarray.Dataset>\n",
       "Dimensions:  (lat: 94, layer: 4, lon: 192)\n",
       "Coordinates:\n",
       "  * layer    (layer) int32 1 2 3 4\n",
       "  * lon      (lon) float32 0.0 1.875 3.75 5.625 ... 352.5 354.375 356.25 358.125\n",
       "  * lat      (lat) float32 88.54195 86.65317 84.75323 ... -86.65317 -88.54195\n",
       "Data variables:\n",
       "    slmsk    (lat, lon) float64 ...\n",
       "    orog     (lat, lon) float64 ...\n",
       "    tsea     (lat, lon) float64 ...\n",
       "    sheleg   (lat, lon) float64 ...\n",
       "    tg3      (lat, lon) float64 ...\n",
       "    zorl     (lat, lon) float64 ...\n",
       "    alvsf    (lat, lon) float64 ...\n",
       "    alvwf    (lat, lon) float64 ...\n",
       "    alnsf    (lat, lon) float64 ...\n",
       "    alnwf    (lat, lon) float64 ...\n",
       "    vfrac    (lat, lon) float64 ...\n",
       "    canopy   (lat, lon) float64 ...\n",
       "    f10m     (lat, lon) float64 ...\n",
       "    t2m      (lat, lon) float64 ...\n",
       "    q2m      (lat, lon) float64 ...\n",
       "    vtype    (lat, lon) float64 ...\n",
       "    stype    (lat, lon) float64 ...\n",
       "    facsf    (lat, lon) float64 ...\n",
       "    facwf    (lat, lon) float64 ...\n",
       "    uustar   (lat, lon) float64 ...\n",
       "    ffmm     (lat, lon) float64 ...\n",
       "    ffhh     (lat, lon) float64 ...\n",
       "    hice     (lat, lon) float64 ...\n",
       "    fice     (lat, lon) float64 ...\n",
       "    tisfc    (lat, lon) float64 ...\n",
       "    tprcp    (lat, lon) float64 ...\n",
       "    srflag   (lat, lon) float64 ...\n",
       "    snwdph   (lat, lon) float64 ...\n",
       "    shdmin   (lat, lon) float64 ...\n",
       "    shdmax   (lat, lon) float64 ...\n",
       "    slope    (lat, lon) float64 ...\n",
       "    snoalb   (lat, lon) float64 ...\n",
       "    stc      (layer, lat, lon) float64 ...\n",
       "    smc      (layer, lat, lon) float64 ...\n",
       "    slc      (layer, lat, lon) float64 ...\n",
       "Attributes:\n",
       "    regrid_method:  bilinear"
      ]
     },
     "execution_count": 23,
     "metadata": {},
     "output_type": "execute_result"
    }
   ],
   "source": [
    "ds_sfc_gdas"
   ]
  },
  {
   "cell_type": "code",
   "execution_count": 24,
   "metadata": {},
   "outputs": [
    {
     "data": {
      "text/plain": [
       "<matplotlib.contour.QuadContourSet at 0x7f2cd8361d10>"
      ]
     },
     "execution_count": 24,
     "metadata": {},
     "output_type": "execute_result"
    },
    {
     "data": {
      "image/png": "[encoded data removed]",
      "text/plain": [
       "<Figure size 432x288 with 1 Axes>"
      ]
     },
     "metadata": {
      "needs_background": "light"
     },
     "output_type": "display_data"
    }
   ],
   "source": [
    "import matplotlib.pyplot as plt\n",
    "plt.contourf(grids2d[0].T)"
   ]
  },
  {
   "cell_type": "code",
   "execution_count": 25,
   "metadata": {},
   "outputs": [
    {
     "data": {
      "text/plain": [
       "(384, 190)"
      ]
     },
     "execution_count": 25,
     "metadata": {},
     "output_type": "execute_result"
    }
   ],
   "source": [
    "grids2d[0].T.shape"
   ]
  },
  {
   "cell_type": "code",
   "execution_count": 26,
   "metadata": {},
   "outputs": [
    {
     "data": {
      "text/plain": [
       "(192, 94)"
      ]
     },
     "execution_count": 26,
     "metadata": {},
     "output_type": "execute_result"
    }
   ],
   "source": [
    "ds_sfc_gdas.slmsk.values.T.shape"
   ]
  },
  {
   "cell_type": "code",
   "execution_count": 27,
   "metadata": {},
   "outputs": [
    {
     "data": {
      "text/plain": [
       "<matplotlib.contour.QuadContourSet at 0x7f2cd82a6350>"
      ]
     },
     "execution_count": 27,
     "metadata": {},
     "output_type": "execute_result"
    },
    {
     "data": {
      "image/png": "[encoded data removed]",
      "text/plain": [
       "<Figure size 432x288 with 1 Axes>"
      ]
     },
     "metadata": {
      "needs_background": "light"
     },
     "output_type": "display_data"
    }
   ],
   "source": [
    "plt.contourf(ds_sfc_gdas.slmsk.values.T)"
   ]
  },
  {
   "cell_type": "code",
   "execution_count": 28,
   "metadata": {},
   "outputs": [],
   "source": [
    "grids2d = np.zeros((32,ds_sfc_gdas.slmsk.values.T.shape[1],ds_sfc_gdas.slmsk.values.T.shape[0]))\n",
    "grids3d = np.zeros((3,4,ds_sfc_gdas.slmsk.values.T.shape[1],ds_sfc_gdas.slmsk.values.T.shape[0]))\n",
    "grids2d[0,:,:]   = ds_sfc_gdas.slmsk.values\n",
    "grids2d[1,:,:]   = ds_sfc_gdas.orog.values\n",
    "grids2d[2,:,:]   = ds_sfc_gdas.tsea.values\n",
    "grids2d[3,:,:]   = ds_sfc_gdas.sheleg.values\n",
    "grids2d[4,:,:]   = ds_sfc_gdas.tg3.values\n",
    "grids2d[5,:,:]   = ds_sfc_gdas.zorl.values\n",
    "grids2d[6,:,:]   = ds_sfc_gdas.alvsf.values\n",
    "grids2d[7,:,:]   = ds_sfc_gdas.alvwf.values\n",
    "grids2d[8,:,:]   = ds_sfc_gdas.alnsf.values\n",
    "grids2d[9,:,:]   = ds_sfc_gdas.alnwf.values\n",
    "grids2d[10,:,:]   = ds_sfc_gdas.vfrac.values\n",
    "grids2d[11,:,:]   = ds_sfc_gdas.canopy.values\n",
    "grids2d[12,:,:]  = ds_sfc_gdas.f10m.values\n",
    "grids2d[13,:,:]  = ds_sfc_gdas.t2m.values\n",
    "grids2d[14,:,:]  = ds_sfc_gdas.q2m.values\n",
    "grids2d[15,:,:]  = ds_sfc_gdas.vtype.values\n",
    "grids2d[16,:,:]  = ds_sfc_gdas.stype.values\n",
    "grids2d[17,:,:]  = ds_sfc_gdas.facsf.values\n",
    "grids2d[18,:,:]  = ds_sfc_gdas.facwf.values\n",
    "grids2d[19,:,:]  = ds_sfc_gdas.uustar.values\n",
    "grids2d[20,:,:]  = ds_sfc_gdas.ffmm.values\n",
    "grids2d[21,:,:]  = ds_sfc_gdas.ffhh.values\n",
    "grids2d[22,:,:]  = ds_sfc_gdas.hice.values\n",
    "grids2d[23,:,:]  = ds_sfc_gdas.fice.values\n",
    "grids2d[24,:,:]  = ds_sfc_gdas.tisfc.values\n",
    "grids2d[25,:,:]  = ds_sfc_gdas.tprcp.values\n",
    "grids2d[26,:,:]  = ds_sfc_gdas.srflag.values\n",
    "grids2d[27,:,:]  = ds_sfc_gdas.snwdph.values\n",
    "grids2d[28,:,:]  = ds_sfc_gdas.shdmin.values\n",
    "grids2d[29,:,:]  = ds_sfc_gdas.shdmax.values\n",
    "grids2d[30,:,:]  = ds_sfc_gdas.slope.values\n",
    "grids2d[31,:,:]  = ds_sfc_gdas.snoalb.values\n",
    "\n",
    "for lay_i in range(4):\n",
    "    grids3d[0,lay_i,:,:] = ds_sfc_gdas.stc.values[lay_i,:,:]\n",
    "    grids3d[1,lay_i,:,:] = ds_sfc_gdas.smc.values[lay_i,:,:]\n",
    "    grids3d[2,lay_i,:,:] = ds_sfc_gdas.slc.values[lay_i,:,:]"
   ]
  },
  {
   "cell_type": "code",
   "execution_count": 29,
   "metadata": {},
   "outputs": [
    {
     "data": {
      "text/plain": [
       "<matplotlib.contour.QuadContourSet at 0x7f2cd81c0810>"
      ]
     },
     "execution_count": 29,
     "metadata": {},
     "output_type": "execute_result"
    },
    {
     "data": {
      "image/png": "[encoded data removed]",
      "text/plain": [
       "<Figure size 432x288 with 1 Axes>"
      ]
     },
     "metadata": {
      "needs_background": "light"
     },
     "output_type": "display_data"
    }
   ],
   "source": [
    "plt.contourf(grids2d[0].T)"
   ]
  },
  {
   "cell_type": "code",
   "execution_count": 30,
   "metadata": {},
   "outputs": [],
   "source": [
    "# comparing this with sig_ini"
   ]
  },
  {
   "cell_type": "code",
   "execution_count": 35,
   "metadata": {},
   "outputs": [],
   "source": [
    "sfc_ini = ncepsfc('sfc_ini')\n",
    "grids2d_,grds2d_desc_,grds2d_name_,grids3d_,grds3d_desc_,grds3d_name_ = sfc_ini.griddata()"
   ]
  },
  {
   "cell_type": "code",
   "execution_count": 36,
   "metadata": {},
   "outputs": [
    {
     "data": {
      "text/plain": [
       "<matplotlib.contour.QuadContourSet at 0x7f2cd8036dd0>"
      ]
     },
     "execution_count": 36,
     "metadata": {},
     "output_type": "execute_result"
    },
    {
     "data": {
      "image/png": "[encoded data removed]",
      "text/plain": [
       "<Figure size 432x288 with 1 Axes>"
      ]
     },
     "metadata": {
      "needs_background": "light"
     },
     "output_type": "display_data"
    }
   ],
   "source": [
    "plt.contourf(grids2d_[0].T)"
   ]
  },
  {
   "cell_type": "code",
   "execution_count": 37,
   "metadata": {},
   "outputs": [
    {
     "name": "stdout",
     "output_type": "stream",
     "text": [
      "((32, 94, 192), (32, 94, 192))\n"
     ]
    }
   ],
   "source": [
    "print(grids2d.shape, grids2d_.shape)"
   ]
  },
  {
   "cell_type": "code",
   "execution_count": 38,
   "metadata": {},
   "outputs": [],
   "source": [
    "sfc_ini._write_griddata('test_ini_', sfc_gdas.idate, sfc_gdas.fhour, grids2d.T, grids3d.T)"
   ]
  },
  {
   "cell_type": "code",
   "execution_count": 39,
   "metadata": {},
   "outputs": [],
   "source": [
    "sfc_ini = ncepsfc('test_ini_')\n",
    "grids2d_,grds2d_desc_,grds2d_name_,grids3d_,grds3d_desc_,grds3d_name_ = sfc_ini.griddata()"
   ]
  },
  {
   "cell_type": "code",
   "execution_count": 40,
   "metadata": {},
   "outputs": [
    {
     "data": {
      "text/plain": [
       "192"
      ]
     },
     "execution_count": 40,
     "metadata": {},
     "output_type": "execute_result"
    }
   ],
   "source": [
    "sfc_ini.nlons"
   ]
  },
  {
   "cell_type": "code",
   "execution_count": 41,
   "metadata": {},
   "outputs": [
    {
     "data": {
      "text/plain": [
       "94"
      ]
     },
     "execution_count": 41,
     "metadata": {},
     "output_type": "execute_result"
    }
   ],
   "source": [
    "sfc_ini.nlats"
   ]
  },
  {
   "cell_type": "code",
   "execution_count": 42,
   "metadata": {},
   "outputs": [
    {
     "data": {
      "text/plain": [
       "4"
      ]
     },
     "execution_count": 42,
     "metadata": {},
     "output_type": "execute_result"
    }
   ],
   "source": [
    "sfc_ini.lsoil"
   ]
  },
  {
   "cell_type": "code",
   "execution_count": 43,
   "metadata": {},
   "outputs": [
    {
     "data": {
      "text/plain": [
       "['slmsk',\n",
       " 'orog',\n",
       " 'tsea',\n",
       " 'sheleg',\n",
       " 'tg3',\n",
       " 'zorl',\n",
       " 'alvsf',\n",
       " 'alvwf',\n",
       " 'alnsf',\n",
       " 'alnwf',\n",
       " 'vfrac',\n",
       " 'canopy',\n",
       " 'f10m',\n",
       " 't2m',\n",
       " 'q2m',\n",
       " 'vtype',\n",
       " 'stype',\n",
       " 'facsf',\n",
       " 'facwf',\n",
       " 'uustar',\n",
       " 'ffmm',\n",
       " 'ffhh',\n",
       " 'hice',\n",
       " 'fice',\n",
       " 'tisfc',\n",
       " 'tprcp',\n",
       " 'srflag',\n",
       " 'snwdph',\n",
       " 'shdmin',\n",
       " 'shdmax',\n",
       " 'slope',\n",
       " 'snoalb']"
      ]
     },
     "execution_count": 43,
     "metadata": {},
     "output_type": "execute_result"
    }
   ],
   "source": [
    "grds2d_name_"
   ]
  },
  {
   "cell_type": "code",
   "execution_count": null,
   "metadata": {},
   "outputs": [],
   "source": []
  }
 ],
 "metadata": {
  "kernelspec": {
   "display_name": "Python 2",
   "language": "python",
   "name": "python2"
  },
  "language_info": {
   "codemirror_mode": {
    "name": "ipython",
    "version": 2
   },
   "file_extension": ".py",
   "mimetype": "text/x-python",
   "name": "python",
   "nbconvert_exporter": "python",
   "pygments_lexer": "ipython2",
   "version": "2.7.17"
  }
 },
 "nbformat": 4,
 "nbformat_minor": 2
}
