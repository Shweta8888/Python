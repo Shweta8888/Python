{
 "metadata": {
  "name": "",
  "signature": "sha256:182b0d5c340ec4e48c79272d9f6b3f2c6367073c1c82aa3245201b7796151e74"
 },
 "nbformat": 3,
 "nbformat_minor": 0,
 "worksheets": [
  {
   "cells": [
    {
     "cell_type": "heading",
     "level": 1,
     "metadata": {},
     "source": [
      "Surface wave statistics"
     ]
    },
    {
     "cell_type": "markdown",
     "metadata": {},
     "source": [
      "This is a head start for Homework 1, items 2 and 3, due February 3."
     ]
    },
    {
     "cell_type": "markdown",
     "metadata": {},
     "source": [
      "Two time series of sea-surface height (SSH) sampled at 1 Hz are provided in a Matlab binary file.  The assignment requires first looking at the distribution of SSH itself, and then looking at wave heights, which are peak-to-trough distances.  It is suggested that the SSH distribution might be approximately Gaussian, while the heights, which are of course positive-definite, might fit a Rayleigh distribution. "
     ]
    },
    {
     "cell_type": "code",
     "collapsed": false,
     "input": [
      "%matplotlib inline\n",
      "\n",
      "import os\n",
      "from six.moves import urllib # six is for Python 2/3 compatibility\n",
      "\n",
      "import numpy as np\n",
      "import matplotlib.pyplot as plt\n",
      "\n",
      "# Direct access to Matlab binary file contents\n",
      "from scipy.io import loadmat\n",
      "\n",
      "# My more convenient access to Matlab files\n",
      "from pycurrents.file import matfile"
     ],
     "language": "python",
     "metadata": {},
     "outputs": [],
     "prompt_number": 1
    },
    {
     "cell_type": "code",
     "collapsed": false,
     "input": [
      "urlbase =  \"http://currents.soest.hawaii.edu/ocn_data_analysis_files/data/\"\n",
      "fn = \"wave_kahului.mat\"\n",
      "\n",
      "# We will only download a file if we don't already have it.\n",
      "if not os.path.exists(fn):\n",
      "    urllib.request.urlretrieve(urlbase + fn, fn)\n",
      "    print(\"Retrieved: \", fn)\n",
      "else:\n",
      "    print(\"Found: \", fn)"
     ],
     "language": "python",
     "metadata": {},
     "outputs": [
      {
       "output_type": "stream",
       "stream": "stdout",
       "text": [
        "Found:  wave_kahului.mat\n"
       ]
      }
     ],
     "prompt_number": 2
    },
    {
     "cell_type": "markdown",
     "metadata": {},
     "source": [
      "The core reader in Python for Matlab binary files is `scipy.io.loadmat`.  For very simple files it works fine as-is, but for files with more complex internal structure it is awkward.  Therefore I wrote a wrapper, `loadmatbunch`--a function that uses `scipy.io.loadmat` and then manipulates the data structures to make them easier to use.  Let's see what we get first with plain `loadmat`."
     ]
    },
    {
     "cell_type": "code",
     "collapsed": false,
     "input": [
      "waves = loadmat(fn)\n",
      "print(waves.keys())\n",
      "eta1 = waves['eta1']\n",
      "eta2 = waves['eta2']\n",
      "print('eta1 is a', type(eta1))\n",
      "print(eta1.shape, eta1.dtype)\n",
      "print('eta2 is a', type(eta2))\n",
      "print(eta2.shape, eta2.dtype)"
     ],
     "language": "python",
     "metadata": {},
     "outputs": [
      {
       "output_type": "stream",
       "stream": "stdout",
       "text": [
        "dict_keys(['eta2', '__version__', '__header__', '__globals__', 'eta1'])\n",
        "eta1 is a <class 'numpy.ndarray'>\n",
        "(8192, 1) >f8\n",
        "eta2 is a <class 'numpy.ndarray'>\n",
        "(8192, 1) >f8\n"
       ]
      }
     ],
     "prompt_number": 3
    },
    {
     "cell_type": "markdown",
     "metadata": {},
     "source": [
      "We see that `loadmat` has returned a dictionary with two variables, each of which is a 2-D array with a single column.  Matlab has stored the 1-D data as 2-D because it doesn't know any better--everything is a matrix.  If you want `loadmat` to to fix this, so that it returns the 1-D array one would expect in Python, you can use the `squeeze_me=True` kwarg.  There are many kwargs that you can use to modify the way that `loadmat` translates from Matlab to Python.  It can be confusing.  Therefore I wrote `loadmatbunch`, which generally does what I want by default.  It returns a data container class called a `Bunch`; if the matfile contains structured data, then the result will be a nested set of Bunches.  Don't worry about that for now; all we need is the simplest behavior, which will be made clear by example.\n",
      "\n",
      "First, let's use `showmatbunch` to display the contents of the file.  It returns a string, so we need to print its output:"
     ]
    },
    {
     "cell_type": "code",
     "collapsed": false,
     "input": [
      "print(matfile.showmatbunch(fn))"
     ],
     "language": "python",
     "metadata": {},
     "outputs": [
      {
       "output_type": "stream",
       "stream": "stdout",
       "text": [
        "eta1  : ndarray, shape (8192,), dtype >f8\n",
        "eta2  : ndarray, shape (8192,), dtype >f8\n",
        "\n"
       ]
      }
     ],
     "prompt_number": 4
    },
    {
     "cell_type": "markdown",
     "metadata": {},
     "source": [
      "Now we know what to expect.  Let's load the file."
     ]
    },
    {
     "cell_type": "code",
     "collapsed": false,
     "input": [
      "dat = matfile.loadmatbunch(fn)\n",
      "# A Bunch acts like a dictionary:\n",
      "print(dat.keys())\n",
      "print(dat['eta1'].shape, dat['eta1'].dtype)\n",
      "\n",
      "# but items can also be accessed using dot notation:\n",
      "print(dat.eta1[:5])\n",
      "print(dat.eta1.shape, dat.eta1.dtype)"
     ],
     "language": "python",
     "metadata": {},
     "outputs": [
      {
       "output_type": "stream",
       "stream": "stdout",
       "text": [
        "dict_keys(['eta2', 'eta1'])\n",
        "(8192,) >f8\n",
        "[-0.07410645 -0.07670645 -0.08030645 -0.06090645 -0.01410645]\n",
        "(8192,) >f8\n"
       ]
      }
     ],
     "prompt_number": 5
    },
    {
     "cell_type": "markdown",
     "metadata": {},
     "source": [
      "This is convenient.  The 1-D arrays really are 1-D now, and we can access them either by key (dictionary style) or as attributes (class style)."
     ]
    },
    {
     "cell_type": "markdown",
     "metadata": {},
     "source": [
      "At this point you should plot the data.  I will leave that to you.  I suggest plotting a short chunk so that you can resolve the individual waves."
     ]
    },
    {
     "cell_type": "code",
     "collapsed": false,
     "input": [
      "# put your plotting code here..."
     ],
     "language": "python",
     "metadata": {},
     "outputs": [],
     "prompt_number": 6
    },
    {
     "cell_type": "markdown",
     "metadata": {},
     "source": [
      "Now you have the two SSH time series at your fingertips, you know what they look like, and you know from an earlier lesson how to estimate and plot the PDFs.  You can proceed with item 2 in the homework."
     ]
    },
    {
     "cell_type": "heading",
     "level": 2,
     "metadata": {},
     "source": [
      "Wave heights"
     ]
    },
    {
     "cell_type": "markdown",
     "metadata": {},
     "source": [
      "To calculate the wave heights, you have to divide the time series up into \"waves\".  One way to do this is to define a single wave as the interval between crossings from less than zero to greater than zero.  This only makes sense, of course, if the data are first high-pass filtered to remove tides and lower frequency SSH variations.  I think the data supplied here are already sufficiently filtered, so you don't have to do your own filtering; about all you could do anyway is to subtract the record mean and trend, since the record is too short to show the tides."
     ]
    },
    {
     "cell_type": "markdown",
     "metadata": {},
     "source": [
      "How can we divide the record up into waves based on zero-crossings?  Suppose we generate a time series that is 0 where SSH < 0 and 1 elsewhere.  Then a transition from 0 to 1 is an upward zero-crossing, which is what we want.  We find those transitions  by taking the difference of consecutive elements.  Let's illustrate with a simple sinusoidal signal."
     ]
    },
    {
     "cell_type": "code",
     "collapsed": false,
     "input": [
      "x = np.linspace(0, 50, 500)\n",
      "y = np.sin(x)\n",
      "# Notice that in the following we have to convert\n",
      "# the Boolean array to an integer; any kind would do.\n",
      "is_positive = (y >= 0).astype(np.int8)\n",
      "up = np.diff(is_positive) == 1  # Boolean array\n",
      "# Above this point, all arrays have the same dimensions.\n",
      "# Below we find the indices of the True values in up.\n",
      "i_up = np.nonzero(up)[0]\n",
      "print(i_up)"
     ],
     "language": "python",
     "metadata": {},
     "outputs": [
      {
       "output_type": "stream",
       "stream": "stdout",
       "text": [
        "[ 62 125 188 250 313 376 438]\n"
       ]
      }
     ],
     "prompt_number": 7
    },
    {
     "cell_type": "markdown",
     "metadata": {},
     "source": [
      "I think most of the above should be clear with a little thought.  The exception is the call to `np.nonzero`; that line is doing the equivalent to the Matlab `find` function.  Refer to the documentation for `np.nonzero`.  It is not needed very often; most of the time, it is more convenient to work with indexing directly with Boolean arrays.\n",
      "\n",
      "Now check to see that our selection of zero-crossings is reasonable:"
     ]
    },
    {
     "cell_type": "code",
     "collapsed": false,
     "input": [
      "fig, ax = plt.subplots()\n",
      "ax.plot(x, y)\n",
      "ax.plot(x[i_up], y[i_up], 'gx', ms=20)"
     ],
     "language": "python",
     "metadata": {},
     "outputs": [
      {
       "metadata": {},
       "output_type": "pyout",
       "prompt_number": 8,
       "text": [
        "[<matplotlib.lines.Line2D at 0x108567cf8>]"
       ]
      },
      {
       "metadata": {},
       "output_type": "display_data",
       "png": "[encoded data removed]",
       "text": [
        "<matplotlib.figure.Figure at 0x1084fda90>"
       ]
      }
     ],
     "prompt_number": 8
    },
    {
     "cell_type": "markdown",
     "metadata": {},
     "source": [
      "We can see that the boundary points are biased one point to the left.  We could correct this by adding 1 to each boundary, and then checking to make sure the last boundary is still within the domain, but so long as the waves are reasonably well resolved, it will not have much effect on the calculation of heights."
     ]
    },
    {
     "cell_type": "markdown",
     "metadata": {},
     "source": [
      "Now we have a set of start and end points for the \"waves\".  Let's cycle through them, and use the `np.ptp` (peak-to-peak) function to find the heights."
     ]
    },
    {
     "cell_type": "code",
     "collapsed": false,
     "input": [
      "heights = []\n",
      "for i0, i1 in zip(i_up[:-1], i_up[1:]):\n",
      "    heights.append(np.ptp(y[i0:i1]))\n",
      "print(heights)    "
     ],
     "language": "python",
     "metadata": {},
     "outputs": [
      {
       "output_type": "stream",
       "stream": "stdout",
       "text": [
        "[1.9989144099118685, 1.9989796315828405, 1.9996790070842905, 1.9986453654421283, 1.9988147474998406, 1.9996053386059245]\n"
       ]
      }
     ],
     "prompt_number": 9
    },
    {
     "cell_type": "markdown",
     "metadata": {},
     "source": [
      "Looks good.  Do you understand why all of these values are a little bit less than 2?"
     ]
    },
    {
     "cell_type": "code",
     "collapsed": false,
     "input": [],
     "language": "python",
     "metadata": {},
     "outputs": [],
     "prompt_number": 9
    }
   ],
   "metadata": {}
  }
 ]
}