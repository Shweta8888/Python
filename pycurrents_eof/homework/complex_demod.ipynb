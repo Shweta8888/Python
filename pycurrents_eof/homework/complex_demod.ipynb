{
 "cells": [
  {
   "cell_type": "markdown",
   "metadata": {},
   "source": [
    "# Complex demodulation"
   ]
  },
  {
   "cell_type": "markdown",
   "metadata": {},
   "source": [
    "The concepts of modulation and demodulation arise naturally in the context of transmitting information via radio.  There are two basic kinds of modulation used to transmit audio via radio frequency signals: amplitude modulation (AM) and frequency modulation (FM).  In both cases the fundamental radio frequency of the signal is the \"carrier frequency\", which would be a perfect sinusoid in the case of no modulation (no audio signal).  For AM, the carrier is multiplied by the signal in the audio frequency band (20 Hz to 20 kHz).  For FM, the *frequency* of the carrier is shifted up and down with the audio signal waveform.  In either case, the job of the receiver is to isolate the modulated signal from all the other radio-frequency energy, and extract the original audio signal from it--which is called \"demodulation\", of course.  The way this is done in an AM receiver is essentially identical to the data analysis technique called \"complex demodulation\", where the \"complex\" has nothing to do with complexity.  It is merely a reference to the use of complex exponentials, which makes the mathematical description and the programming code more concise.  The technique is really very simple, and can be implemented with or without the use of complex numbers.\n",
    "\n",
    "Here's the recipe:\n",
    "\n",
    "+ multiply your time series by a complex exponential at the frequency of interest\n",
    "+ apply a low-pass filter to the product\n",
    "+ look at the amplitude and phase of the resulting complex time series\n",
    "\n",
    "As this recipe indicates, the purpose of complex demodulation is to isolate a fairly narrow frequency band and describe it as a sinusoid that can be modulated in amplitude (which we see in the amplitude part of the complex demodulation output) and in frequency (which we see in the rate of change of phase with time).  For example, it can be used to isolate the spring-neap cycle of the semidiurnal tide--an example of amplitude modulation resulting from the superposition of the M2 and S2 tidal constituents.\n",
    "\n",
    "Here is the mathematical version of the recipe.  Recall that the time series can be represented as a sum of sinusoids via its Fourier Transform:\n",
    "\n",
    "$$x(t_n) = \\frac{1}{N} \\sum_{k=0}^{N-1} A_k \\exp(i 2 \\pi f_k t_n).$$\n",
    "\n",
    "Then\n",
    "\n",
    "$$x(t_n) \\exp(-i 2 \\pi f t_n) = \\frac{1}{N} \\sum_{k=0}^{N-1} A_k \\exp(i 2 \\pi (f_k-f) t_n)$$\n",
    "\n",
    "so that each component at $f_k$ has been shifted down to frequency $f_k - f$.  For example, if $f_k$ and $f$ are both 1 cycle per year, then the energy at 1 cycle per year is shifted to zero-frequency--that is, it is appears in the mean.  Using a low-pass filter will isolate the energy that is near frequency $f$.  The amplitude of the low-passed complex product will vary slowly with time, as the amplitude of the energy near $f$ varies.  The phase will vary slowly in time, depending on how the frequency content of that energy compares to $f$.\n",
    "\n",
    "Recall a central concept from Fourier analysis: the uncertainty principle stating that there is always a tradeoff between localization in time and localization in frequency.  A narrow bandwidth signal has a modulation with a large time scale, and a pulse-like signal has a broad bandwidth.  This concept applies to complex demodulation (and to its relative, wavelet analysis).  It is just as inescapable as the uncertainty principle in quantum physics."
   ]
  },
  {
   "cell_type": "markdown",
   "metadata": {},
   "source": [
    "## A real-valued time series\n",
    "\n",
    "Recall that if $x(t_n)$ is real rather than complex, the Fourier coefficients for the frequencies above Nyquist, or equivalently for the negative frequencies, are the complex conjugates of their counterparts in the first half of the transform:\n",
    "\n",
    "$$A_{-k} = A_k^*$$\n",
    "\n",
    "Then\n",
    "\n",
    "$$x(t_n) = \\frac{1}{N} \\left\\{ A_0 + A_{N/2}\\exp(i 2 \\pi f_{N/2} t_n) \n",
    "                 + \\sum_{k=1}^{N/2-1} [A_k \\exp(i 2 \\pi f_k t_n)\n",
    "                                       +A_k^* \\exp(-i 2 \\pi f_k t_n)]\\right\\}$$\n",
    "                                       \n",
    "and\n",
    "\n",
    "$$x(t_n) \\exp(-i 2 \\pi f t_n) = \\frac{1}{N} \\left\\{ A_0 \\exp(-i 2 \\pi f t_n)\n",
    "                                     + A_{N/2}\\exp(i 2 \\pi (f_{N/2}-f) t_n)\\\\ \n",
    "                 + \\sum_{k=1}^{N/2-1} [A_k \\exp(i 2 \\pi (f_k -f) t_n)\n",
    "                                       +A_k^* \\exp(-i 2 \\pi (f_k+f) t_n)]\\right\\}$$.\n",
    "\n",
    "Notice that we now have contributions at all *sum* and *difference* frequencies between the demodulation frequency, $f$, and each of the positive Fourier frequencies through the Nyquist.  We use a low-pass filter to keep only the energy from the difference between $f$ and nearby Fourier frequencies."
   ]
  },
  {
   "cell_type": "markdown",
   "metadata": {},
   "source": [
    "## A little experimentation"
   ]
  },
  {
   "cell_type": "code",
   "execution_count": null,
   "metadata": {
    "collapsed": true
   },
   "outputs": [],
   "source": [
    "%matplotlib notebook\n",
    "\n",
    "import numpy as np\n",
    "import matplotlib.pyplot as plt\n",
    "from pycurrents.system import Bunch"
   ]
  },
  {
   "cell_type": "markdown",
   "metadata": {},
   "source": [
    "We need a set of filter weights, so we will use a Blackman."
   ]
  },
  {
   "cell_type": "code",
   "execution_count": null,
   "metadata": {
    "collapsed": true
   },
   "outputs": [],
   "source": [
    "def bl_filt(y, half_width):\n",
    "    \"\"\"\n",
    "    Simple Blackman filter.\n",
    "    \n",
    "    The end effects are handled by calculating the weighted\n",
    "    average of however many points are available, rather than\n",
    "    by zero-padding.\n",
    "    \"\"\"\n",
    "    nf = half_width * 2 + 1\n",
    "    x = np.linspace(-1, 1, nf, endpoint=True)\n",
    "    x = x[1:-1]   # chop off the useless endpoints with zero weight\n",
    "    w = 0.42 + 0.5 * np.cos(x * np.pi) + 0.08 * np.cos(x * 2 * np.pi)\n",
    "    ytop = np.convolve(y, w, mode='same')\n",
    "    ybot = np.convolve(np.ones_like(y), w, mode='same')\n",
    "    \n",
    "    return ytop / ybot"
   ]
  },
  {
   "cell_type": "markdown",
   "metadata": {},
   "source": [
    "We also need test data. The function below could be modified to permit input of different amplitudes and phases for the periodic components, and even different spectral characteristics of the noise; but the simple version here is adequate for present purposes."
   ]
  },
  {
   "cell_type": "code",
   "execution_count": null,
   "metadata": {
    "collapsed": true
   },
   "outputs": [],
   "source": [
    "def test_data(periods, noise=0, rotary=False, npts=1000, dt=1.0/24):\n",
    "    \"\"\"\n",
    "    Generate a simple time series for testing complex demodulation.\n",
    "    \n",
    "    *periods* is a sequence with the periods of one or more\n",
    "        harmonics that will be added to make the test signal.\n",
    "        They can be positive or negative.\n",
    "    *noise* is the amplitude of independent Gaussian noise.    \n",
    "    *rotary* is Boolean; if True, the test signal is complex.\n",
    "    *npts* is the length of the series.\n",
    "    *dt* is the time interval (default is 1.0/24)\n",
    "    \n",
    "    Returns t, x: ndarrays with the test times and test data values.\n",
    "    \n",
    "    Note: the default of dt = 1/24 corresponds to hourly values in\n",
    "    units of days, so a period of 12.42/24 would give the M2 frequency.\n",
    "    \"\"\"     \n",
    "        \n",
    "    t = np.arange(npts, dtype=float) * dt\n",
    "    \n",
    "    if rotary:\n",
    "        x = noise * (np.random.randn(npts) + 1j * np.random.randn(npts))\n",
    "    else:\n",
    "        x = noise * np.random.randn(npts)\n",
    "\n",
    "    for p in periods:\n",
    "        if rotary:\n",
    "            x += np.exp(2j * np.pi * t / p)\n",
    "        else:\n",
    "            x += np.cos(2 * np.pi * t / p)\n",
    "    \n",
    "    return t, x\n",
    "    "
   ]
  },
  {
   "cell_type": "markdown",
   "metadata": {},
   "source": [
    "Now we will provide a basic complex demodulation implementation for 1-D inputs.  Notice that in general it needs to be called twice for complex inputs because it yields only one rotary component at a time.  With a few more lines of code it could be modified to yield both components in a single call."
   ]
  },
  {
   "cell_type": "code",
   "execution_count": null,
   "metadata": {
    "collapsed": true
   },
   "outputs": [],
   "source": [
    "def complex_demod(t, x, central_period, hwidth = 2):\n",
    "    \"\"\"\n",
    "    Complex demodulation of a real or complex series, *x*\n",
    "    of samples at times *t*, assumed to be uniformly spaced.\n",
    "    \n",
    "    *central_period* is the period of the central frequency\n",
    "        for the demodulation.  It should be positive for real\n",
    "        signals. For complex signals, a positive value will\n",
    "        return the CCW rotary component, and a negative value\n",
    "        will return the CW component (negative frequency).\n",
    "        Period is in the same time units as are used for *t*.\n",
    "\n",
    "    *hwidth* is the Blackman filter half-width in units of the \n",
    "        *central_period*.  For example, the default value of 2\n",
    "        makes the Blackman half-width equal to twice the \n",
    "        central period.\n",
    "    \n",
    "    Returns a Bunch; look at the code to see what it contains.\n",
    "    \"\"\"     \n",
    "    \n",
    "    rotary = x.dtype.kind == 'c'  # complex input\n",
    "    \n",
    "    # Make the complex exponential for demodulation:\n",
    "    c = np.exp(-1j * 2 * np.pi * t / central_period)\n",
    "    \n",
    "    product = x * c\n",
    "    \n",
    "    # filter half-width number of points\n",
    "    dt = t[1] - t[0]\n",
    "    hwpts = int(round(hwidth * abs(central_period) / dt))\n",
    "    \n",
    "    demod = bl_filt(product, hwpts)\n",
    "    if not rotary:    \n",
    "        # The factor of 2 below comes from fact that the\n",
    "        # mean value of a squared unit sinusoid is 0.5.\n",
    "        demod *= 2\n",
    "    \n",
    "    reconstructed = (demod * np.conj(c))\n",
    "    if not rotary:\n",
    "        reconstructed = reconstructed.real\n",
    "        \n",
    "    if np.sign(central_period) < 0:\n",
    "        demod = np.conj(demod)\n",
    "        # This is to make the phase increase in time\n",
    "        # for both positive and negative demod frequency\n",
    "        # when the frequency of the signal exceeds the\n",
    "        # frequency of the demodulation.\n",
    "    \n",
    "    return Bunch(t=t,\n",
    "                 signal=x,  \n",
    "                 hwpts=hwpts,\n",
    "                 demod=demod,\n",
    "                 reconstructed=reconstructed)"
   ]
  },
  {
   "cell_type": "markdown",
   "metadata": {},
   "source": [
    "Make a plotter for our demod output."
   ]
  },
  {
   "cell_type": "code",
   "execution_count": null,
   "metadata": {
    "collapsed": true
   },
   "outputs": [],
   "source": [
    "def plot_demod(dm):\n",
    "    fig, axs = plt.subplots(3, sharex=True)\n",
    "    resid = dm.signal - dm.reconstructed\n",
    "    if dm.signal.dtype.kind == 'c':\n",
    "        axs[0].plot(dm.t, dm.signal.real, label='signal.real')\n",
    "        axs[0].plot(dm.t, dm.signal.imag, label='signal.imag')\n",
    "        axs[0].plot(dm.t, resid.real, label='difference real')\n",
    "        axs[0].plot(dm.t, resid.imag, label='difference imag')\n",
    "    else:    \n",
    "        axs[0].plot(dm.t, dm.signal, label='signal')\n",
    "        axs[0].plot(dm.t, dm.reconstructed, label='reconstructed')\n",
    "        axs[0].plot(dm.t, dm.signal - dm.reconstructed, label='difference')\n",
    "    \n",
    "    axs[0].legend(loc='upper right', fontsize='small')\n",
    "    \n",
    "    axs[1].plot(dm.t, np.abs(dm.demod), label='amplitude', color='C3')\n",
    "    axs[1].legend(loc='upper right', fontsize='small') \n",
    "    \n",
    "    axs[2].plot(dm.t, np.angle(dm.demod, deg=True), '.', label='phase',\n",
    "                color='C4')\n",
    "    axs[2].set_ylim(-180, 180)\n",
    "    axs[2].legend(loc='upper right', fontsize='small')\n",
    "    \n",
    "    for ax in axs:\n",
    "        ax.locator_params(axis='y', nbins=5)\n",
    "    return fig, axs    "
   ]
  },
  {
   "cell_type": "markdown",
   "metadata": {},
   "source": [
    "Almost ready.  For convenience, make a single function to generate the test data, run the complex demodulation on it, and plot the result."
   ]
  },
  {
   "cell_type": "code",
   "execution_count": null,
   "metadata": {
    "collapsed": true
   },
   "outputs": [],
   "source": [
    "def test_demod(periods, central_period,\n",
    "                 noise=0,\n",
    "                 rotary=False, \n",
    "                 hwidth = 1, \n",
    "                 npts=1000,\n",
    "                 dt=1.0/24):\n",
    "    \n",
    "    t, x = test_data(periods, noise=noise, rotary=rotary, \n",
    "                     npts=npts, dt=dt)\n",
    "    dm = complex_demod(t, x, central_period, hwidth=hwidth)\n",
    "    fig, axs = plot_demod(dm)\n",
    "    return fig, axs, dm\n"
   ]
  },
  {
   "cell_type": "markdown",
   "metadata": {},
   "source": [
    "### Single harmonic at the demodulation frequency"
   ]
  },
  {
   "cell_type": "code",
   "execution_count": null,
   "metadata": {},
   "outputs": [],
   "source": [
    "test_demod([12.0/24], 12.0/24);"
   ]
  },
  {
   "cell_type": "markdown",
   "metadata": {},
   "source": [
    "### Single harmonic at a slightly *lower* frequency"
   ]
  },
  {
   "cell_type": "code",
   "execution_count": null,
   "metadata": {},
   "outputs": [],
   "source": [
    "test_demod([12.2/24], 12.0/24);"
   ]
  },
  {
   "cell_type": "markdown",
   "metadata": {},
   "source": [
    "Notice that the amplitude is now very slightly less than one, and the phase is going backwards with time."
   ]
  },
  {
   "cell_type": "markdown",
   "metadata": {},
   "source": [
    "### Single harmonic at a slightly *higher* frequency"
   ]
  },
  {
   "cell_type": "code",
   "execution_count": null,
   "metadata": {},
   "outputs": [],
   "source": [
    "test_demod([11.0/24], 12.0/24);"
   ]
  },
  {
   "cell_type": "markdown",
   "metadata": {},
   "source": [
    "Again the amplitude is slightly less than one, and now the phase is increasing with time."
   ]
  },
  {
   "cell_type": "markdown",
   "metadata": {},
   "source": [
    "### Two sinusoids bracketing the demodulation frequency"
   ]
  },
  {
   "cell_type": "code",
   "execution_count": null,
   "metadata": {},
   "outputs": [],
   "source": [
    "test_demod([11.5/24, 12.5/24], 12.0/24);"
   ]
  },
  {
   "cell_type": "markdown",
   "metadata": {},
   "source": [
    "Exercise: figure out what you would have to do to make the phase alternate between 0 and 180, instead of creeping higher with each spring-neap cycle."
   ]
  },
  {
   "cell_type": "markdown",
   "metadata": {},
   "source": [
    "### Three sinusoids, two of them at lower frequencies"
   ]
  },
  {
   "cell_type": "code",
   "execution_count": null,
   "metadata": {},
   "outputs": [],
   "source": [
    "test_demod([12.0/24, 13.0/24, 14.5/24], 12.0/24);"
   ]
  },
  {
   "cell_type": "markdown",
   "metadata": {},
   "source": [
    "Notice that the amplitude looks like a good estimate of the modulation envelope, and that the local frequency deviation from the demodulation frequency, as indicated by the rate of change of phase, is mostly negative (lower frequency) because of the predominance of longer period sinusoids, but it can turn positive in restricted regions."
   ]
  },
  {
   "cell_type": "markdown",
   "metadata": {},
   "source": [
    "### Complex sinusoid, CCW rotation"
   ]
  },
  {
   "cell_type": "code",
   "execution_count": null,
   "metadata": {},
   "outputs": [],
   "source": [
    "fig, axs, dm = test_demod([12.0/24], 12.0/24, rotary=True, npts=200)\n",
    "fig.suptitle('CCW signal and demod')"
   ]
  },
  {
   "cell_type": "markdown",
   "metadata": {},
   "source": [
    "### Complex sinusoid, CCW rotation with modulation"
   ]
  },
  {
   "cell_type": "code",
   "execution_count": null,
   "metadata": {},
   "outputs": [],
   "source": [
    "fig, axs, dm = test_demod([12.0/24, 13.0/24], 12.0/24, \n",
    "                          rotary=True, npts=200)\n",
    "fig.suptitle('CCW signal and demod')"
   ]
  },
  {
   "cell_type": "markdown",
   "metadata": {},
   "source": [
    "### Complex sinusoid, CCW and CW rotation with noise"
   ]
  },
  {
   "cell_type": "markdown",
   "metadata": {},
   "source": [
    "Compare the results you get with the two alternative signal_period arrays, below."
   ]
  },
  {
   "cell_type": "code",
   "execution_count": null,
   "metadata": {},
   "outputs": [],
   "source": [
    "#signal_periods = [12.0/24, 13.0/24, -12.0/24, -10.0/24]\n",
    "signal_periods = [12.0/24, 13.0/24, -12.0/24, -11.0/24]\n",
    "\n",
    "demod_period = 12/24\n",
    "\n",
    "signal_kw = dict(noise=0.5, rotary=True, npts=200)\n",
    "\n",
    "fig, axs, dm = test_demod(signal_periods, demod_period, **signal_kw)\n",
    "fig.suptitle('mixed signal, CCW demod')\n",
    "\n",
    "fig, axs, dm = test_demod(signal_periods, -demod_period, **signal_kw)\n",
    "fig.suptitle('mixed signal, CW demod');"
   ]
  },
  {
   "cell_type": "code",
   "execution_count": null,
   "metadata": {
    "collapsed": true
   },
   "outputs": [],
   "source": []
  }
 ],
 "metadata": {
  "anaconda-cloud": {},
  "kernelspec": {
   "display_name": "Python [conda env:test]",
   "language": "python",
   "name": "conda-env-test-py"
  },
  "language_info": {
   "codemirror_mode": {
    "name": "ipython",
    "version": 3
   },
   "file_extension": ".py",
   "mimetype": "text/x-python",
   "name": "python",
   "nbconvert_exporter": "python",
   "pygments_lexer": "ipython3",
   "version": "3.5.2"
  }
 },
 "nbformat": 4,
 "nbformat_minor": 1
}
