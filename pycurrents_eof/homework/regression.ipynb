{
 "cells": [
  {
   "cell_type": "markdown",
   "metadata": {},
   "source": [
    "# Regression"
   ]
  },
  {
   "cell_type": "markdown",
   "metadata": {},
   "source": [
    "Let's look at some examples of regression calculations in Python.  I haven't found any direct equivalent to `regress` from Matlab's statistical toolbox.  Similar functionality is available in the Python [statsmodels](http://statsmodels.org) package.  I will give an example of its use below, but we will also see how to calculate the things we need without it."
   ]
  },
  {
   "cell_type": "code",
   "execution_count": null,
   "metadata": {},
   "outputs": [],
   "source": [
    "%matplotlib notebook\n",
    "\n",
    "import numpy as np\n",
    "import matplotlib.pyplot as plt\n",
    "\n",
    "import scipy.stats as ss\n",
    "from scipy import linalg  # numpy linalg plus extras\n",
    "import statsmodels.api as sm\n",
    "\n",
    "from pycurrents.system import Bunch"
   ]
  },
  {
   "cell_type": "markdown",
   "metadata": {},
   "source": [
    "## Simple regression, straight line"
   ]
  },
  {
   "cell_type": "markdown",
   "metadata": {},
   "source": [
    "First we will illustrate a single straight-line fit using random data to make partially correlated variables.  We will use a function from scipy.stats, `linregress`."
   ]
  },
  {
   "cell_type": "code",
   "execution_count": null,
   "metadata": {},
   "outputs": [],
   "source": [
    "ny = 100 \n",
    "b_true = 0.5\n",
    "x1 = np.random.randn(ny) # signal\n",
    "epsilon = np.random.randn(ny) # noise\n",
    "y = b_true * x1 + epsilon"
   ]
  },
  {
   "cell_type": "code",
   "execution_count": null,
   "metadata": {},
   "outputs": [],
   "source": [
    "slope, intercept, r, p, stderr = ss.linregress(x1, y)\n",
    "print(\"slope:\", slope, \" intercept:\", intercept, \n",
    "      \" r:\", r, \" p:\", p, \" stderr:\", stderr)"
   ]
  },
  {
   "cell_type": "markdown",
   "metadata": {},
   "source": [
    "The slope from the fit is reasonably close to its \"true\" value, `b_true`; and the intercept is near zero.\n",
    "\n",
    "Exercise: put this in a loop and collect the statistical distribution of the slope from many realizations."
   ]
  },
  {
   "cell_type": "markdown",
   "metadata": {},
   "source": [
    "Linear regression with just a mean and a slope is so simple that we can easily do it in a vectorized way, so that we can do it efficiently for large numbers of series at once.  Let's make a function to do it for something like regressing SST at many locations on the SOI.  We will illustrate again with fake data.\n"
   ]
  },
  {
   "cell_type": "markdown",
   "metadata": {},
   "source": [
    "Here is the function.  Note that it is designed to work with y being 1-D or higher, and with any location of the time axis.  (We don't need scipy.stats for this, just numpy.)"
   ]
  },
  {
   "cell_type": "code",
   "execution_count": null,
   "metadata": {},
   "outputs": [],
   "source": [
    "def regress_many(x, y, axis=0):\n",
    "    \"\"\"\n",
    "    Regress y on x.\n",
    "\n",
    "    x is a 1-D array or masked array with n points.\n",
    "    y is at least 1-D, with n points along the dimension\n",
    "    specified by axis.\n",
    "\n",
    "    Returns (b1, r), where b1 is the slope and r is the correlation\n",
    "    coefficient.\n",
    "    \"\"\"\n",
    "    # Allow masked arrays and ordinary arrays, and remove the means.\n",
    "    x = np.asanyarray(x)\n",
    "    x -= x.mean()\n",
    "    y = np.asanyarray(y)\n",
    "    y -= y.mean(axis=axis, keepdims=True)\n",
    "    \n",
    "    # Black magic to accomodate any dimensionality of y:\n",
    "    bc = tuple([slice(None) if i == axis else np.newaxis \n",
    "               for i in range(y.ndim)])\n",
    "    \n",
    "    # Note that we need only sums of squares and products.\n",
    "    Sxx = (x**2).sum()\n",
    "    Syy = (y**2).sum(axis=axis)\n",
    "    Sxy = (x[bc] * y).sum(axis=axis)\n",
    "    \n",
    "    r = Sxy / np.ma.sqrt(Sxx * Syy)\n",
    "    b1 = Sxy / Sxx\n",
    "    \n",
    "    return b1, r"
   ]
  },
  {
   "cell_type": "markdown",
   "metadata": {},
   "source": [
    "Let's test the new function. First, verify that it gives the same result as `linregress` on the simple 1-D example:"
   ]
  },
  {
   "cell_type": "code",
   "execution_count": null,
   "metadata": {},
   "outputs": [],
   "source": [
    "b1, r = regress_many(x1, y)\n",
    "print(b1)\n",
    "print(r)"
   ]
  },
  {
   "cell_type": "markdown",
   "metadata": {},
   "source": [
    "Now, make some 2-D data, simulating a common calculation in oceanography and meteorology: looking at the correlation between a scalar time series, such as the Southern Oscillation Index, and a time series of maps, such as a satellite-based estimate of sea-surface temperature.  In this simulation we are not trying to make anything look like the SOI or SST, but we are making simple arrays with the corresponding dimensions, so we could later plug in an actual SOI time series and set of SST maps."
   ]
  },
  {
   "cell_type": "code",
   "execution_count": null,
   "metadata": {},
   "outputs": [],
   "source": [
    "# fake data for testing\n",
    "npts = 100\n",
    "nlon = 121\n",
    "nlat = 81\n",
    "lon = np.linspace(140, 260, nlon)\n",
    "lat = np.linspace(-40, 40, nlat)\n",
    "\n",
    "# Very unrealistic: uncorrelated random points\n",
    "SOI = np.random.randn(npts)\n",
    "\n",
    "# Very unrealistic: partial correlation, as in the earlier example\n",
    "# Here is the noise part:\n",
    "SST = np.random.randn(npts, nlon, nlat)\n",
    "# Now let's give the correlated part some spatial structure:\n",
    "amp = 1 + (lon[:, np.newaxis] - 140) / 120  + lat / 40\n",
    "SST += amp * SOI[:, np.newaxis, np.newaxis]\n",
    "# The correlation now ramps up from SW to NE.\n"
   ]
  },
  {
   "cell_type": "code",
   "execution_count": null,
   "metadata": {},
   "outputs": [],
   "source": [
    "b1, r = regress_many(SOI, SST)\n",
    "\n",
    "print(b1.shape, r.shape)\n",
    "print(b1.min(), b1.mean(), b1.max())\n",
    "print(r.min(), r.mean(), r.max())"
   ]
  },
  {
   "cell_type": "markdown",
   "metadata": {},
   "source": [
    "Now we will use filled contours to plot the slope and the correlation coefficient."
   ]
  },
  {
   "cell_type": "code",
   "execution_count": null,
   "metadata": {
    "scrolled": false
   },
   "outputs": [],
   "source": [
    "fig, axs = plt.subplots(nrows=2, sharex=True)\n",
    "ax = axs[0]\n",
    "slopelevs = np.arange(0, 3.01, 0.2)\n",
    "# Notice that because the arrays here have dimensions nlon, nlat,\n",
    "# we have to transpose them so that they will be contoured with\n",
    "# the right orientation.\n",
    "cmap1 = plt.get_cmap('Blues')\n",
    "cs1 = ax.contourf(lon, lat, b1.T, levels=slopelevs, \n",
    "                  cmap=cmap1, extend='both')\n",
    "cbar1 = fig.colorbar(cs1, ax=ax)\n",
    "ax.set_title('slope')\n",
    "\n",
    "ax = axs[1]\n",
    "rlevs = np.arange(0, 1.01, 0.05)\n",
    "cmap2 = plt.get_cmap('Reds')\n",
    "cs2 = ax.contourf(lon, lat, r.T, levels=rlevs, cmap=cmap2,\n",
    "                   extend='min')\n",
    "cbar2 = fig.colorbar(cs2, ax=ax)\n",
    "ax.set_title('correlation coefficient')"
   ]
  },
  {
   "cell_type": "markdown",
   "metadata": {},
   "source": [
    "What happens if we let the \"SST\" be a uniform multiple of \"SOI\", but with the added noise component ramped up from SW to NE?"
   ]
  },
  {
   "cell_type": "code",
   "execution_count": null,
   "metadata": {},
   "outputs": [],
   "source": [
    "SST = SOI[:, np.newaxis, np.newaxis] # uniform multiple\n",
    "SST = SST + 2 * amp * np.random.randn(npts, nlon, nlat) # plus noise ramp\n",
    "\n",
    "b1, r = regress_many(SOI, SST)\n",
    "\n",
    "fig, axs = plt.subplots(nrows=2, sharex=True)\n",
    "ax = axs[0]\n",
    "slopelevs = np.arange(0, 3.01, 0.2)\n",
    "\n",
    "cmap1 = plt.get_cmap('Blues')\n",
    "cs1 = ax.contourf(lon, lat, b1.T, levels=slopelevs, \n",
    "                  cmap=cmap1, extend='both')\n",
    "cbar1 = fig.colorbar(cs1, ax=ax)\n",
    "ax.set_title('slope')\n",
    "\n",
    "ax = axs[1]\n",
    "rlevs = np.arange(0, 1.01, 0.05)\n",
    "cmap2 = plt.get_cmap('Reds')\n",
    "cs2 = ax.contourf(lon, lat, r.T, levels=rlevs, cmap=cmap2,\n",
    "                   extend='min')\n",
    "cbar2 = fig.colorbar(cs2, ax=ax)\n",
    "ax.set_title('correlation coefficient')"
   ]
  },
  {
   "cell_type": "markdown",
   "metadata": {},
   "source": [
    "## Multiple linear regression"
   ]
  },
  {
   "cell_type": "markdown",
   "metadata": {},
   "source": [
    "The basic MLR calculation is easily done, as will be illustrated here.  The following model could be considered as a starting point for fitting a diurnal cycle, or an annual cycle, for example.\n",
    "\n",
    "We will first make a fake data set with a deterministic part and a random part.  The deterministic part consists of a mean and a sinusoid (which has a sine part and a cosine part).  We could add a zero-mean trend; that is left as an exercise."
   ]
  },
  {
   "cell_type": "code",
   "execution_count": null,
   "metadata": {},
   "outputs": [],
   "source": [
    "ny = 100\n",
    "# frequency in cycles per time unit:\n",
    "freq = 1\n",
    "\n",
    "t = np.linspace(0, 2.4, ny, endpoint=False)\n",
    "\n",
    "xc = np.cos(2 * np.pi * freq * t)\n",
    "xs = np.sin(2 * np.pi * freq * t)\n",
    "\n",
    "ys = 0.5      # amp of sine component\n",
    "yc = 1.2      # amp of cosine component\n",
    "y0 = 0.2      # mean\n",
    "yrand = 1.5   # amp of Gaussian noise\n",
    "\n",
    "np.random.seed(0)  # make the \"random\" numbers repeatable\n",
    "y = y0 + yc * xc + ys * xs + yrand * np.random.randn(ny)\n",
    "\n",
    "fig, ax = plt.subplots()\n",
    "ax.plot(t, y, '.')\n",
    "ax.set_title('fake data with sinusoid and noise')\n"
   ]
  },
  {
   "cell_type": "markdown",
   "metadata": {},
   "source": [
    "Now make the model.  Note that we know the frequency of the sinusoid; only its amplitude and phase, or equivalently its cosine and sine coefficients, need to be determined by the fit.  If we did not know the frequency, we could not use linear regression at all; it would be a fundamentally nonlinear problem.  (Also, note that it is linear in the sine and cosine coefficients, but *not* in amplitude and phase; that's why we solve for the former, from which we can calculate the latter.)\n",
    "\n",
    "Each column in the $X$ array is the time series of one component of the model.  Here we have 3 components; the first one is all ones, so its coefficient will be the mean."
   ]
  },
  {
   "cell_type": "code",
   "execution_count": null,
   "metadata": {},
   "outputs": [],
   "source": [
    "nparams = 3  # parameters in the model\n",
    "xmod = np.ones((ny, nparams), dtype=float)\n",
    "xmod[:,1] = xc\n",
    "xmod[:,2] = xs\n",
    "\n",
    "fig, ax = plt.subplots()\n",
    "ax.plot(t, xmod)  # plots columns of xmod versus t\n",
    "ax.set_ylim(-1.2, 1.2)\n",
    "ax.legend(['mean', 'cosine', 'sine'])\n",
    "ax.set_title('components of the model')"
   ]
  },
  {
   "cell_type": "markdown",
   "metadata": {},
   "source": [
    "Next we find the least-squares solution of $Y = X b $ , the fit based on that solution, and the residuals from the fit:"
   ]
  },
  {
   "cell_type": "code",
   "execution_count": null,
   "metadata": {},
   "outputs": [],
   "source": [
    "b = linalg.lstsq(xmod, y)[0] # ignore other outputs\n",
    "# yfit = np.dot(xmod, b)\n",
    "yfit = xmod @ b  # New matrix-multiplication operator...\n",
    "yresid = y - yfit\n",
    "\n",
    "print(\"b is: \", b)\n",
    "\n",
    "fig, axs = plt.subplots(nrows=2, sharex=True)\n",
    "axs[0].plot(t, y, 'b.', t, yfit, 'g-')\n",
    "axs[0].legend(['y', 'yfit'], loc='best')\n",
    "axs[0].set_title('fit')\n",
    "\n",
    "axs[1].plot(t, yresid, 'r.')\n",
    "axs[1].set_title('residuals')"
   ]
  },
  {
   "cell_type": "markdown",
   "metadata": {},
   "source": [
    "We can also calculate the uncertainties in the parameters.  This will depend on the variance-covariance matrix of the model.  In this context, \"variance\" and \"covariance\" is really referring just to sums of products; the means are not removed, and there is no normalization by the number of points."
   ]
  },
  {
   "cell_type": "code",
   "execution_count": null,
   "metadata": {},
   "outputs": [],
   "source": [
    "# dot() does matrix multiplication\n",
    "# vcv_mod = np.dot(xmod.T, xmod)\n",
    "vcv_mod = xmod.T @ xmod\n",
    "print(vcv_mod)"
   ]
  },
  {
   "cell_type": "markdown",
   "metadata": {},
   "source": [
    "Notice that the matrix is symmetric, and that the off-diagonal elements are substantial; this means that the columns in our model are not independent.  This is typically the case, and doesn't hurt, so long as the correlations are fairly small.  When columns are highly correlated, however, it means that the coefficients will be poorly determined and highly uncertain.\n",
    "\n",
    "The variance-covariance matrix for the estimated parameters is \n",
    "$$V(b) = (X'X)^{-1}\\sigma^2$$\n",
    "where $\\sigma^2$ is the variance of $\\epsilon$, *assuming* the $\\epsilon$ distribution is *uniform* and **independent**; that is, the variance-covariance matrix of $\\epsilon$ is $\\sigma^2$ on the diagonal and zero off the diagonal.  We estimate $\\sigma^2$ from the residuals, compensating for the 3 DOF removed by this model with its 3 components.  The numpy `var()` function has a kwarg for this.  "
   ]
  },
  {
   "cell_type": "code",
   "execution_count": null,
   "metadata": {},
   "outputs": [],
   "source": [
    "epsvar = np.var(yresid, ddof=nparams)\n",
    "bvar = linalg.inv(vcv_mod) * epsvar\n",
    "print('Estimated variance of epsilon:', epsvar)\n",
    "print('\\nVCV matrix for the coefficients, b:')\n",
    "print(bvar)\n",
    "print('\\nEstimated std dev of epsilon:')\n",
    "print(np.sqrt(epsvar))\n",
    "print('versus true value:')\n",
    "print(yrand)"
   ]
  },
  {
   "cell_type": "markdown",
   "metadata": {},
   "source": [
    "Our estimated variance of $\\epsilon$ is very close to the value we used to generate it.\n",
    "\n",
    "The standard deviations of the parameter estimates are just the square roots of the diagonal entries:"
   ]
  },
  {
   "cell_type": "code",
   "execution_count": null,
   "metadata": {},
   "outputs": [],
   "source": [
    "bstd = np.sqrt(np.diag(bvar))\n",
    "print(bstd)"
   ]
  },
  {
   "cell_type": "markdown",
   "metadata": {},
   "source": [
    "The off-diagonal elements of bvar show how errors in one parameter are coupled with errors in another.  For example, the correlation coefficients between the sine and cosine parameters, and the sine and mean, are:"
   ]
  },
  {
   "cell_type": "code",
   "execution_count": null,
   "metadata": {},
   "outputs": [],
   "source": [
    "print(bvar[1, 2] / (bstd[1] * bstd[2]))\n",
    "print(bvar[0, 2] / (bstd[0] * bstd[2]))"
   ]
  },
  {
   "cell_type": "markdown",
   "metadata": {},
   "source": [
    "We see that the sine and cosine components are nearly orthogonal, but a positive error in the sine coefficient will tend to occur together with a negative error in the mean.\n",
    "\n",
    "I think that at this point, treating the standard deviations of the parameters as Gaussian with the standard deviation estimated above is good enough; then you can just use two standard deviations, or whatever you like.  But technically we should use the t distribution, so let's try it. (Recall that the t distribution is similar to the Gaussian, but it has heavier tails to take into account the fact that don't know the true standard deviation, but must instead estimate it from the data.)"
   ]
  },
  {
   "cell_type": "code",
   "execution_count": null,
   "metadata": {},
   "outputs": [],
   "source": [
    "b_t = ss.t(ny - nparams, loc=b, scale=bstd)\n",
    "b_lo = b_t.ppf(0.025)\n",
    "b_hi = b_t.ppf(0.975)\n",
    "print(b_lo)\n",
    "print(b)\n",
    "print(b_hi)"
   ]
  },
  {
   "cell_type": "markdown",
   "metadata": {},
   "source": [
    "Doing this manually was not so hard, but let's try out a fancy function from statsmodels, a higher-powered statistical package."
   ]
  },
  {
   "cell_type": "code",
   "execution_count": null,
   "metadata": {},
   "outputs": [],
   "source": [
    "model = sm.OLS(y, xmod)\n",
    "results = model.fit()\n",
    "print(results.summary())  # makes a formatted table"
   ]
  },
  {
   "cell_type": "markdown",
   "metadata": {},
   "source": [
    "That's more than we wanted to know!  Let's isolate the bits we care about.  The documentation is sparse, so we have to do a little exploration.  Let's see what's available."
   ]
  },
  {
   "cell_type": "code",
   "execution_count": null,
   "metadata": {},
   "outputs": [],
   "source": [
    "print(dir(results))"
   ]
  },
  {
   "cell_type": "markdown",
   "metadata": {},
   "source": [
    "It turns out we need an attribute, `params`, and a method, `conf_int`:"
   ]
  },
  {
   "cell_type": "code",
   "execution_count": null,
   "metadata": {},
   "outputs": [],
   "source": [
    "print('Parameters (b):')\n",
    "print(results.params)\n",
    "print('\\nConfidence intervals:')\n",
    "print(results.conf_int(alpha=0.05).T)"
   ]
  },
  {
   "cell_type": "markdown",
   "metadata": {},
   "source": [
    "## A function for MLR"
   ]
  },
  {
   "cell_type": "markdown",
   "metadata": {},
   "source": [
    "Let's make a function that efficiently calculates the MLR parameters and their confidence intervals for a time series as a function of depth--that is, for a 2-D array.  The key to doing this efficiently is noticing that only the last steps involve the depth dimension.  We won't need to use a loop at all; everything will be vectorized.  We will use functions to calculate $(X'X)^{-1}$, which we need for the confidence limits, and $(X'X)^{-1}X'$, which is known as the pseudoinverse of $X$.  If our time series, $Y$, is arranged with ntimes rows and ndepths columns, then matrix-multiplying this times the pseudoinverse gives us the parameters, $b$, with one column for each depth."
   ]
  },
  {
   "cell_type": "code",
   "execution_count": null,
   "metadata": {},
   "outputs": [],
   "source": [
    "def mlr(y, x, alpha=0.05):\n",
    "    \"\"\"\n",
    "    Multiple linear regression.\n",
    "    \n",
    "        y: 1-D or 2-D array, independent variable.\n",
    "            (ntimes,) or (ntimes, nrealizations)\n",
    "        x: 2-D array, model; (ntimes, nparams)\n",
    "    \n",
    "    returns a Bunch with attributes:\n",
    "    \n",
    "        y: the input dependent variable\n",
    "        x: the input model\n",
    "        alpha: the input confidence level\n",
    "        b: (nparams,) or (nparams, nrealizations)\n",
    "        b_std: standard error of b\n",
    "        b_lo: lower confidence limits\n",
    "        b_hi: upper confidence limits\n",
    "        fit: same shape as y\n",
    "        residuals: same shape as y\n",
    "        \n",
    "    The input arrays must be ndarrays with no nan or inf values; \n",
    "    masked arrays are not supported.\n",
    "\n",
    "    \"\"\"\n",
    "    ntimes, nparams = x.shape\n",
    "    if y.shape[0] != ntimes:\n",
    "        raise ValueError(\"Shape mismatch: x is %s, y is %s\" %\n",
    "                         x.shape, y.shape)\n",
    "    pinv = linalg.pinv2(x)\n",
    "    b = np.dot(pinv, y)\n",
    "    fit = np.dot(x, b)\n",
    "    residuals = y - fit\n",
    "    \n",
    "    eps_std = np.std(residuals, axis=0, ddof=nparams, keepdims=True)\n",
    "    inv_vcv = linalg.inv(np.dot(x.T, x))\n",
    "    b_std = (np.sqrt(np.diag(inv_vcv)) * eps_std.T).T\n",
    "    b_t = ss.t(ntimes - nparams, loc=b, scale=b_std)\n",
    "    b_lo = b_t.ppf(alpha/2)\n",
    "    b_hi = b_t.ppf(1 - alpha/2)\n",
    "    out = Bunch(x=x, y=y, b=b, b_std=b_std, b_lo=b_lo,\n",
    "                b_hi=b_hi, fit=fit, residuals=residuals)\n",
    "    return out"
   ]
  },
  {
   "cell_type": "markdown",
   "metadata": {},
   "source": [
    "Test it first with the same time series we used above:"
   ]
  },
  {
   "cell_type": "code",
   "execution_count": null,
   "metadata": {},
   "outputs": [],
   "source": [
    "test1 = mlr(y, xmod)\n",
    "print(test1.b_lo)\n",
    "print(test1.b)\n",
    "print(test1.b_hi)"
   ]
  },
  {
   "cell_type": "markdown",
   "metadata": {},
   "source": [
    "Now try a minimal test with a 2-D array by making two columns of y:"
   ]
  },
  {
   "cell_type": "code",
   "execution_count": null,
   "metadata": {},
   "outputs": [],
   "source": [
    "y2 = np.column_stack((y, y))\n",
    "test2 = mlr(y2, xmod)\n",
    "print(test2.b)\n",
    "attributes = sorted(list(test2.keys()))\n",
    "print(\"shapes:\")\n",
    "for a in attributes:\n",
    "    print(\"%12s : %12s\" % (a, test2[a].shape))"
   ]
  },
  {
   "cell_type": "markdown",
   "metadata": {},
   "source": [
    "Last, test with a larger array.  To keep things simple, only the random component will vary from one column to the next.  This also lets us do an empirical test of the estimated parameter error bars."
   ]
  },
  {
   "cell_type": "code",
   "execution_count": null,
   "metadata": {},
   "outputs": [],
   "source": [
    "def make_test_array(ntimes=100, ncolumns=1000,\n",
    "                    y0=0.2, yc=1.2, ys=0.5, yrand=1,\n",
    "                    seed=0):\n",
    "\n",
    "    # frequency in cycles per time unit:\n",
    "    freq = 1\n",
    "\n",
    "    t = np.linspace(0, 10, ntimes)\n",
    "\n",
    "    xc = np.cos(2 * np.pi * freq * t)\n",
    "    xs = np.sin(2 * np.pi * freq * t)\n",
    "\n",
    "    xmod = np.ones((ntimes, 3), float)\n",
    "    xmod[:, 1] = xc\n",
    "    xmod[:, 2] = xs\n",
    "    \n",
    "    np.random.seed(seed)  # make the \"random\" numbers repeatable\n",
    "    y = y0 + yc * xc + ys * xs\n",
    "    y = y[:, np.newaxis] + yrand * np.random.randn(ntimes, ncolumns)\n",
    "    return y, xmod\n"
   ]
  },
  {
   "cell_type": "code",
   "execution_count": null,
   "metadata": {},
   "outputs": [],
   "source": [
    "yy, xmod = make_test_array(yrand=4, ntimes=10000, seed=20)\n",
    "bigtest = mlr(yy, xmod)\n",
    "print(bigtest.b.mean(axis=-1))\n",
    "print(bigtest.b.std(axis=-1))\n",
    "print(bigtest.b_std.mean(axis=-1))"
   ]
  },
  {
   "cell_type": "markdown",
   "metadata": {},
   "source": [
    "That looks fine.  Notice that the mean of the estimated standard deviations (third line) is close to the actual standard deviation over the ensemble of trials (second line)."
   ]
  },
  {
   "cell_type": "code",
   "execution_count": null,
   "metadata": {},
   "outputs": [],
   "source": [
    "fig, ax = plt.subplots()\n",
    "counts, edges, patches = ax.hist(bigtest.b[0], bins=20, density=True)\n",
    "ax.set_xlabel('constant term in the MLR')\n",
    "ax.set_ylabel('PDF')"
   ]
  },
  {
   "cell_type": "markdown",
   "metadata": {},
   "source": [
    "The mlr function above has one limitation: it can't handle missing data.  If your data set has missing points--that is, for a given column in $Y$, there are times with nan or a masked value--then the corresponding rows in the $X$ array must be deleted before calculating the inverse and the pseudo-inverse.  There are two ways of dealing with this: either interpolate to replace the bad values in $Y$, after which the mlr function can be used on the whole array, or use a loop to cycle through the columns of $Y$, using indexing to remove the bad points and the corresponding rows of $X$, and applying the mlr function with each 1-dimensional cleaned $Y$ and its matching $X$. The results of these two methods will be similar if the data gaps are small and not too numerous, but interpolation will bias the error estimates low.  If large chunks of data are missing, one should use the slower loop strategy."
   ]
  },
  {
   "cell_type": "code",
   "execution_count": null,
   "metadata": {},
   "outputs": [],
   "source": [
    "def mlr_gappy(y, x, alpha=0.05):\n",
    "    \"\"\"\n",
    "    MLR; handles y as a masked array or with nans.\n",
    "    x must still be an ndarray with all valid values.\n",
    "    See mlr() docstring for details.\n",
    "    \"\"\"\n",
    "    ma_input = np.ma.isMA(y)\n",
    "    ym = np.ma.masked_invalid(y)\n",
    "    # If there are no bad values call mlr directly,\n",
    "    # ensuring y is an ndarray and not a masked array.\n",
    "    if not np.ma.is_masked(ym):\n",
    "        return mlr(ym.filled(), x, alpha=alpha)\n",
    "    \n",
    "    if y.ndim == 1:\n",
    "        igood = ~ym.mask  # True where not masked.\n",
    "        result = mlr(ym[igood].filled(), x[igood], alpha=alpha)\n",
    "        \n",
    "        resid = ym.copy()\n",
    "        resid[igood] = result.residuals\n",
    "        result.residuals = resid\n",
    "        \n",
    "        fit = ym.copy()\n",
    "        fit[igood] = result.fit\n",
    "        result.fit = fit\n",
    "        \n",
    "        if not ma_input:\n",
    "            for key in ('fit', 'residuals'):\n",
    "                result[key] = result[key].filled(np.nan)\n",
    "        \n",
    "        return result\n",
    "\n",
    "    # 2-D case, with time as the first axis\n",
    "    nseries = y.shape[1]\n",
    "    ntimes, nparams = x.shape\n",
    "\n",
    "    bshape = (nparams, nseries)\n",
    "    b = np.empty(bshape)\n",
    "    b_lo = np.empty(bshape)\n",
    "    b_hi = np.empty(bshape)\n",
    "    b_std = np.empty(bshape)\n",
    "    fit = np.nan + np.zeros(y.shape)\n",
    "    residuals = np.nan + np.zeros(y.shape)\n",
    "    \n",
    "    out = Bunch(b=b, b_lo=b_lo, b_hi=b_hi, b_std=b_std, \n",
    "                fit=fit, residuals=residuals)\n",
    "    \n",
    "    for i in range(nseries):\n",
    "        yi = ym[:, i]\n",
    "        igood = ~yi.mask\n",
    "        result = mlr(yi[igood].filled(), x[igood])\n",
    "        for key in ('b', 'b_lo', 'b_hi', 'b_std'):\n",
    "            out[key][:, i] = result[key]\n",
    "        for key in ('fit', 'residuals'):\n",
    "            out[key][igood, i] = result[key]\n",
    "    \n",
    "    if ma_input:\n",
    "        for key in ('fit', 'residuals'):\n",
    "            out[key] = np.ma.masked_invalid(out[key])\n",
    "            \n",
    "    out.x = x\n",
    "    out.y = y\n",
    "    \n",
    "    return out\n"
   ]
  },
  {
   "cell_type": "markdown",
   "metadata": {},
   "source": [
    "Test with gappy data.  Because of its need to loop, this function will be slow, so don't try it with a large number of input columns."
   ]
  },
  {
   "cell_type": "code",
   "execution_count": null,
   "metadata": {},
   "outputs": [],
   "source": [
    "yy, xmod = make_test_array()\n",
    "# make a Boolean array with 1/3 of its values\n",
    "#   True, randomly distributed.\n",
    "ibad = np.random.randint(3, size=yy.shape) > 1\n",
    "yyb = yy.copy()\n",
    "yyb[ibad] = np.nan\n",
    "bigtest = mlr_gappy(yyb, xmod)\n",
    "print('With gaps:')\n",
    "print(bigtest.b.mean(axis=-1))\n",
    "print(bigtest.b.std(axis=-1))\n",
    "print(bigtest.b_std.mean(axis=-1))\n",
    "\n",
    "bigtestng = mlr(yy, xmod)\n",
    "print('\\nWithout gaps:')\n",
    "print(bigtestng.b.mean(axis=-1))\n",
    "print(bigtestng.b.std(axis=-1))\n",
    "print(bigtestng.b_std.mean(axis=-1))\n"
   ]
  },
  {
   "cell_type": "markdown",
   "metadata": {},
   "source": [
    "Based on this very minimal testing, it appears the function works.  "
   ]
  },
  {
   "cell_type": "code",
   "execution_count": null,
   "metadata": {},
   "outputs": [],
   "source": []
  }
 ],
 "metadata": {
  "anaconda-cloud": {},
  "kernelspec": {
   "display_name": "Python 3",
   "language": "python",
   "name": "python3"
  },
  "language_info": {
   "codemirror_mode": {
    "name": "ipython",
    "version": 3
   },
   "file_extension": ".py",
   "mimetype": "text/x-python",
   "name": "python",
   "nbconvert_exporter": "python",
   "pygments_lexer": "ipython3",
   "version": "3.6.7"
  }
 },
 "nbformat": 4,
 "nbformat_minor": 1
}
