{
 "cells": [
  {
   "cell_type": "markdown",
   "metadata": {},
   "source": [
    "One of the standard global SST products is readily available from NOAA:\n",
    "http://www.esrl.noaa.gov/psd/data/gridded/data.noaa.oisst.v2.html.  We will use the monthly-averaged version.  We need two files: the actual SST, and the land mask."
   ]
  },
  {
   "cell_type": "code",
   "execution_count": null,
   "metadata": {},
   "outputs": [],
   "source": [
    "%matplotlib inline\n",
    "\n",
    "import os\n",
    "import time\n",
    "import urllib\n",
    "\n",
    "import numpy as np\n",
    "import matplotlib.pyplot as plt\n",
    "import matplotlib as mpl\n",
    "\n",
    "from mpl_toolkits.basemap import Basemap\n",
    "\n",
    "import netCDF4 as nc\n",
    "\n",
    "from pycurrents.codas import to_day\n",
    "from pycurrents.num import rangeslice\n",
    "from pycurrents.num import eof"
   ]
  },
  {
   "cell_type": "code",
   "execution_count": null,
   "metadata": {},
   "outputs": [],
   "source": [
    "fnames = ['sst.mnmean.nc', 'lsmask.nc']\n",
    "urlbase = 'ftp://ftp.cdc.noaa.gov/Datasets/noaa.oisst.v2/'\n",
    "\n",
    "for fname in fnames:\n",
    "    if not os.path.exists(fname):\n",
    "        urllib.request.urlretrieve(urlbase + fname, fname)\n",
    "        \n",
    "lsmasknc = nc.Dataset(fnames[1])\n",
    "\n",
    "# strip the time dimension off the mask\n",
    "seamask = lsmasknc.variables['mask'][0].astype(bool)\n",
    "lsmasknc.close()\n",
    "landmask = np.logical_not(seamask)\n",
    "print(landmask.shape)\n",
    "\n",
    "sstnc = nc.Dataset(fnames[0])\n",
    "\n",
    "# Read all the 1-D dimensional arrays.\n",
    "time = sstnc.variables['time'][:]\n",
    "lat = sstnc.variables['lat'][:]                       \n",
    "lon = sstnc.variables['lon'][:]\n",
    "\n",
    "# Read the 3-D SST array, and mask it.\n",
    "sst = np.ma.array(sstnc.variables['sst'][:])\n",
    "sst[:, landmask] = np.ma.masked\n",
    "sstnc.close()"
   ]
  },
  {
   "cell_type": "code",
   "execution_count": null,
   "metadata": {},
   "outputs": [],
   "source": [
    "dday2000 = time - to_day(1800, 2000, 1, 1, 0, 0, 0)\n",
    "yeartime = 2000 + dday2000 / 365.25\n",
    "print(yeartime[0], yeartime[-1])"
   ]
  },
  {
   "cell_type": "code",
   "execution_count": null,
   "metadata": {},
   "outputs": [],
   "source": [
    "# Quick plot of on month against indices (sanity check).\n",
    "plt.pcolormesh(sst[10, ::-1])"
   ]
  },
  {
   "cell_type": "markdown",
   "metadata": {},
   "source": [
    "Take out the time mean, and fill the land with zeros."
   ]
  },
  {
   "cell_type": "code",
   "execution_count": null,
   "metadata": {},
   "outputs": [],
   "source": [
    "sstmean = sst.mean(axis=0)\n",
    "sstdm = sst - sstmean\n",
    "\n",
    "sstdmz = sstdm.filled(0)"
   ]
  },
  {
   "cell_type": "markdown",
   "metadata": {},
   "source": [
    "Exercise for the reader: instead of taking out just the mean, take out the mean annual cycle as well."
   ]
  },
  {
   "cell_type": "markdown",
   "metadata": {},
   "source": [
    "The grid is uniform in latitude and longitude, so high-latitude cells represent smaller areas than low-latitude cells. We would like the EOF spatial functions to be approximately orthogonal in an area-integrated sense.  Because this orthogonality condition involves the product of *two* EOFs, we weight the data by $\\sqrt{\\cos\\theta}$ so that the product is weighted by $\\cos\\theta$, where $\\theta$ is latitude."
   ]
  },
  {
   "cell_type": "code",
   "execution_count": null,
   "metadata": {},
   "outputs": [],
   "source": [
    "latweights = np.sqrt(np.cos(np.deg2rad(lat)))\n",
    "latweights = latweights[np.newaxis, :, np.newaxis]\n",
    "sstdmz *= latweights"
   ]
  },
  {
   "cell_type": "code",
   "execution_count": null,
   "metadata": {},
   "outputs": [],
   "source": [
    "ssteof = eof.EOF(sstdmz)"
   ]
  },
  {
   "cell_type": "code",
   "execution_count": null,
   "metadata": {},
   "outputs": [],
   "source": [
    "fig, ax = plt.subplots()\n",
    "ax.plot(ssteof.s, 'o')\n",
    "ax.margins(0.05)"
   ]
  },
  {
   "cell_type": "code",
   "execution_count": null,
   "metadata": {},
   "outputs": [],
   "source": [
    "fig, ax = plt.subplots()\n",
    "ax.plot(ssteof.percent_var()[:10], 'o')\n",
    "print(ssteof.percent_var()[:10])"
   ]
  },
  {
   "cell_type": "code",
   "execution_count": null,
   "metadata": {},
   "outputs": [],
   "source": [
    "fig, ax = plt.subplots()\n",
    "ax.plot(yeartime, ssteof.u[:, 5:7])"
   ]
  },
  {
   "cell_type": "markdown",
   "metadata": {},
   "source": [
    "We now take the reshaped spatial patterns, mask them with the landmask, undo the latitude weighting, and multiply them by the singular values."
   ]
  },
  {
   "cell_type": "code",
   "execution_count": null,
   "metadata": {},
   "outputs": [],
   "source": [
    "pats = np.ma.array(ssteof.v_reshaped)\n",
    "pats[:, landmask] = np.ma.masked\n",
    "pats /= latweights\n",
    "pats = pats *  ssteof.s[:, np.newaxis, np.newaxis]"
   ]
  },
  {
   "cell_type": "code",
   "execution_count": null,
   "metadata": {},
   "outputs": [],
   "source": [
    "cmap = plt.get_cmap('RdBu_r')"
   ]
  },
  {
   "cell_type": "markdown",
   "metadata": {},
   "source": [
    "Now make a quick contour plot of the spatial pattern, without bothering to use a map projection."
   ]
  },
  {
   "cell_type": "code",
   "execution_count": null,
   "metadata": {},
   "outputs": [],
   "source": [
    "# quick and dirty: using global pats and ssteof\n",
    "def contour_pattern(i):\n",
    "    # normalize so that std of time function is unity, and pattern\n",
    "    # is in degrees.\n",
    "    std_t = ssteof.u[:, i].std()\n",
    "    pat = pats[i] * std_t\n",
    "    mag = pat.std()\n",
    "    cticker = mpl.ticker.MaxNLocator(nbins=30, symmetric=True)\n",
    "    cticker.create_dummy_axis()\n",
    "    cticker.set_bounds(-2*mag, 2*mag)\n",
    "    clevs = cticker()\n",
    "\n",
    "    fig, ax = plt.subplots()\n",
    "    cs = ax.contourf(lon, lat, pat, levels=clevs,\n",
    "                 cmap=cmap,\n",
    "                 extend='both')\n",
    "    ax.patch.set_facecolor('gray')\n",
    "    fig.colorbar(cs, ax=ax, shrink=0.9)"
   ]
  },
  {
   "cell_type": "code",
   "execution_count": null,
   "metadata": {},
   "outputs": [],
   "source": [
    "contour_pattern(0)"
   ]
  },
  {
   "cell_type": "markdown",
   "metadata": {},
   "source": [
    "Last, let's make a nicer plot for each of the first few EOFs, with a map for the spatial pattern."
   ]
  },
  {
   "cell_type": "code",
   "execution_count": null,
   "metadata": {},
   "outputs": [],
   "source": [
    "gmap = Basemap(lon_0=180, projection=\"kav7\", resolution='c')\n",
    "X, Y = gmap(*np.meshgrid(lon, lat))\n",
    "def draw_map(gmap, ax):\n",
    "    gmap.drawmapboundary(ax=ax)\n",
    "    gmap.drawcoastlines(ax=ax)\n",
    "    gmap.fillcontinents(ax=ax)\n",
    "    gmap.drawmeridians(np.arange(0, 360.01, 30), ax=ax)\n",
    "    gmap.drawparallels(np.arange(-60, 60.01, 30), ax=ax)\n",
    "\n"
   ]
  },
  {
   "cell_type": "code",
   "execution_count": null,
   "metadata": {},
   "outputs": [],
   "source": [
    "def map_pattern(i, pats, ssteof, yeartime, gmap):\n",
    "    # normalize so that std of time function is unity, and pattern\n",
    "    # is in degrees.\n",
    "    std_t = ssteof.u[:, i].std()\n",
    "    pat = pats[i] * std_t\n",
    "    mag = pat.std()\n",
    "    cticker = mpl.ticker.MaxNLocator(nbins=30, symmetric=True)\n",
    "    cticker.create_dummy_axis()\n",
    "    cticker.set_bounds(-2*mag, 2*mag)\n",
    "    clevs = cticker()\n",
    "\n",
    "    #fig, ax = plt.subplots()\n",
    "    #cs = ax.contourf(lon, lat, pat, levels=clevs,\n",
    "    #             cmap=cmap,\n",
    "    #             extend='both')\n",
    "    #fig.colorbar(cs, ax=ax, shrink=0.9)\n",
    "\n",
    "    fig, axs = plt.subplots(nrows=2, figsize=(7, 10))\n",
    "    \n",
    "    draw_map(gmap, ax=axs[1])\n",
    "    cs = gmap.contourf(X, Y, pat, levels=clevs, \n",
    "                   cmap=cmap,\n",
    "                   extend='both', ax=axs[1])\n",
    "    cbar = fig.colorbar(cs, ax=axs[1], orientation='vertical',\n",
    "                        shrink=0.8,\n",
    "                        ticks=plt.MaxNLocator(nbins=6, symmetric=True))\n",
    "    cbar.set_label('$^\\circ$C')\n",
    "    ax = axs[0]\n",
    "    ax.plot(yeartime, ssteof.u[:, i] / std_t)\n",
    "    ax.set_title(\"EOF %d: %.1f%% of variance\" % \n",
    "                 (i, ssteof.percent_var()[i]))\n",
    "    "
   ]
  },
  {
   "cell_type": "code",
   "execution_count": null,
   "metadata": {},
   "outputs": [],
   "source": [
    "for i in range(5):\n",
    "    map_pattern(i, pats, ssteof, yeartime, gmap)\n"
   ]
  },
  {
   "cell_type": "code",
   "execution_count": null,
   "metadata": {},
   "outputs": [],
   "source": []
  }
 ],
 "metadata": {
  "anaconda-cloud": {},
  "kernelspec": {
   "display_name": "Python 3",
   "language": "python",
   "name": "python3"
  },
  "language_info": {
   "codemirror_mode": {
    "name": "ipython",
    "version": 3
   },
   "file_extension": ".py",
   "mimetype": "text/x-python",
   "name": "python",
   "nbconvert_exporter": "python",
   "pygments_lexer": "ipython3",
   "version": "3.6.7"
  }
 },
 "nbformat": 4,
 "nbformat_minor": 1
}
