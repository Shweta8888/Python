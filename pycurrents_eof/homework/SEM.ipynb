{
 "cells": [
  {
   "cell_type": "markdown",
   "metadata": {},
   "source": [
    "# Estimation of the mean and its uncertainty"
   ]
  },
  {
   "cell_type": "markdown",
   "metadata": {},
   "source": [
    "The mean value, or some other measure of the center of a distribution, is often the first thing one looks for in a data set, or a subsample of a data set.  For example, in a long time series of surface temperature, one might want to know the mean value for each year, together with some idea of how much each mean might vary from its \"true\" value in an ensemble of worlds.  Here the difficulty of the frequentist interpretation is evident--we only have one world.  We can have many realizations of a numerical model of that world, though, so at least via numerical experiments it is possible to generate an ensemble of time series that are different because of some random variations in initial conditions and/or forcing.\n",
    "\n",
    "Let's start exploring these ideas with the simplest possible case, however: random numbers generated from a known distribution, not necessarily a Gaussian.  The experimental approach illustrated here, in which we calculate statistics from a generated ensemble, is complementary to the theoretical approach, in which analytic expressions are calculated for PDFs of interest.  The advantages of the experimental approach are that (1) it doesn't require mathematical sophistication, (2) it can be applied to situations for which the analytic approach would be very difficult or even impossible, (3) it is relatively easy to understand and visualize."
   ]
  },
  {
   "cell_type": "markdown",
   "metadata": {},
   "source": [
    "## Standard Error of the Mean (SEM)"
   ]
  },
  {
   "cell_type": "code",
   "execution_count": null,
   "metadata": {},
   "outputs": [],
   "source": [
    "%matplotlib notebook\n",
    "\n",
    "# Our standard imports:\n",
    "import numpy as np\n",
    "import matplotlib as mpl\n",
    "import matplotlib.pyplot as plt\n",
    "\n",
    "# Access to many standard distributions:\n",
    "import scipy.stats as ss"
   ]
  },
  {
   "cell_type": "markdown",
   "metadata": {},
   "source": [
    "We will work with 2-D arrays of random numbers.  We arbitrarily choose the first dimension to index the member of the ensemble, and the second to index sequential position (e.g. time, perhaps in a uniformly sampled time series) in the ensemble.\n",
    "\n",
    "Start by verifying the usual formula for the Standard Error of the Mean (SEM), which gives the standard deviation of the sample mean of $N$ values from a normal distribution:\n",
    "$$ \\mbox{SEM} = \\frac{\\sigma}{\\sqrt{N}}$$\n",
    "where $\\sigma$ is the standard deviation. "
   ]
  },
  {
   "cell_type": "code",
   "execution_count": null,
   "metadata": {},
   "outputs": [],
   "source": [
    "nens = 10000  # number of realizations\n",
    "nt = 3       # length of each time series\n",
    "y = np.random.randn(nens, nt)  # sigma is 1\n",
    "SEM = 1 / np.sqrt(nt)\n",
    "\n",
    "ybar = y.mean(axis=1)\n",
    "ystd = y.std(axis=1, ddof=1)\n",
    " \n",
    "print(\"with %d points, ybar mean and std are %.5f, %.3f; SEM is %.3f\" % \n",
    "      (nt, ybar.mean(), ybar.std(), SEM))\n",
    "print(\"The mean of the estimated standard deviations is %.3f\" % ystd.mean())\n",
    "print(\"The median is %.3f\" % np.median(ystd))\n",
    "print(\"The square root of the mean estimated variance is %.3f\" % \n",
    "      np.sqrt((ystd**2).mean()))"
   ]
  },
  {
   "cell_type": "markdown",
   "metadata": {},
   "source": [
    "In the cell above we also calculated the mean of the standard deviations, and the square root of the mean sample variance, $S^2$, using \n",
    "$$S^2 = \\frac{1}{N-1}\\sum_{i=0}^{N-1} (X_i - \\bar{X})^2.$$\n",
    "Notice that in this case we don't know the true standard deviation of the population, so we estimate it from the sample, using the `ddof` (\"deduct degrees of freedom\") argument to reduce the number of degrees of freedom (DOF) from $N$ to $N-1$; we lost one DOF by subtracting the sample mean."
   ]
  },
  {
   "cell_type": "markdown",
   "metadata": {},
   "source": [
    "Let's cycle through some values of nt and see how the SEM varies.  In addition to plotting the experimental and theoretical values, we will plot the *ensemble mean* of the values we get by applying the theoretical formula to *each* member of the ensemble, as if we had a single realization of an experiment, and we wished to estimate the uncertainty in the mean from that experiment."
   ]
  },
  {
   "cell_type": "code",
   "execution_count": null,
   "metadata": {},
   "outputs": [],
   "source": [
    "nens = 10000\n",
    "nts = np.arange(3, 21)\n",
    "n_nts = len(nts)\n",
    "\n",
    "SEMs = 1 / np.sqrt(nts)  # theory, for normal distribution\n",
    "\n",
    "sems_exp = np.zeros(nts.shape)\n",
    "sems_sample = np.zeros(nts.shape)\n",
    "\n",
    "for i, nt in enumerate(nts):\n",
    "    y = np.random.randn(nens, nt)\n",
    "    y_means = y.mean(axis=1)\n",
    "    y_stds = y.std(axis=1, ddof=1)  # note ddof argument!\n",
    "    sems_exp[i] = y_means.std()\n",
    "    sems_sample[i] = y_stds.mean() / np.sqrt(nt)\n",
    "    \n",
    "fig, ax = plt.subplots()\n",
    "ax.plot(nts, sems_exp, 'ro', label='MC std dev of mean')\n",
    "ax.plot(nts, SEMs, 'b-', label='SEM for Normal dist.')\n",
    "ax.plot(nts, sems_sample, 'gx', label='mean sample SEM')\n",
    "#ax.plot(nts, np.median(sems_theory, axis=0), 'bx', label='median SEM')\n",
    "ax.locator_params(axis='x', integer=True)\n",
    "ax.legend(loc='upper right')\n",
    "ax.set_xlabel('Length of sequence');"
   ]
  },
  {
   "cell_type": "code",
   "execution_count": null,
   "metadata": {},
   "outputs": [],
   "source": [
    "plt.close(fig)"
   ]
  },
  {
   "cell_type": "markdown",
   "metadata": {},
   "source": [
    "What is wrong with those green X-marks?  Why do they systematically underestimate the SEM?  They are based on $S$, the estimate of $\\sigma$, and this is biased, as we saw in an earlier cell."
   ]
  },
  {
   "cell_type": "markdown",
   "metadata": {},
   "source": [
    "Usually what we want to know is not the SEM but the location of the tails of the sampling distribution of the mean; this can be estimated from the SEM only if the distribution is normal.  The distribution of sample means, with samples taken from a normal population, is not itself Gaussian; rather, it follows the \"Student's t\" distribution.  For small $N$, it has heavier tails than a Gaussian distribution.\n",
    "\n",
    "Let's use the `scipy.stats` module to show the t distribution and compare it to the normal distribution.  (In the following cell you can change `.pdf` to `.cdf` to show the cumulative distribution function instead of the probability distribution function.)"
   ]
  },
  {
   "cell_type": "code",
   "execution_count": null,
   "metadata": {},
   "outputs": [],
   "source": [
    "N = 5\n",
    "df = N - 1\n",
    "# Make instances of each distribution:\n",
    "tdist = ss.t(df)\n",
    "ndist = ss.norm()\n",
    "# x-axis array for plotting:\n",
    "x = np.linspace(-5, 5, 1001)\n",
    "fig, ax = plt.subplots()\n",
    "ax.plot(x, ndist.pdf(x), label='normal')\n",
    "ax.plot(x, tdist.pdf(x), label=r't, $\\nu = %d$' % df)\n",
    "ax.legend();"
   ]
  },
  {
   "cell_type": "code",
   "execution_count": null,
   "metadata": {
    "collapsed": true
   },
   "outputs": [],
   "source": [
    "plt.close(fig)"
   ]
  },
  {
   "cell_type": "markdown",
   "metadata": {},
   "source": [
    "We can make our own histogram to verify that this distribution is correct.  We will need a large number of samples to resolve the tails and give a reasonably smooth histogram. The t distribution applies to the following random variable:\n",
    "$$\\frac{\\bar{X} - \\mu}{\\frac{S}{  \\sqrt{N}}}$$\n",
    "where $\\mu=0$ is the *true* mean, and $S$ is the standard deviation estimated using the expression given above.  Hence, it is the deviation of the sample mean from the true mean, scaled by the *estimated* SEM.  It is this scaling--the fact that we don't know the *true* $\\sigma$ of the distribution, and therefore the true SEM--that makes the distribution \"t\" rather than \"normal\"."
   ]
  },
  {
   "cell_type": "code",
   "execution_count": null,
   "metadata": {},
   "outputs": [],
   "source": [
    "nens = 1000000  # number of realizations\n",
    "nt = 5       # length of each time series\n",
    "y = np.random.randn(nens, nt)\n",
    "ybar = y.mean(axis=1)\n",
    "ystd = y.std(axis=1, ddof=1)\n",
    "normed_ybar = ybar * np.sqrt(nt) / ystd\n",
    "bounds = np.linspace(-5, 5, 51)\n",
    "fig, ax = plt.subplots()\n",
    "ax.hist(normed_ybar, bins=bounds, density=True)\n",
    "x = np.linspace(-5, 5, 501)\n",
    "ax.plot(x, ss.t(nt-1).pdf(x));"
   ]
  },
  {
   "cell_type": "code",
   "execution_count": null,
   "metadata": {
    "collapsed": true
   },
   "outputs": [],
   "source": [
    "plt.close(fig)"
   ]
  },
  {
   "cell_type": "markdown",
   "metadata": {
    "collapsed": true
   },
   "source": [
    "What does the analogous distribution look like if instead of starting with a Gaussian random variable, you start with a uniform distribution, or with some function of a Gaussian or a uniform distribution?  Try it and find out!"
   ]
  },
  {
   "cell_type": "code",
   "execution_count": null,
   "metadata": {
    "collapsed": true
   },
   "outputs": [],
   "source": []
  }
 ],
 "metadata": {
  "anaconda-cloud": {},
  "kernelspec": {
   "display_name": "Python [default]",
   "language": "python",
   "name": "python3"
  },
  "language_info": {
   "codemirror_mode": {
    "name": "ipython",
    "version": 3
   },
   "file_extension": ".py",
   "mimetype": "text/x-python",
   "name": "python",
   "nbconvert_exporter": "python",
   "pygments_lexer": "ipython3",
   "version": "3.5.2"
  }
 },
 "nbformat": 4,
 "nbformat_minor": 1
}
