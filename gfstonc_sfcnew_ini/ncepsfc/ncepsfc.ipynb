{
 "cells": [
  {
   "cell_type": "code",
   "execution_count": 9,
   "metadata": {},
   "outputs": [],
   "source": [
    "import numpy as np\n",
    "from ncepsigma import Spharmt\n",
    "class ncepsfc(object):\n",
    "    # read ncep 'sfc' file (fortran gridded binary data)\n",
    "    def __init__(self,filename):\n",
    "        from _read_sfc import read_griddata, read_header\n",
    "        #from _write_sfc import write_griddata\n",
    "        nlons,nlats,lsoil,idate,fhour = read_header(filename)\n",
    "        print(nlons, nlats, lsoil, idate, fhour)\n",
    "        self._read_griddata = read_griddata\n",
    "        #self._write_griddata = write_griddata\n",
    "        self.nlons = nlons; self.nlats = nlats\n",
    "        self.lsoil = lsoil\n",
    "        self.idate = '%04i%02i%02i%02i' % (idate[3],idate[1],idate[2],idate[0])\n",
    "        #self.idate = idate\n",
    "        self.fhour = fhour\n",
    "        self.filename = filename\n",
    "        sp = Spharmt(nlons,nlats,nlats/2,6.3712e6,gridtype='gaussian')\n",
    "        self.lats = (180./np.pi)*sp.lats\n",
    "        self.lons = (360./nlons)*np.arange(nlons)\n",
    "    def griddata(self):\n",
    "        grids2d,grids2d_desc,grids2d_name,grids3d,grids3d_desc,grids3d_name = self._read_griddata(self.filename,self.nlons,self.nlats,self.lsoil)\n",
    "        grds2d_desc = []\n",
    "        for n in range(grids2d_desc.shape[0]):\n",
    "            s = grids2d_desc[n].tostring()\n",
    "            s = s.encode('ascii').replace('\\x00','').strip()\n",
    "            grds2d_desc.append(s)\n",
    "        grds2d_name = []\n",
    "        for n in range(grids2d_name.shape[0]):\n",
    "            s = grids2d_name[n].tostring()\n",
    "            s = s.encode('ascii').replace('\\x00','').strip()\n",
    "            grds2d_name.append(s)\n",
    "        grds3d_desc = []\n",
    "        for n in range(grids3d_desc.shape[0]):\n",
    "            s = grids3d_desc[n].tostring()\n",
    "            s = s.encode('ascii').replace('\\x00','').strip()\n",
    "            grds3d_desc.append(s)\n",
    "        grds3d_name = []\n",
    "        for n in range(grids3d_name.shape[0]):\n",
    "            s = grids3d_name[n].tostring()\n",
    "            s = s.encode('ascii').replace('\\x00','').strip()\n",
    "            grds3d_name.append(s)\n",
    "        return grids2d.T,grds2d_desc,grds2d_name,grids3d.T,grds3d_desc,grds3d_name"
   ]
  },
  {
   "cell_type": "code",
   "execution_count": 10,
   "metadata": {},
   "outputs": [
    {
     "name": "stdout",
     "output_type": "stream",
     "text": [
      "384 190 4 [   0    1    1 1979] 0.1666666716337204\n"
     ]
    },
    {
     "ename": "TypeError",
     "evalue": "in method 'new_sht', argument 1 of type 'int'",
     "output_type": "error",
     "traceback": [
      "\u001b[0;31m---------------------------------------------------------------------------\u001b[0m",
      "\u001b[0;31mTypeError\u001b[0m                                 Traceback (most recent call last)",
      "\u001b[0;32m<ipython-input-10-3cc6ce49d937>\u001b[0m in \u001b[0;36m<module>\u001b[0;34m\u001b[0m\n\u001b[0;32m----> 1\u001b[0;31m \u001b[0msfc\u001b[0m \u001b[0;34m=\u001b[0m \u001b[0mncepsfc\u001b[0m\u001b[0;34m(\u001b[0m\u001b[0;34m'sfcf00.gdas2.1979010100'\u001b[0m\u001b[0;34m)\u001b[0m\u001b[0;34m\u001b[0m\u001b[0;34m\u001b[0m\u001b[0m\n\u001b[0m",
      "\u001b[0;32m<ipython-input-9-c1a08534d250>\u001b[0m in \u001b[0;36m__init__\u001b[0;34m(self, filename)\u001b[0m\n\u001b[1;32m     16\u001b[0m         \u001b[0mself\u001b[0m\u001b[0;34m.\u001b[0m\u001b[0mfhour\u001b[0m \u001b[0;34m=\u001b[0m \u001b[0mfhour\u001b[0m\u001b[0;34m\u001b[0m\u001b[0;34m\u001b[0m\u001b[0m\n\u001b[1;32m     17\u001b[0m         \u001b[0mself\u001b[0m\u001b[0;34m.\u001b[0m\u001b[0mfilename\u001b[0m \u001b[0;34m=\u001b[0m \u001b[0mfilename\u001b[0m\u001b[0;34m\u001b[0m\u001b[0;34m\u001b[0m\u001b[0m\n\u001b[0;32m---> 18\u001b[0;31m         \u001b[0msp\u001b[0m \u001b[0;34m=\u001b[0m \u001b[0mSpharmt\u001b[0m\u001b[0;34m(\u001b[0m\u001b[0mnlons\u001b[0m\u001b[0;34m,\u001b[0m\u001b[0mnlats\u001b[0m\u001b[0;34m,\u001b[0m\u001b[0mnlats\u001b[0m\u001b[0;34m/\u001b[0m\u001b[0;36m2\u001b[0m\u001b[0;34m,\u001b[0m\u001b[0;36m6.3712e6\u001b[0m\u001b[0;34m,\u001b[0m\u001b[0mgridtype\u001b[0m\u001b[0;34m=\u001b[0m\u001b[0;34m'gaussian'\u001b[0m\u001b[0;34m)\u001b[0m\u001b[0;34m\u001b[0m\u001b[0;34m\u001b[0m\u001b[0m\n\u001b[0m\u001b[1;32m     19\u001b[0m         \u001b[0mself\u001b[0m\u001b[0;34m.\u001b[0m\u001b[0mlats\u001b[0m \u001b[0;34m=\u001b[0m \u001b[0;34m(\u001b[0m\u001b[0;36m180.\u001b[0m\u001b[0;34m/\u001b[0m\u001b[0mnp\u001b[0m\u001b[0;34m.\u001b[0m\u001b[0mpi\u001b[0m\u001b[0;34m)\u001b[0m\u001b[0;34m*\u001b[0m\u001b[0msp\u001b[0m\u001b[0;34m.\u001b[0m\u001b[0mlats\u001b[0m\u001b[0;34m\u001b[0m\u001b[0;34m\u001b[0m\u001b[0m\n\u001b[1;32m     20\u001b[0m         \u001b[0mself\u001b[0m\u001b[0;34m.\u001b[0m\u001b[0mlons\u001b[0m \u001b[0;34m=\u001b[0m \u001b[0;34m(\u001b[0m\u001b[0;36m360.\u001b[0m\u001b[0;34m/\u001b[0m\u001b[0mnlons\u001b[0m\u001b[0;34m)\u001b[0m\u001b[0;34m*\u001b[0m\u001b[0mnp\u001b[0m\u001b[0;34m.\u001b[0m\u001b[0marange\u001b[0m\u001b[0;34m(\u001b[0m\u001b[0mnlons\u001b[0m\u001b[0;34m)\u001b[0m\u001b[0;34m\u001b[0m\u001b[0;34m\u001b[0m\u001b[0m\n",
      "\u001b[0;32m~/anaconda3/envs/py27/lib/python3.7/site-packages/ncepsigma/pyspharm.py\u001b[0m in \u001b[0;36m__init__\u001b[0;34m(self, nlons, nlats, ntrunc, rsphere, gridtype)\u001b[0m\n\u001b[1;32m     15\u001b[0m         nlats:  number of latitudes\"\"\"\n\u001b[1;32m     16\u001b[0m         self._shtns = shtns.sht(ntrunc, ntrunc, 1, \\\n\u001b[0;32m---> 17\u001b[0;31m                                 shtns.sht_orthonormal+shtns.SHT_NO_CS_PHASE)\n\u001b[0m\u001b[1;32m     18\u001b[0m         \u001b[0;32mif\u001b[0m \u001b[0mgridtype\u001b[0m \u001b[0;34m==\u001b[0m \u001b[0;34m'gaussian'\u001b[0m\u001b[0;34m:\u001b[0m\u001b[0;34m\u001b[0m\u001b[0;34m\u001b[0m\u001b[0m\n\u001b[1;32m     19\u001b[0m             \u001b[0;31m#self._shtns.set_grid(nlats,nlons,shtns.sht_gauss_fly|shtns.SHT_PHI_CONTIGUOUS,1.e-10)\u001b[0m\u001b[0;34m\u001b[0m\u001b[0;34m\u001b[0m\u001b[0;34m\u001b[0m\u001b[0m\n",
      "\u001b[0;32m~/anaconda3/envs/py27/lib/python3.7/site-packages/shtns.py\u001b[0m in \u001b[0;36m__init__\u001b[0;34m(self, lmax, mmax, mres, norm, nthreads)\u001b[0m\n\u001b[1;32m    180\u001b[0m     \u001b[0;32mdef\u001b[0m \u001b[0m__init__\u001b[0m\u001b[0;34m(\u001b[0m\u001b[0mself\u001b[0m\u001b[0;34m,\u001b[0m \u001b[0mlmax\u001b[0m\u001b[0;34m,\u001b[0m \u001b[0mmmax\u001b[0m\u001b[0;34m=\u001b[0m\u001b[0;34m-\u001b[0m\u001b[0;36m1\u001b[0m\u001b[0;34m,\u001b[0m \u001b[0mmres\u001b[0m\u001b[0;34m=\u001b[0m\u001b[0;36m1\u001b[0m\u001b[0;34m,\u001b[0m \u001b[0mnorm\u001b[0m\u001b[0;34m=\u001b[0m\u001b[0msht_orthonormal\u001b[0m\u001b[0;34m,\u001b[0m \u001b[0mnthreads\u001b[0m\u001b[0;34m=\u001b[0m\u001b[0;36m0\u001b[0m\u001b[0;34m)\u001b[0m\u001b[0;34m:\u001b[0m\u001b[0;34m\u001b[0m\u001b[0;34m\u001b[0m\u001b[0m\n\u001b[1;32m    181\u001b[0m         \u001b[0;34m\"\"\"__init__(shtns_info self, int lmax, int mmax=-1, int mres=1, int norm=sht_orthonormal, int nthreads=0) -> sht\"\"\"\u001b[0m\u001b[0;34m\u001b[0m\u001b[0;34m\u001b[0m\u001b[0m\n\u001b[0;32m--> 182\u001b[0;31m         \u001b[0mthis\u001b[0m \u001b[0;34m=\u001b[0m \u001b[0m_shtns\u001b[0m\u001b[0;34m.\u001b[0m\u001b[0mnew_sht\u001b[0m\u001b[0;34m(\u001b[0m\u001b[0mlmax\u001b[0m\u001b[0;34m,\u001b[0m \u001b[0mmmax\u001b[0m\u001b[0;34m,\u001b[0m \u001b[0mmres\u001b[0m\u001b[0;34m,\u001b[0m \u001b[0mnorm\u001b[0m\u001b[0;34m,\u001b[0m \u001b[0mnthreads\u001b[0m\u001b[0;34m)\u001b[0m\u001b[0;34m\u001b[0m\u001b[0;34m\u001b[0m\u001b[0m\n\u001b[0m\u001b[1;32m    183\u001b[0m         \u001b[0;32mtry\u001b[0m\u001b[0;34m:\u001b[0m\u001b[0;34m\u001b[0m\u001b[0;34m\u001b[0m\u001b[0m\n\u001b[1;32m    184\u001b[0m             \u001b[0mself\u001b[0m\u001b[0;34m.\u001b[0m\u001b[0mthis\u001b[0m\u001b[0;34m.\u001b[0m\u001b[0mappend\u001b[0m\u001b[0;34m(\u001b[0m\u001b[0mthis\u001b[0m\u001b[0;34m)\u001b[0m\u001b[0;34m\u001b[0m\u001b[0;34m\u001b[0m\u001b[0m\n",
      "\u001b[0;31mTypeError\u001b[0m: in method 'new_sht', argument 1 of type 'int'"
     ]
    }
   ],
   "source": [
    "sfc = ncepsfc('sfcf00.gdas2.1979010100')"
   ]
  },
  {
   "cell_type": "code",
   "execution_count": 12,
   "metadata": {},
   "outputs": [
    {
     "ename": "NameError",
     "evalue": "name 'sfc' is not defined",
     "output_type": "error",
     "traceback": [
      "\u001b[0;31m---------------------------------------------------------------------------\u001b[0m",
      "\u001b[0;31mNameError\u001b[0m                                 Traceback (most recent call last)",
      "\u001b[0;32m<ipython-input-12-76d76bc591c2>\u001b[0m in \u001b[0;36m<module>\u001b[0;34m()\u001b[0m\n\u001b[0;32m----> 1\u001b[0;31m \u001b[0mgrids2d\u001b[0m\u001b[0;34m,\u001b[0m\u001b[0mgrds2d_desc\u001b[0m\u001b[0;34m,\u001b[0m\u001b[0mgrds2d_name\u001b[0m\u001b[0;34m,\u001b[0m\u001b[0mgrids3d\u001b[0m\u001b[0;34m,\u001b[0m\u001b[0mgrds3d_desc\u001b[0m\u001b[0;34m,\u001b[0m\u001b[0mgrds3d_name\u001b[0m \u001b[0;34m=\u001b[0m \u001b[0msfc\u001b[0m\u001b[0;34m.\u001b[0m\u001b[0mgriddata\u001b[0m\u001b[0;34m(\u001b[0m\u001b[0;34m)\u001b[0m\u001b[0;34m\u001b[0m\u001b[0;34m\u001b[0m\u001b[0m\n\u001b[0m",
      "\u001b[0;31mNameError\u001b[0m: name 'sfc' is not defined"
     ]
    }
   ],
   "source": [
    "grids2d,grds2d_desc,grds2d_name,grids3d,grds3d_desc,grds3d_name = sfc.griddata()"
   ]
  },
  {
   "cell_type": "code",
   "execution_count": 23,
   "metadata": {},
   "outputs": [],
   "source": [
    "nlons = sfc.nlons\n",
    "nlats = sfc.nlats\n",
    "lsoil = sfc.lsoil\n",
    "idate = sfc.idate\n",
    "fhour = sfc.fhour"
   ]
  },
  {
   "cell_type": "code",
   "execution_count": 32,
   "metadata": {},
   "outputs": [],
   "source": [
    "#sfc._write_griddata('test_ini', nlons, nlats, lsoil, idate, fhour, grids2d.T, grids3d.T)\n",
    "sfc._write_griddata('test_ini', idate, fhour, grids2d.T, grids3d.T)\n",
    "# The reason it is not asking for nlons, nlats and lsoil is that in the automatically generated pyf\n",
    "# file nlons, nlats and lsoil are taken as shapes of grids2d and grids3d"
   ]
  },
  {
   "cell_type": "code",
   "execution_count": 29,
   "metadata": {},
   "outputs": [],
   "source": [
    "from _write_sfc import write_griddata"
   ]
  },
  {
   "cell_type": "code",
   "execution_count": 11,
   "metadata": {},
   "outputs": [
    {
     "name": "stdout",
     "output_type": "stream",
     "text": [
      "/home/manmeet/anaconda3/envs/py27/bin/python\r\n"
     ]
    }
   ],
   "source": [
    "!which python"
   ]
  },
  {
   "cell_type": "code",
   "execution_count": null,
   "metadata": {},
   "outputs": [],
   "source": []
  }
 ],
 "metadata": {
  "kernelspec": {
   "display_name": "Python 3",
   "language": "python",
   "name": "python3"
  },
  "language_info": {
   "codemirror_mode": {
    "name": "ipython",
    "version": 3
   },
   "file_extension": ".py",
   "mimetype": "text/x-python",
   "name": "python",
   "nbconvert_exporter": "python",
   "pygments_lexer": "ipython3",
   "version": "3.7.3"
  }
 },
 "nbformat": 4,
 "nbformat_minor": 2
}
