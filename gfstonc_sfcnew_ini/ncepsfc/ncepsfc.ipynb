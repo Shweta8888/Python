{
 "cells": [
  {
   "cell_type": "code",
   "execution_count": 13,
   "metadata": {},
   "outputs": [],
   "source": [
    "import numpy as np\n",
    "from ncepsigma import Spharmt\n",
    "class ncepsfc(object):\n",
    "    # read ncep 'sfc' file (fortran gridded binary data)\n",
    "    def __init__(self,filename):\n",
    "        from _read_sfc import read_griddata, read_header\n",
    "        from _write_sfc import write_griddata\n",
    "        nlons,nlats,lsoil,idate,fhour = read_header(filename)\n",
    "        self._read_griddata = read_griddata\n",
    "        self._write_griddata = write_griddata\n",
    "        self.nlons = nlons; self.nlats = nlats\n",
    "        self.lsoil = lsoil\n",
    "        #self.idate = '%04i%02i%02i%02i' % (idate[3],idate[1],idate[2],idate[0])\n",
    "        self.idate = idate\n",
    "        self.fhour = fhour\n",
    "        self.filename = filename\n",
    "        sp = Spharmt(nlons,nlats,nlats/2,6.3712e6,gridtype='gaussian')\n",
    "        self.lats = (180./np.pi)*sp.lats\n",
    "        self.lons = (360./nlons)*np.arange(nlons)\n",
    "    def griddata(self):\n",
    "        grids2d,grids2d_desc,grids2d_name,grids3d,grids3d_desc,grids3d_name = self._read_griddata(self.filename,self.nlons,self.nlats,self.lsoil)\n",
    "        grds2d_desc = []\n",
    "        for n in range(grids2d_desc.shape[0]):\n",
    "            s = grids2d_desc[n].tostring()\n",
    "            s = s.encode('ascii').replace('\\x00','').strip()\n",
    "            grds2d_desc.append(s)\n",
    "        grds2d_name = []\n",
    "        for n in range(grids2d_name.shape[0]):\n",
    "            s = grids2d_name[n].tostring()\n",
    "            s = s.encode('ascii').replace('\\x00','').strip()\n",
    "            grds2d_name.append(s)\n",
    "        grds3d_desc = []\n",
    "        for n in range(grids3d_desc.shape[0]):\n",
    "            s = grids3d_desc[n].tostring()\n",
    "            s = s.encode('ascii').replace('\\x00','').strip()\n",
    "            grds3d_desc.append(s)\n",
    "        grds3d_name = []\n",
    "        for n in range(grids3d_name.shape[0]):\n",
    "            s = grids3d_name[n].tostring()\n",
    "            s = s.encode('ascii').replace('\\x00','').strip()\n",
    "            grds3d_name.append(s)\n",
    "        return grids2d.T,grds2d_desc,grds2d_name,grids3d.T,grds3d_desc,grds3d_name\n"
   ]
  },
  {
   "cell_type": "code",
   "execution_count": 14,
   "metadata": {},
   "outputs": [],
   "source": [
    "sfc = ncepsfc('sfcf00.gdas2.1979010100')"
   ]
  },
  {
   "cell_type": "code",
   "execution_count": 15,
   "metadata": {},
   "outputs": [],
   "source": [
    "grids2d,grds2d_desc,grds2d_name,grids3d,grds3d_desc,grds3d_name = sfc.griddata()"
   ]
  },
  {
   "cell_type": "code",
   "execution_count": 23,
   "metadata": {},
   "outputs": [],
   "source": [
    "nlons = sfc.nlons\n",
    "nlats = sfc.nlats\n",
    "lsoil = sfc.lsoil\n",
    "idate = sfc.idate\n",
    "fhour = sfc.fhour"
   ]
  },
  {
   "cell_type": "code",
   "execution_count": 32,
   "metadata": {},
   "outputs": [],
   "source": [
    "#sfc._write_griddata('test_ini', nlons, nlats, lsoil, idate, fhour, grids2d.T, grids3d.T)\n",
    "sfc._write_griddata('test_ini', idate, fhour, grids2d.T, grids3d.T)\n",
    "# The reason it is not asking for nlons, nlats and lsoil is that in the automatically generated pyf\n",
    "# file nlons, nlats and lsoil are taken as shapes of grids2d and grids3d"
   ]
  },
  {
   "cell_type": "code",
   "execution_count": 29,
   "metadata": {},
   "outputs": [],
   "source": [
    "from _write_sfc import write_griddata"
   ]
  },
  {
   "cell_type": "code",
   "execution_count": null,
   "metadata": {},
   "outputs": [],
   "source": []
  },
  {
   "cell_type": "code",
   "execution_count": null,
   "metadata": {},
   "outputs": [],
   "source": []
  }
 ],
 "metadata": {
  "kernelspec": {
   "display_name": "Python 2",
   "language": "python",
   "name": "python2"
  },
  "language_info": {
   "codemirror_mode": {
    "name": "ipython",
    "version": 2
   },
   "file_extension": ".py",
   "mimetype": "text/x-python",
   "name": "python",
   "nbconvert_exporter": "python",
   "pygments_lexer": "ipython2",
   "version": "2.7.17"
  }
 },
 "nbformat": 4,
 "nbformat_minor": 2
}
