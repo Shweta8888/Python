{
 "cells": [
  {
   "cell_type": "code",
   "execution_count": 1,
   "metadata": {},
   "outputs": [
    {
     "name": "stderr",
     "output_type": "stream",
     "text": [
      "/home/manmeet/anaconda3/envs/py35/lib/python3.7/site-packages/xarray/core/merge.py:16: FutureWarning: The Panel class is removed from pandas. Accessing it from the top-level namespace will also be removed in the next version\n",
      "  PANDAS_TYPES = (pd.Series, pd.DataFrame, pd.Panel)\n"
     ]
    }
   ],
   "source": [
    "import xarray as xr\n",
    "import numpy as np\n",
    "import matplotlib.pyplot as plt\n",
    "import random\n",
    "from scipy import stats\n",
    "from datetime import datetime, timedelta\n",
    "from matplotlib.axes import Axes\n",
    "import xesmf as xe"
   ]
  },
  {
   "cell_type": "code",
   "execution_count": 26,
   "metadata": {},
   "outputs": [],
   "source": [
    "data_dir_raw = 'godas.P.19800105.nc'\n",
    "ds_godas_raw = xr.open_dataset(data_dir_raw)\n",
    "\n",
    "data_dir = 'thflx.1980_jan.nc' \n",
    "ds_thflx = xr.open_dataset(data_dir)\n",
    "\n",
    "data_dir = 'sltfl.1980_jan.nc' \n",
    "ds_sltfl = xr.open_dataset(data_dir)\n",
    "\n",
    "data_dir = 'sshg.1980_jan.nc' \n",
    "ds_sshg = xr.open_dataset(data_dir)\n",
    "\n",
    "data_dir = 'dbss_obml.1980_jan.nc' \n",
    "ds_dbss_obml = xr.open_dataset(data_dir)\n",
    "\n",
    "data_dir = 'uflx.1980_jan.nc' \n",
    "ds_uflx = xr.open_dataset(data_dir)\n",
    "\n",
    "data_dir = 'vflx.1980_jan.nc' \n",
    "ds_vflx = xr.open_dataset(data_dir)\n",
    "\n",
    "data_dir = 'ucur.1980_jan.nc' \n",
    "ds_ucur = xr.open_dataset(data_dir)\n",
    "\n",
    "data_dir = 'vcur.1980_jan.nc' \n",
    "ds_vcur = xr.open_dataset(data_dir)\n",
    "\n",
    "data_dir = 'dzdt.1980_jan.nc' \n",
    "ds_dzdt = xr.open_dataset(data_dir)\n",
    "\n",
    "data_dir = 'pottmp.1980_jan.nc' \n",
    "ds_pottmp = xr.open_dataset(data_dir)\n",
    "\n",
    "data_dir = 'salt.1980_jan.nc' \n",
    "ds_salt = xr.open_dataset(data_dir)"
   ]
  },
  {
   "cell_type": "code",
   "execution_count": 31,
   "metadata": {},
   "outputs": [],
   "source": [
    "ds_salt_ = ds_salt.copy()\n",
    "ds_salt_['salt'] = (('time', 'level', 'lat', 'lon'), np.expand_dims(ds_godas_raw['SALTY_GDS0_DBSL_ave5d'].values, axis=0))\n",
    "ds_salt_.salt.attrs = ds_salt.salt.attrs\n",
    "\n",
    "ds_temp_ = ds_pottmp.copy()\n",
    "ds_temp_['pottmp'] = (('time', 'level', 'lat', 'lon'), np.expand_dims(ds_godas_raw['POT_GDS0_DBSL_ave5d'].values, axis=0))\n",
    "ds_temp_.pottmp.attrs = ds_pottmp.pottmp.attrs"
   ]
  },
  {
   "cell_type": "code",
   "execution_count": 37,
   "metadata": {},
   "outputs": [],
   "source": [
    "ds_salt_.to_netcdf(data_dir_raw[:-3]+'_salt.nc')\n",
    "ds_temp_.to_netcdf(data_dir_raw[:-3]+'_temp.nc')"
   ]
  },
  {
   "cell_type": "code",
   "execution_count": null,
   "metadata": {},
   "outputs": [],
   "source": []
  }
 ],
 "metadata": {
  "kernelspec": {
   "display_name": "Python 3",
   "language": "python",
   "name": "python3"
  },
  "language_info": {
   "codemirror_mode": {
    "name": "ipython",
    "version": 3
   },
   "file_extension": ".py",
   "mimetype": "text/x-python",
   "name": "python",
   "nbconvert_exporter": "python",
   "pygments_lexer": "ipython3",
   "version": "3.7.4"
  }
 },
 "nbformat": 4,
 "nbformat_minor": 2
}
