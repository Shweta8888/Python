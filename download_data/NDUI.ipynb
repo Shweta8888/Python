{
  "cells": [
    {
      "cell_type": "code",
      "execution_count": 1,
      "metadata": {
        "id": "wpza3bOT5vF_"
      },
      "outputs": [],
      "source": [
        "from google.colab import auth\n",
        "auth.authenticate_user()"
      ]
    },
    {
      "cell_type": "code",
      "execution_count": 2,
      "metadata": {
        "colab": {
          "base_uri": "https://localhost:8080/"
        },
        "id": "1IoAuuA5ZofY",
        "outputId": "ef23b208-a251-4f28-9d8d-572e8ea4859c"
      },
      "outputs": [
        {
          "output_type": "stream",
          "name": "stdout",
          "text": [
            "Mounted at /content/drive\n"
          ]
        }
      ],
      "source": [
        "from google.colab import drive\n",
        "drive.mount('/content/drive')"
      ]
    },
    {
      "cell_type": "code",
      "source": [
        "import ee, folium"
      ],
      "metadata": {
        "id": "pZ4Tbq9xXzl3"
      },
      "execution_count": 38,
      "outputs": []
    },
    {
      "cell_type": "code",
      "execution_count": 3,
      "metadata": {
        "colab": {
          "base_uri": "https://localhost:8080/"
        },
        "id": "_A-0m2IF6Cm_",
        "outputId": "48266533-ae7c-460d-8286-0af6b52b161c",
        "scrolled": true
      },
      "outputs": [
        {
          "output_type": "stream",
          "name": "stdout",
          "text": [
            "To authorize access needed by Earth Engine, open the following URL in a web browser and follow the instructions. If the web browser does not start automatically, please manually browse the URL below.\n",
            "\n",
            "    https://code.earthengine.google.com/client-auth?scopes=https%3A//www.googleapis.com/auth/earthengine%20https%3A//www.googleapis.com/auth/devstorage.full_control&request_id=LIO8I84zfmXn1AeZBVNK-9CaAy7WL-EWgvCUwdlKhEM&tc=kKVhQKYb6WeBB5g8qMYY1QSoxPfcOQ1YBwIaBMXK0f4&cc=jzckmjT3Mpxbl0c6w407B5GmC8bLSYEgFhIAOrgvHuA\n",
            "\n",
            "The authorization workflow will generate a code, which you should paste in the box below.\n",
            "Enter verification code: 4/1AdQt8qjll_G3IVfs5QPnN5X8yhJPrDqKrK6mMx0QKCEqkP6ZIMLZ3V4mXqo\n",
            "\n",
            "Successfully saved authorization token.\n"
          ]
        }
      ],
      "source": [
        "import ee\n",
        "ee.Authenticate()\n",
        "ee.Initialize()"
      ]
    },
    {
      "cell_type": "markdown",
      "metadata": {
        "id": "15zZ6W8-VMEC"
      },
      "source": [
        "## 2.import necessary python-packets"
      ]
    },
    {
      "cell_type": "code",
      "execution_count": 4,
      "metadata": {
        "colab": {
          "base_uri": "https://localhost:8080/"
        },
        "id": "ZgVlXQKmA1YA",
        "outputId": "c69dccbb-3aef-4f81-f967-7a687468d5f3"
      },
      "outputs": [
        {
          "output_type": "stream",
          "name": "stdout",
          "text": [
            "Looking in indexes: https://pypi.org/simple, https://us-python.pkg.dev/colab-wheels/public/simple/\n",
            "Collecting geopandas\n",
            "  Downloading geopandas-0.10.2-py2.py3-none-any.whl (1.0 MB)\n",
            "\u001b[K     |████████████████████████████████| 1.0 MB 5.1 MB/s \n",
            "\u001b[?25hCollecting fiona>=1.8\n",
            "  Downloading Fiona-1.8.21-cp37-cp37m-manylinux2014_x86_64.whl (16.7 MB)\n",
            "\u001b[K     |████████████████████████████████| 16.7 MB 362 kB/s \n",
            "\u001b[?25hCollecting pyproj>=2.2.0\n",
            "  Downloading pyproj-3.2.1-cp37-cp37m-manylinux2010_x86_64.whl (6.3 MB)\n",
            "\u001b[K     |████████████████████████████████| 6.3 MB 38.7 MB/s \n",
            "\u001b[?25hRequirement already satisfied: pandas>=0.25.0 in /usr/local/lib/python3.7/dist-packages (from geopandas) (1.3.5)\n",
            "Requirement already satisfied: shapely>=1.6 in /usr/local/lib/python3.7/dist-packages (from geopandas) (1.8.2)\n",
            "Requirement already satisfied: attrs>=17 in /usr/local/lib/python3.7/dist-packages (from fiona>=1.8->geopandas) (21.4.0)\n",
            "Collecting munch\n",
            "  Downloading munch-2.5.0-py2.py3-none-any.whl (10 kB)\n",
            "Requirement already satisfied: click>=4.0 in /usr/local/lib/python3.7/dist-packages (from fiona>=1.8->geopandas) (7.1.2)\n",
            "Collecting click-plugins>=1.0\n",
            "  Downloading click_plugins-1.1.1-py2.py3-none-any.whl (7.5 kB)\n",
            "Collecting cligj>=0.5\n",
            "  Downloading cligj-0.7.2-py3-none-any.whl (7.1 kB)\n",
            "Requirement already satisfied: certifi in /usr/local/lib/python3.7/dist-packages (from fiona>=1.8->geopandas) (2022.6.15)\n",
            "Requirement already satisfied: six>=1.7 in /usr/local/lib/python3.7/dist-packages (from fiona>=1.8->geopandas) (1.15.0)\n",
            "Requirement already satisfied: setuptools in /usr/local/lib/python3.7/dist-packages (from fiona>=1.8->geopandas) (57.4.0)\n",
            "Requirement already satisfied: pytz>=2017.3 in /usr/local/lib/python3.7/dist-packages (from pandas>=0.25.0->geopandas) (2022.1)\n",
            "Requirement already satisfied: python-dateutil>=2.7.3 in /usr/local/lib/python3.7/dist-packages (from pandas>=0.25.0->geopandas) (2.8.2)\n",
            "Requirement already satisfied: numpy>=1.17.3 in /usr/local/lib/python3.7/dist-packages (from pandas>=0.25.0->geopandas) (1.21.6)\n",
            "Installing collected packages: munch, cligj, click-plugins, pyproj, fiona, geopandas\n",
            "Successfully installed click-plugins-1.1.1 cligj-0.7.2 fiona-1.8.21 geopandas-0.10.2 munch-2.5.0 pyproj-3.2.1\n",
            "Looking in indexes: https://pypi.org/simple, https://us-python.pkg.dev/colab-wheels/public/simple/\n",
            "Collecting PyShp\n",
            "  Downloading pyshp-2.3.1-py2.py3-none-any.whl (46 kB)\n",
            "\u001b[K     |████████████████████████████████| 46 kB 2.5 MB/s \n",
            "\u001b[?25hInstalling collected packages: PyShp\n",
            "Successfully installed PyShp-2.3.1\n",
            "Looking in indexes: https://pypi.org/simple, https://us-python.pkg.dev/colab-wheels/public/simple/\n",
            "Requirement already satisfied: gdal in /usr/local/lib/python3.7/dist-packages (2.2.2)\n"
          ]
        }
      ],
      "source": [
        "try:\n",
        "    import geopandas as gpd\n",
        "    import shapefile\n",
        "    from osgeo import ogr,osr,gdal\n",
        "except:\n",
        "    !pip install geopandas\n",
        "    !pip install PyShp\n",
        "    !pip install gdal\n",
        "import geopandas as gpd\n",
        "import shapefile\n",
        "import numpy as np\n",
        "import os\n",
        "import time\n",
        "from osgeo import ogr,osr,gdal\n",
        "import tensorflow as tf"
      ]
    },
    {
      "cell_type": "markdown",
      "metadata": {
        "id": "OZ9kd0IkVMEE"
      },
      "source": [
        "## 3.Compute NDUI"
      ]
    },
    {
      "cell_type": "code",
      "execution_count": 5,
      "metadata": {
        "id": "ZkCbt6F1I1Yn"
      },
      "outputs": [],
      "source": [
        "F101992 = ee.Image('NOAA/DMSP-OLS/NIGHTTIME_LIGHTS/F101992').select('stable_lights')\n",
        "F101993 = ee.Image('NOAA/DMSP-OLS/NIGHTTIME_LIGHTS/F101993').select('stable_lights')\n",
        "F101994 = ee.Image('NOAA/DMSP-OLS/NIGHTTIME_LIGHTS/F101994').select('stable_lights')\n",
        "F121994 = ee.Image('NOAA/DMSP-OLS/NIGHTTIME_LIGHTS/F121994').select('stable_lights')\n",
        "F121995 = ee.Image('NOAA/DMSP-OLS/NIGHTTIME_LIGHTS/F121995').select('stable_lights')\n",
        "F121996 = ee.Image('NOAA/DMSP-OLS/NIGHTTIME_LIGHTS/F121996').select('stable_lights')\n",
        "F121997 = ee.Image('NOAA/DMSP-OLS/NIGHTTIME_LIGHTS/F121997').select('stable_lights')\n",
        "F121998 = ee.Image('NOAA/DMSP-OLS/NIGHTTIME_LIGHTS/F121998').select('stable_lights')\n",
        "F121999 = ee.Image('NOAA/DMSP-OLS/NIGHTTIME_LIGHTS/F121999').select('stable_lights')\n",
        "F141997 = ee.Image('NOAA/DMSP-OLS/NIGHTTIME_LIGHTS/F141997').select('stable_lights')\n",
        "F141998 = ee.Image('NOAA/DMSP-OLS/NIGHTTIME_LIGHTS/F141998').select('stable_lights')\n",
        "F141999 = ee.Image('NOAA/DMSP-OLS/NIGHTTIME_LIGHTS/F141999').select('stable_lights')\n",
        "F142000 = ee.Image('NOAA/DMSP-OLS/NIGHTTIME_LIGHTS/F142000').select('stable_lights')\n",
        "F142001 = ee.Image('NOAA/DMSP-OLS/NIGHTTIME_LIGHTS/F142001').select('stable_lights')\n",
        "F142002 = ee.Image('NOAA/DMSP-OLS/NIGHTTIME_LIGHTS/F142002').select('stable_lights')\n",
        "F142003 = ee.Image('NOAA/DMSP-OLS/NIGHTTIME_LIGHTS/F142003').select('stable_lights')\n",
        "F152000 = ee.Image('NOAA/DMSP-OLS/NIGHTTIME_LIGHTS/F152000').select('stable_lights')\n",
        "F152001 = ee.Image('NOAA/DMSP-OLS/NIGHTTIME_LIGHTS/F152001').select('stable_lights')\n",
        "F152002 = ee.Image('NOAA/DMSP-OLS/NIGHTTIME_LIGHTS/F152002').select('stable_lights')\n",
        "F152003 = ee.Image('NOAA/DMSP-OLS/NIGHTTIME_LIGHTS/F152003').select('stable_lights')\n",
        "F152004 = ee.Image('NOAA/DMSP-OLS/NIGHTTIME_LIGHTS/F152004').select('stable_lights')\n",
        "F152005 = ee.Image('NOAA/DMSP-OLS/NIGHTTIME_LIGHTS/F152005').select('stable_lights')\n",
        "F152006 = ee.Image('NOAA/DMSP-OLS/NIGHTTIME_LIGHTS/F152006').select('stable_lights')\n",
        "F152007 = ee.Image('NOAA/DMSP-OLS/NIGHTTIME_LIGHTS/F152007').select('stable_lights')\n",
        "F162004 = ee.Image('NOAA/DMSP-OLS/NIGHTTIME_LIGHTS/F162004').select('stable_lights')\n",
        "F162005 = ee.Image('NOAA/DMSP-OLS/NIGHTTIME_LIGHTS/F162005').select('stable_lights')\n",
        "F162006 = ee.Image('NOAA/DMSP-OLS/NIGHTTIME_LIGHTS/F162006').select('stable_lights')\n",
        "F162007 = ee.Image('NOAA/DMSP-OLS/NIGHTTIME_LIGHTS/F162007').select('stable_lights')\n",
        "F162008 = ee.Image('NOAA/DMSP-OLS/NIGHTTIME_LIGHTS/F162008').select('stable_lights')\n",
        "F162009 = ee.Image('NOAA/DMSP-OLS/NIGHTTIME_LIGHTS/F162009').select('stable_lights')\n",
        "F182010 = ee.Image('NOAA/DMSP-OLS/NIGHTTIME_LIGHTS/F182010').select('stable_lights')\n",
        "F182011 = ee.Image('NOAA/DMSP-OLS/NIGHTTIME_LIGHTS/F182011').select('stable_lights')\n",
        "F182012 = ee.Image('NOAA/DMSP-OLS/NIGHTTIME_LIGHTS/F182012').select('stable_lights')\n",
        "\n",
        "collections = [F101992, F101993, F101994, F121994, F121995, F121996, F121997, F121998, F121999, F141997, F141998, \n",
        "                    F141999, F142000, F142001,F142002, F142003, F152000, F152001, F152002, F152003, F152004, F152005, \n",
        "                    F152006, F152007,F162004, F162005, F162006, F162007, F162008, F162009, F182010, F182011, F182012]\n",
        "\n",
        "c = [-3.06516, -2.0638, -1.68421, -1.71621, 0.530922, 0.303469, -0.18513, 0.490138, 1.800988, -0.6186,\n",
        "         -0.91352, -1.37993, 0.061872, 0.249452, 1.127103, 0.866522,0, 0.005164,-0.04462, -0.27189, -0.06977, 0.449229,\n",
        "         0.913485, 0.644785, -0.02563, -0.54115, -0.38377, 0.629564, 0.745403, -0.15161, 6.22332, 1.427157, 3.866698]\n",
        "         \n",
        "b = [-0.00698, -0.00726, -0.00695, -0.00454, 0.00011, -0.00176, -0.00057, 0.001236, 0.002969, -0.0094, \n",
        "     -0.00929, -0.00889, -0.00469, -0.00452, -0.00221, -0.00351, 0, 8.94e-05, 0.000117, -0.0085, -0.00912, -0.00601,\n",
        "     -0.00595, -0.00675, -0.00496, -0.0094, -0.0061, -0.00084, -0.00062, -0.00278, 0.014627,0.002877, 0.007962]\n",
        "     \n",
        "a = [1.519907, 1.516595, 1.491333, 1.331971, 0.984465, 1.111207, 1.034429, 0.905787, 0.761106, 1.603921,\n",
        "      1.603648, 1.586457, 1.294471, 1.275902, 1.128708, 1.206319, 1, 1.002879, 0.987943, 1.555808, 1.591033, 1.401146, \n",
        "      1.381139,1.448976, 1.317581, 1.613536, 1.41435, 1.040815, 1.037042, 1.193437, -0.08536, 0.774923, 0.355542]\n",
        "\n",
        "images = [0 for _ in range(33)]\n",
        "count = 0\n",
        "total_list = []\n",
        "images_correct = [0 for _ in range(33)]\n",
        "\n",
        "def fun3(raw,correct):\n",
        "    out = correct.where(raw.lt(5.0),raw.float())\n",
        "    return out\n",
        "\n",
        "for i in range(33):\n",
        "    images[i] = ee.Image(a[i]).multiply(collections[i].float()).add(ee.Image(b[i]).multiply(collections[i].float().pow(2))).add(ee.Image(c[i]))\n",
        "    images_correct[i] = fun3(collections[i],images[i]).select('constant')"
      ]
    },
    {
      "cell_type": "code",
      "execution_count": 6,
      "metadata": {
        "id": "tHS3XKhJI1WV"
      },
      "outputs": [],
      "source": [
        "China_city = ee.FeatureCollection('users/keithw0777/city_CN')\n",
        "L7 = ee.ImageCollection('LE7_L1T_TOA').filterDate('2010-01-01', '2012-12-31')\n",
        "OUTPUT_BUCKET='ndui_city' # define the storage bucket name \n",
        "def fun4(img):\n",
        "    bad1 = img.select('B1').eq(0.0)\n",
        "    bad2 = img.select('B2').eq(0.0)\n",
        "    bad3 = img.select('B3').eq(0.0)\n",
        "    bad4 = img.select('B4').eq(0.0)\n",
        "    bad5 = img.select('B5').eq(0.0)\n",
        "    bad7 = img.select('B7').eq(0.0)\n",
        "    mask = img.mask().And(bad1.Or(bad2).Or(bad3).Or(bad4).Or(bad5).Or(bad7).Not())\n",
        "    #var mask = img.select('10','20','30','40','50','70').mask().reduce('product').eq(1);\n",
        "    masked = img.mask(mask);\n",
        "    ndvi = masked.normalizedDifference([\"B4\",\"B3\"])\n",
        "    return ndvi\n",
        "\n",
        "NDVIs = L7.map(fun4)\n",
        "\n",
        "Mean_NDVI = NDVIs.median()\n",
        "Max_NDVI = NDVIs.max()\n",
        "Min_NDVI = NDVIs.min()\n",
        "mosaic = Mean_NDVI.where(Max_NDVI.gt(0.4), Max_NDVI)\n",
        "mosaic = mosaic.where(Min_NDVI.lt(-0.2), Min_NDVI)\n",
        "\n",
        "F182012 = images_correct[32]\n",
        "normalizeF182012 = F182012.toFloat().divide(63.0)\n",
        "diff = normalizeF182012.add(mosaic.multiply(-1.0))\n",
        "sum = normalizeF182012.add(mosaic)"
      ]
    },
    {
      "cell_type": "code",
      "source": [
        "ndui = diff.divide(sum)"
      ],
      "metadata": {
        "id": "GgH0pVDKXFKd"
      },
      "execution_count": 37,
      "outputs": []
    },
    {
      "cell_type": "code",
      "source": [
        "visualization = {\n",
        "  'min': 0.0,\n",
        "  'max': 1.0,\n",
        "  'palette': ['black', 'blue', 'purple', 'cyan', 'green', 'yellow', 'red']\n",
        "  #'bands': ['B4', 'B3', 'B2'],\n",
        "}\n",
        "\n",
        "map = folium.Map(location=[1.64, 110.20],zoom_start=4, height=1000,width=1500)\n",
        "mapid = ndui.getMapId(visualization)\n",
        "folium.TileLayer(\n",
        "    tiles=mapid['tile_fetcher'].url_format,\n",
        "    attr='Map Data &copy; <a href=\"https://earthengine.google.com/\">Google Earth Engine</a>',\n",
        "    overlay=True,\n",
        "    name='Normalized Difference Urban Index',\n",
        "    opacity=0.5,\n",
        "  ).add_to(map)\n",
        "\n",
        "map.add_child(folium.LayerControl())\n",
        "title_html = '''\n",
        "             <h3 align=\"center\" style=\"font-size:10px\"><b>'NDUI'</b></h3>\n",
        "             '''\n",
        "map.get_root().html.add_child(folium.Element(title_html))\n",
        "map"
      ],
      "metadata": {
        "colab": {
          "base_uri": "https://localhost:8080/",
          "height": 1000
        },
        "id": "JgnvDn1zXgAc",
        "outputId": "7bbb2650-4ab4-48bc-ad7e-85b3b26819a9"
      },
      "execution_count": 61,
      "outputs": [
        {
          "output_type": "execute_result",
          "data": {
            "text/plain": [
              "<folium.folium.Map at 0x7fd3a4bab350>"
            ],
            "text/html": [
              "<div style=\"width:100%;\"><div style=\"position:relative;width:100%;height:0;padding-bottom:60%;\"><span style=\"color:#565656\">Make this Notebook Trusted to load map: File -> Trust Notebook</span><iframe srcdoc=\"&lt;!DOCTYPE html&gt;\n",
              "&lt;head&gt;    \n",
              "    &lt;meta http-equiv=&quot;content-type&quot; content=&quot;text/html; charset=UTF-8&quot; /&gt;\n",
              "    &lt;script&gt;L_PREFER_CANVAS=false; L_NO_TOUCH=false; L_DISABLE_3D=false;&lt;/script&gt;\n",
              "    &lt;script src=&quot;https://cdn.jsdelivr.net/npm/leaflet@1.4.0/dist/leaflet.js&quot;&gt;&lt;/script&gt;\n",
              "    &lt;script src=&quot;https://code.jquery.com/jquery-1.12.4.min.js&quot;&gt;&lt;/script&gt;\n",
              "    &lt;script src=&quot;https://maxcdn.bootstrapcdn.com/bootstrap/3.2.0/js/bootstrap.min.js&quot;&gt;&lt;/script&gt;\n",
              "    &lt;script src=&quot;https://cdnjs.cloudflare.com/ajax/libs/Leaflet.awesome-markers/2.0.2/leaflet.awesome-markers.js&quot;&gt;&lt;/script&gt;\n",
              "    &lt;link rel=&quot;stylesheet&quot; href=&quot;https://cdn.jsdelivr.net/npm/leaflet@1.4.0/dist/leaflet.css&quot;/&gt;\n",
              "    &lt;link rel=&quot;stylesheet&quot; href=&quot;https://maxcdn.bootstrapcdn.com/bootstrap/3.2.0/css/bootstrap.min.css&quot;/&gt;\n",
              "    &lt;link rel=&quot;stylesheet&quot; href=&quot;https://maxcdn.bootstrapcdn.com/bootstrap/3.2.0/css/bootstrap-theme.min.css&quot;/&gt;\n",
              "    &lt;link rel=&quot;stylesheet&quot; href=&quot;https://maxcdn.bootstrapcdn.com/font-awesome/4.6.3/css/font-awesome.min.css&quot;/&gt;\n",
              "    &lt;link rel=&quot;stylesheet&quot; href=&quot;https://cdnjs.cloudflare.com/ajax/libs/Leaflet.awesome-markers/2.0.2/leaflet.awesome-markers.css&quot;/&gt;\n",
              "    &lt;link rel=&quot;stylesheet&quot; href=&quot;https://rawcdn.githack.com/python-visualization/folium/master/folium/templates/leaflet.awesome.rotate.css&quot;/&gt;\n",
              "    &lt;style&gt;html, body {width: 100%;height: 100%;margin: 0;padding: 0;}&lt;/style&gt;\n",
              "    &lt;style&gt;#map {position:absolute;top:0;bottom:0;right:0;left:0;}&lt;/style&gt;\n",
              "    \n",
              "    &lt;meta name=&quot;viewport&quot; content=&quot;width=device-width,\n",
              "        initial-scale=1.0, maximum-scale=1.0, user-scalable=no&quot; /&gt;\n",
              "    &lt;style&gt;#map_d9cfc6623f2e4b8629d0d795202df714 {\n",
              "        position: relative;\n",
              "        width: 1500.0px;\n",
              "        height: 1000.0px;\n",
              "        left: 0.0%;\n",
              "        top: 0.0%;\n",
              "        }\n",
              "    &lt;/style&gt;\n",
              "&lt;/head&gt;\n",
              "&lt;body&gt;    \n",
              "    \n",
              "             &lt;h3 align=&quot;center&quot; style=&quot;font-size:10px&quot;&gt;&lt;b&gt;&#x27;NDUI&#x27;&lt;/b&gt;&lt;/h3&gt;\n",
              "             \n",
              "    \n",
              "    &lt;div class=&quot;folium-map&quot; id=&quot;map_d9cfc6623f2e4b8629d0d795202df714&quot; &gt;&lt;/div&gt;\n",
              "&lt;/body&gt;\n",
              "&lt;script&gt;    \n",
              "    \n",
              "    \n",
              "        var bounds = null;\n",
              "    \n",
              "\n",
              "    var map_d9cfc6623f2e4b8629d0d795202df714 = L.map(\n",
              "        &#x27;map_d9cfc6623f2e4b8629d0d795202df714&#x27;, {\n",
              "        center: [1.64, 110.2],\n",
              "        zoom: 4,\n",
              "        maxBounds: bounds,\n",
              "        layers: [],\n",
              "        worldCopyJump: false,\n",
              "        crs: L.CRS.EPSG3857,\n",
              "        zoomControl: true,\n",
              "        });\n",
              "\n",
              "\n",
              "    \n",
              "    var tile_layer_9ce7efae932ec17e3f611bd835f07d1b = L.tileLayer(\n",
              "        &#x27;https://{s}.tile.openstreetmap.org/{z}/{x}/{y}.png&#x27;,\n",
              "        {\n",
              "        &quot;attribution&quot;: null,\n",
              "        &quot;detectRetina&quot;: false,\n",
              "        &quot;maxNativeZoom&quot;: 18,\n",
              "        &quot;maxZoom&quot;: 18,\n",
              "        &quot;minZoom&quot;: 0,\n",
              "        &quot;noWrap&quot;: false,\n",
              "        &quot;opacity&quot;: 1,\n",
              "        &quot;subdomains&quot;: &quot;abc&quot;,\n",
              "        &quot;tms&quot;: false\n",
              "}).addTo(map_d9cfc6623f2e4b8629d0d795202df714);\n",
              "    var tile_layer_2e3a6f3601b40f0108856692e81d06c1 = L.tileLayer(\n",
              "        &#x27;https://earthengine.googleapis.com/v1alpha/projects/earthengine-legacy/maps/de2aa5c662c9e86c4c8ea744f6421b3f-5221222e34c7371e3818ba668a7e78f8/tiles/{z}/{x}/{y}&#x27;,\n",
              "        {\n",
              "        &quot;attribution&quot;: &quot;Map Data &amp;copy; &lt;a href=\\&quot;https://earthengine.google.com/\\&quot;&gt;Google Earth Engine&lt;/a&gt;&quot;,\n",
              "        &quot;detectRetina&quot;: false,\n",
              "        &quot;maxNativeZoom&quot;: 18,\n",
              "        &quot;maxZoom&quot;: 18,\n",
              "        &quot;minZoom&quot;: 0,\n",
              "        &quot;noWrap&quot;: false,\n",
              "        &quot;opacity&quot;: 0.5,\n",
              "        &quot;subdomains&quot;: &quot;abc&quot;,\n",
              "        &quot;tms&quot;: false\n",
              "}).addTo(map_d9cfc6623f2e4b8629d0d795202df714);\n",
              "    \n",
              "            var layer_control_9bc0f77e1cd5d1c440a0df14351e1c9c = {\n",
              "                base_layers : { &quot;openstreetmap&quot; : tile_layer_9ce7efae932ec17e3f611bd835f07d1b, },\n",
              "                overlays : { &quot;Normalized Difference Urban Index&quot; : tile_layer_2e3a6f3601b40f0108856692e81d06c1, }\n",
              "                };\n",
              "            L.control.layers(\n",
              "                layer_control_9bc0f77e1cd5d1c440a0df14351e1c9c.base_layers,\n",
              "                layer_control_9bc0f77e1cd5d1c440a0df14351e1c9c.overlays,\n",
              "                {position: &#x27;topright&#x27;,\n",
              "                 collapsed: true,\n",
              "                 autoZIndex: true\n",
              "                }).addTo(map_d9cfc6623f2e4b8629d0d795202df714);\n",
              "            \n",
              "        \n",
              "&lt;/script&gt;\" style=\"position:absolute;width:100%;height:100%;left:0;top:0;border:none !important;\" allowfullscreen webkitallowfullscreen mozallowfullscreen></iframe></div></div>"
            ]
          },
          "metadata": {},
          "execution_count": 61
        }
      ]
    },
    {
      "cell_type": "code",
      "source": [
        "lat = 30.2672\n",
        "lon = 360 - 97.7431\n",
        "\n",
        "\n",
        "\n",
        "\n",
        "p = ee.Geometry.Point([lon, lat])\n",
        "\n",
        "data_b1 = ndui.reduceRegion(ee.Reducer.mean(),p,30).getInfo()"
      ],
      "metadata": {
        "id": "lalVq9_Ua9kp"
      },
      "execution_count": 64,
      "outputs": []
    },
    {
      "cell_type": "code",
      "source": [
        "data_b1"
      ],
      "metadata": {
        "colab": {
          "base_uri": "https://localhost:8080/"
        },
        "id": "33e--AQ0bO9q",
        "outputId": "72032794-4142-478c-e0f4-1237bd488faf"
      },
      "execution_count": 65,
      "outputs": [
        {
          "output_type": "execute_result",
          "data": {
            "text/plain": [
              "{'constant': 0.889458586340854}"
            ]
          },
          "metadata": {},
          "execution_count": 65
        }
      ]
    },
    {
      "cell_type": "code",
      "source": [
        "# China_city"
      ],
      "metadata": {
        "id": "5cK1aShkPw_M"
      },
      "execution_count": 42,
      "outputs": []
    },
    {
      "cell_type": "code",
      "execution_count": 43,
      "metadata": {
        "id": "1dVJb9WMI1Rl"
      },
      "outputs": [],
      "source": [
        "# def filter_city_ndui(city):\n",
        "#     \"\"\"\n",
        "#     city:Guangzhou City\n",
        "#     \"\"\"\n",
        "#     city_shape = China_city.filter(ee.Filter.eq('city',city))\n",
        "#     ndui = diff.divide(sum).clip(city_shape)\n",
        "#     mask1 = Mean_NDVI.gt(0.0)\n",
        "#     mask2 = ndui.gt(0.0)\n",
        "#     ndui_mask = ndui.updateMask(mask1.And(mask2))\n",
        "#     # binary\n",
        "#     bin_mask = mask1.bitwiseAnd(mask2).clip(city_shape)\n",
        "#     return city_shape,ndui_mask,bin_mask"
      ]
    },
    {
      "cell_type": "code",
      "execution_count": 44,
      "metadata": {
        "id": "N4p5aTqa2oOG"
      },
      "outputs": [],
      "source": [
        "# def export_task(image_mask,city_shape,file_name):\n",
        "#     task = ee.batch.Export.image.toDrive(\n",
        "#     image=image_mask,\n",
        "#     description='Training Export',\n",
        "#     fileNamePrefix=file_name,\n",
        "#     #bucket=OUTPUT_BUCKET,\n",
        "#     scale=30,\n",
        "#     region=city_shape.geometry())\n",
        "#     return task"
      ]
    },
    {
      "cell_type": "code",
      "execution_count": 45,
      "metadata": {
        "id": "j092exl2Drs9"
      },
      "outputs": [],
      "source": [
        "# def found_file(file_name,OUTPUT_BUCKET='ndui_city'):\n",
        "#     #FILE_PATH = 'gs://' + OUTPUT_BUCKET + '/' + file_name+'.tif'\n",
        "#     FILE_PATH = 'drive/MyDrive/' + file_name+'.tif'\n",
        "#     print(FILE_PATH)\n",
        "#     print('Found training file.' if tf.io.gfile.exists(FILE_PATH) \n",
        "#         else 'No training file found.')"
      ]
    },
    {
      "cell_type": "code",
      "source": [
        "# !ls drive/MyDrive/ndui/Guangzhou_studyarea.shp"
      ],
      "metadata": {
        "id": "Cdrd4pvqI61C"
      },
      "execution_count": 46,
      "outputs": []
    },
    {
      "cell_type": "code",
      "source": [
        "# city = gpd.read_file('drive/MyDrive/ndui/Guangzhou_studyarea.shp')"
      ],
      "metadata": {
        "id": "e67KXr82SsLE"
      },
      "execution_count": 47,
      "outputs": []
    },
    {
      "cell_type": "code",
      "source": [
        "# print(city.crs)                      #{'init': 'epsg:3857'}\n",
        "# city.plot()"
      ],
      "metadata": {
        "id": "FbBjSeTnTUUT"
      },
      "execution_count": 48,
      "outputs": []
    },
    {
      "cell_type": "code",
      "source": [
        "# city = city.to_crs(epsg='32650')\n"
      ],
      "metadata": {
        "id": "RjaSWyYxTjF1"
      },
      "execution_count": 49,
      "outputs": []
    },
    {
      "cell_type": "code",
      "source": [
        "# city = city.to_crs({'init':'epsg:32650'}, inplace = True)"
      ],
      "metadata": {
        "id": "RuSsQ6IvS6zu"
      },
      "execution_count": 50,
      "outputs": []
    },
    {
      "cell_type": "code",
      "source": [
        "# city.to_crs(epsg = \"25833\", inplace = True)"
      ],
      "metadata": {
        "id": "5AbCTL86UMBq"
      },
      "execution_count": 51,
      "outputs": []
    },
    {
      "cell_type": "code",
      "source": [
        "\n",
        "    # city = city.to_crs({'init':'epsg:32650'})\n",
        "    # city['area(/km)'] = city.apply(lambda row:row.geometry.area/1e6,axis=1)\n",
        "    # city1 = filter_small_area(city)\n",
        "    # city1.to_file(os.path.join(drive_file,export_file_name+'_urban_Area_big20_To_shape.shp'),driver='ESRI Shapefile',encoding='utf-8')\n",
        "    # CITY = gpd.read_file(os.path.join(drive_file,export_file_name+'_urban_Area_big20_To_shape.shp'))\n",
        "    # task = ee.batch.Export.image.toCloudStorage(\n",
        "    #             image=F182012.clip(CITY),\n",
        "    #             description='Training Export',\n",
        "    #             fileNamePrefix=file_name,\n",
        "    #             bucket=OUTPUT_BUCKET,\n",
        "    #             scale=30,\n",
        "    #             region=CITY.geometry())\n",
        "    # CITY.plot(figsize=(12,6))"
      ],
      "metadata": {
        "id": "yRg5mNMlSp8Z"
      },
      "execution_count": 52,
      "outputs": []
    },
    {
      "cell_type": "markdown",
      "metadata": {
        "id": "qzIyIOWfVMEK"
      },
      "source": [
        "## 4.Raster to Vector"
      ]
    },
    {
      "cell_type": "code",
      "execution_count": 53,
      "metadata": {
        "id": "1G73SO8WkiUZ"
      },
      "outputs": [],
      "source": [
        "# #raster to vector\n",
        "# def raster_to_shape(rasterfile,shapefile):\n",
        "#     data = gdal.Open(rasterfile, gdal.GA_ReadOnly)\n",
        "#     inband = data.GetRasterBand(1)\n",
        "#     drv = ogr.GetDriverByName('ESRI Shapefile')\n",
        "#     Polygon = drv.CreateDataSource(shapefile)\n",
        "#     prj = osr.SpatialReference()\n",
        "#     prj.ImportFromWkt(data.GetProjection()) \n",
        "#     Polygon_layer = Polygon.CreateLayer(shapefile, srs=prj, geom_type = ogr.wkbMultiPolygon)\n",
        "#     newField = ogr.FieldDefn('Value', ogr.OFTInteger)\n",
        "#     Polygon_layer.CreateField(newField)\n",
        "#     gdal.FPolygonize(inband, None, Polygon_layer, 0)"
      ]
    },
    {
      "cell_type": "code",
      "execution_count": 54,
      "metadata": {
        "id": "_OLJl5x1Jwas"
      },
      "outputs": [],
      "source": [
        "# def filter_small_area(shape):\n",
        "#     for i in range(len(shape)):\n",
        "#         if shape.loc[i]['Value'] == 0:\n",
        "#             shape.drop([i],axis=0,inplace=True)\n",
        "#     shape = shape.sort_values(by='area(/km)',ascending=False)\n",
        "#     shape.drop(shape.index[10:],inplace=True)\n",
        "#     return shape"
      ]
    },
    {
      "cell_type": "code",
      "execution_count": 55,
      "metadata": {
        "id": "NpCJ0XSsOlF0"
      },
      "outputs": [],
      "source": [
        "# def uploadToGCP(city_cn,city_name,export_file_name):\n",
        "#     \"\"\"\n",
        "#     city_CN:'Guangzhou City'\n",
        "#     city_name:'Guangzhou'\n",
        "#     export_file_name:'Guangzhou_city'\n",
        "#     \"\"\"\n",
        "#     city_shape,city_ndui,city_mask = filter_city_ndui(city_cn)#'Shenzhen'\n",
        "#     task = export_task(city_mask,city_shape,export_file_name)#'shenzhen_city'\n",
        "#     task.start()\n",
        "#     print(ee.batch.Task.list())\n",
        "#     while task.active():\n",
        "#         print('Polling for task (id: {}).'.format(task.id))\n",
        "#         time.sleep(30)\n",
        "#     print('Done with image export.')\n",
        "#     if ee.batch.Task.list()[0].status()['state'] == 'FAILED':\n",
        "#         print('Upload File Failed,due to '+ee.batch.Task.list()[0].status()['error_message'])\n",
        "#     found_file(export_file_name)\n",
        "#     drive_file = os.path.join('/content/drive/MyDrive/',city_name)\n",
        "#     if not os.path.exists(drive_file):\n",
        "#         os.mkdir(drive_file)\n",
        "#     #gcp_path = 'gs://nduicity_luo/'+export_file_name+'.tif'\n",
        "#     gcp_path = 'drive/MyDrive/'+export_file_name+'.tif'\n",
        "#     print('gcp_path:',gcp_path)\n",
        "#     print('drive_file:',drive_file)"
      ]
    },
    {
      "cell_type": "code",
      "source": [
        "# city_shape,city_ndui,city_mask = filter_city_ndui('Guangzhou City')"
      ],
      "metadata": {
        "id": "_9-Mmbe4VoLa"
      },
      "execution_count": 56,
      "outputs": []
    },
    {
      "cell_type": "code",
      "source": [
        "# task = export_task(city_mask,city_shape,'Guangzhou_city')"
      ],
      "metadata": {
        "id": "y-OO_4YdWVyr"
      },
      "execution_count": 57,
      "outputs": []
    },
    {
      "cell_type": "code",
      "source": [
        "# task.start()"
      ],
      "metadata": {
        "id": "7nR9yugSWfJX"
      },
      "execution_count": 58,
      "outputs": []
    },
    {
      "cell_type": "code",
      "source": [
        "# uploadToGCP('Guangzhou City','Guangzhou','Guanghzou_city')"
      ],
      "metadata": {
        "id": "6W2ggRuCVTT7"
      },
      "execution_count": 59,
      "outputs": []
    },
    {
      "cell_type": "markdown",
      "metadata": {
        "id": "Ctn81iKrVMEL"
      },
      "source": [
        "## 5.Get the built-up areas shapefile"
      ]
    },
    {
      "cell_type": "code",
      "execution_count": 60,
      "metadata": {
        "id": "pBr40T6nql9w"
      },
      "outputs": [],
      "source": [
        "# def main(city_name,export_file_name):\n",
        "#     \"\"\"\n",
        "#     city_name:'Guangzhou'\n",
        "#     export_file_name:'guangzhou_city'\n",
        "#     \"\"\"\n",
        "#     raster_to_shape(os.path.join(drive_file,export_file_name+'.tif'),os.path.join(drive_file,export_file_name+'_urban_shape.shp'))\n",
        "#     city = gpd.read_file(os.path.join(drive_file,export_file_name+'_urban_shape.shp'))\n",
        "#     city = city.to_crs({'init':'epsg:32650'})\n",
        "#     city['area(/km)'] = city.apply(lambda row:row.geometry.area/1e6,axis=1)\n",
        "#     city1 = filter_small_area(city)\n",
        "#     city1.to_file(os.path.join(drive_file,export_file_name+'_urban_Area_big20_To_shape.shp'),driver='ESRI Shapefile',encoding='utf-8')\n",
        "#     CITY = gpd.read_file(os.path.join(drive_file,export_file_name+'_urban_Area_big20_To_shape.shp'))\n",
        "#     task = ee.batch.Export.image.toCloudStorage(\n",
        "#                 image=F182012.clip(CITY),\n",
        "#                 description='Training Export',\n",
        "#                 fileNamePrefix=file_name,\n",
        "#                 bucket=OUTPUT_BUCKET,\n",
        "#                 scale=30,\n",
        "#                 region=CITY.geometry())\n",
        "#     CITY.plot(figsize=(12,6))"
      ]
    },
    {
      "cell_type": "code",
      "execution_count": 25,
      "metadata": {
        "id": "FZwBinaprrCH"
      },
      "outputs": [],
      "source": [
        "#uploadToGCP('Guangzhou City','Guangzhou','Guanghzou_city')"
      ]
    },
    {
      "cell_type": "code",
      "execution_count": 26,
      "metadata": {
        "id": "eWsBrOUwrMVC"
      },
      "outputs": [],
      "source": [
        "#!gsutil cp gcp_path drive_file\n",
        "#!gsutil cp gs://ndui_city/Guanghzou_city.tif /content/drive/MyDrive/GuangZhouCity"
      ]
    },
    {
      "cell_type": "code",
      "execution_count": 27,
      "metadata": {
        "id": "U0k7KVEHryTX"
      },
      "outputs": [],
      "source": [
        "#main('Guanghzou','Guanghzou_city')"
      ]
    },
    {
      "cell_type": "code",
      "source": [
        ""
      ],
      "metadata": {
        "id": "8J1mnRb4VHu0"
      },
      "execution_count": null,
      "outputs": []
    }
  ],
  "metadata": {
    "colab": {
      "collapsed_sections": [],
      "name": "NDUI.ipynb",
      "provenance": []
    },
    "kernelspec": {
      "display_name": "Python 3",
      "language": "python",
      "name": "python3"
    },
    "language_info": {
      "codemirror_mode": {
        "name": "ipython",
        "version": 3
      },
      "file_extension": ".py",
      "mimetype": "text/x-python",
      "name": "python",
      "nbconvert_exporter": "python",
      "pygments_lexer": "ipython3",
      "version": "3.8.3"
    }
  },
  "nbformat": 4,
  "nbformat_minor": 0
}