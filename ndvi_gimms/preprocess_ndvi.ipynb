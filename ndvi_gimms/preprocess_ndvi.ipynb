{
 "cells": [
  {
   "cell_type": "code",
   "execution_count": 1,
   "metadata": {},
   "outputs": [],
   "source": [
    "import xarray as xr\n",
    "import numpy as np\n",
    "import matplotlib.pyplot as plt\n",
    "import random\n",
    "from scipy import stats\n",
    "from datetime import datetime, timedelta\n",
    "import cartopy.crs as ccrs\n",
    "from matplotlib.axes import Axes\n",
    "from cartopy.mpl.geoaxes import GeoAxes\n",
    "import cartopy.io.shapereader as shpreader\n",
    "from cartopy.mpl.gridliner import LONGITUDE_FORMATTER, LATITUDE_FORMATTER\n",
    "GeoAxes._pcolormesh_patched = Axes.pcolormesh\n",
    "# fname = '/lus/dal/cccr_rnd/manmeet/iccp/data/INDIA.shp'\n",
    "# adm1_shapes = list(shpreader.Reader(fname).geometries())\n",
    "import xesmf as xe\n",
    "\n",
    "data_dir_1 = '/home/cccr/msingh/dev_lab/ndvi3g_geo_v1_1981_0712.nc4'  # daily\n",
    "ds_gimms = xr.open_dataset(data_dir_1)\n",
    "\n",
    "data_dir_2 = '/home/cccr/msingh/dev_lab/precip.1981.nc'\n",
    "ds_cpc = xr.open_dataset(data_dir_2)"
   ]
  },
  {
   "cell_type": "code",
   "execution_count": 2,
   "metadata": {},
   "outputs": [],
   "source": [
    "# NDVI is a 15 day data and CPC is a monthly data\n",
    "# Tasks to be performed: \n",
    "# 1. Regrid NDVI data to CPC\n",
    "# 2. Negative to nan in NDVI, add time information in ndvi\n",
    "# 3. CPC data to 15 day mean\n",
    "# 4. Create event based time series in both the datasets\n",
    "# 5. Use R code to do event coincidence analysis at 15 to 90 day coincidence period lag\n",
    "# 6. Plot the Trigger coincidence rate and Precursor coincidence rate"
   ]
  },
  {
   "cell_type": "code",
   "execution_count": 3,
   "metadata": {},
   "outputs": [],
   "source": [
    "# But we are doing the analysis on monthly data following https://www.nature.com/articles/s41598-020-57910-1#MOESM1"
   ]
  },
  {
   "cell_type": "code",
   "execution_count": 4,
   "metadata": {},
   "outputs": [],
   "source": [
    "ndvi_ = ds_gimms.ndvi.values\n",
    "ndvi_[ndvi_<0.0] = np.nan\n",
    "ds_gimms['ndvi'] = (('time', 'lat', 'lon'),ndvi_)"
   ]
  },
  {
   "cell_type": "code",
   "execution_count": 5,
   "metadata": {},
   "outputs": [],
   "source": [
    "ds_out = xr.Dataset({'lat': (['lat'], ds_cpc.precip.lat.values),\n",
    "                     'lon': (['lon'], ds_cpc.precip.lon.values),\n",
    "                    }\n",
    "                   )"
   ]
  },
  {
   "cell_type": "code",
   "execution_count": 6,
   "metadata": {},
   "outputs": [
    {
     "name": "stdout",
     "output_type": "stream",
     "text": [
      "Create weight file: bilinear_2160x4320_360x720.nc\n"
     ]
    }
   ],
   "source": [
    "regridder = xe.Regridder(ds_gimms.ndvi, ds_out, 'bilinear')"
   ]
  },
  {
   "cell_type": "code",
   "execution_count": 7,
   "metadata": {},
   "outputs": [
    {
     "name": "stdout",
     "output_type": "stream",
     "text": [
      "Remove file bilinear_2160x4320_360x720.nc\n"
     ]
    }
   ],
   "source": [
    "regridder.clean_weight_file()"
   ]
  },
  {
   "cell_type": "code",
   "execution_count": 8,
   "metadata": {},
   "outputs": [],
   "source": [
    "ds_ndvi_o = regridder(ds_gimms.ndvi)"
   ]
  },
  {
   "cell_type": "code",
   "execution_count": 9,
   "metadata": {},
   "outputs": [],
   "source": [
    "year = int(data_dir_1[-13:-9])"
   ]
  },
  {
   "cell_type": "code",
   "execution_count": 25,
   "metadata": {},
   "outputs": [],
   "source": [
    "import datetime\n",
    "num=0\n",
    "if data_dir_1[-9:-4]=='_0712':\n",
    "    num=6\n",
    "dt = [datetime.datetime(year, 1+num, 1, 0, 0), \\\n",
    "              datetime.datetime(year, 1+num, 15, 0, 0), \\\n",
    "              datetime.datetime(year, 2+num, 1, 0, 0), \\\n",
    "              datetime.datetime(year, 2+num, 15, 0, 0), \\\n",
    "              datetime.datetime(year, 3+num, 1, 0, 0), \\\n",
    "              datetime.datetime(year, 3+num, 15, 0, 0), \\\n",
    "              datetime.datetime(year, 4+num, 1, 0, 0), \\\n",
    "              datetime.datetime(year, 4+num, 15, 0, 0), \\\n",
    "              datetime.datetime(year, 5+num, 1, 0, 0), \\\n",
    "              datetime.datetime(year, 5+num, 15, 0, 0), \\\n",
    "              datetime.datetime(year, 6+num, 1, 0, 0), \\\n",
    "              datetime.datetime(year, 6+num, 15, 0, 0)]\n"
   ]
  },
  {
   "cell_type": "code",
   "execution_count": 26,
   "metadata": {},
   "outputs": [],
   "source": [
    "ds_gimms['time'] = ('time', dt)"
   ]
  },
  {
   "cell_type": "code",
   "execution_count": 27,
   "metadata": {},
   "outputs": [],
   "source": [
    "ds_gimms.to_netcdf(data_dir_1[-27:-4]+'_.nc', format=\"NETCDF3_CLASSIC\")"
   ]
  },
  {
   "cell_type": "code",
   "execution_count": 13,
   "metadata": {},
   "outputs": [],
   "source": [
    "# save each file and then concatenate them, then use cdo monmax to use the \n",
    "# maximum value composite (MVC) technique as mentioned in the paper \n",
    "# https://www.nature.com/articles/s41598-020-57910-1#MOESM1 Chen et al 2020"
   ]
  },
  {
   "cell_type": "code",
   "execution_count": 21,
   "metadata": {},
   "outputs": [
    {
     "data": {
      "text/plain": [
       "'ndvi3g_geo_v1_1981_0712'"
      ]
     },
     "execution_count": 21,
     "metadata": {},
     "output_type": "execute_result"
    }
   ],
   "source": [
    "data_dir_1[-27:-4]"
   ]
  },
  {
   "cell_type": "code",
   "execution_count": 24,
   "metadata": {},
   "outputs": [
    {
     "data": {
      "text/plain": [
       "True"
      ]
     },
     "execution_count": 24,
     "metadata": {},
     "output_type": "execute_result"
    }
   ],
   "source": [
    "data_dir_1[-9:-4]=='_0712'"
   ]
  },
  {
   "cell_type": "code",
   "execution_count": null,
   "metadata": {},
   "outputs": [],
   "source": []
  }
 ],
 "metadata": {
  "kernelspec": {
   "display_name": "Python 3",
   "language": "python",
   "name": "python3"
  },
  "language_info": {
   "codemirror_mode": {
    "name": "ipython",
    "version": 3
   },
   "file_extension": ".py",
   "mimetype": "text/x-python",
   "name": "python",
   "nbconvert_exporter": "python",
   "pygments_lexer": "ipython3",
   "version": "3.7.7"
  }
 },
 "nbformat": 4,
 "nbformat_minor": 4
}
