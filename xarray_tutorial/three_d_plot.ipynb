{
  "nbformat": 4,
  "nbformat_minor": 0,
  "metadata": {
    "colab": {
      "name": "three_d_plot.ipynb",
      "provenance": [],
      "authorship_tag": "ABX9TyPCauGvcaQ7bYCt552YBnwm",
      "include_colab_link": true
    },
    "kernelspec": {
      "name": "python3",
      "display_name": "Python 3"
    },
    "language_info": {
      "name": "python"
    }
  },
  "cells": [
    {
      "cell_type": "markdown",
      "metadata": {
        "id": "view-in-github",
        "colab_type": "text"
      },
      "source": [
        "<a href=\"https://colab.research.google.com/github/manmeet3591/python_class/blob/master/xarray_tutorial/three_d_plot.ipynb\" target=\"_parent\"><img src=\"https://colab.research.google.com/assets/colab-badge.svg\" alt=\"Open In Colab\"/></a>"
      ]
    },
    {
      "cell_type": "code",
      "metadata": {
        "id": "0DzKR2vNKAOn"
      },
      "source": [
        ""
      ],
      "execution_count": 23,
      "outputs": []
    },
    {
      "cell_type": "code",
      "metadata": {
        "colab": {
          "base_uri": "https://localhost:8080/",
          "height": 517
        },
        "id": "eJTMQrwHKDDL",
        "outputId": "a626e58e-d044-4faf-e0cf-851aea1a9647"
      },
      "source": [
        "import numpy as np\n",
        "import matplotlib.pyplot as plt\n",
        "import plotly.graph_objects as go\n",
        "\n",
        "\n",
        "def get_arrow(axisname=\"x\"):\n",
        "\n",
        "    # Create arrow body\n",
        "    body = go.Scatter3d(\n",
        "        marker=dict(size=1, color=colorscale[0][1]),\n",
        "        line=dict(color=colorscale[0][1], width=3),\n",
        "        showlegend=False,  # hide the legend\n",
        "    )\n",
        "\n",
        "    head = go.Cone(\n",
        "        sizeref=0.1,\n",
        "        autocolorscale=None,\n",
        "        colorscale=colorscale,\n",
        "        showscale=False,  # disable additional colorscale for arrowheads\n",
        "        hovertext=axisname,\n",
        "    )\n",
        "    for ax, direction in zip((\"x\", \"y\", \"z\"), (\"u\", \"v\", \"w\")):\n",
        "        if ax == axisname:\n",
        "            body[ax] = data[ax][\"min\"], data[ax][\"max\"]\n",
        "            head[ax] = [data[ax][\"max\"]]\n",
        "            head[direction] = [1]\n",
        "        else:\n",
        "            body[ax] = data[ax][\"mid\"], data[ax][\"mid\"]\n",
        "            head[ax] = [data[ax][\"mid\"]]\n",
        "            head[direction] = [0]\n",
        "\n",
        "    return [body, head]\n",
        "\n",
        "\n",
        "def add_axis_arrows(fig):\n",
        "    for ax in (\"x\", \"y\", \"z\"):\n",
        "        for item in get_arrow(ax):\n",
        "            fig.add_trace(item)\n",
        "\n",
        "\n",
        "def get_annotation_for_ax(ax):\n",
        "    d = dict(showarrow=False, text=ax, xanchor=\"left\", font=dict(color=\"#1f1f1f\"))\n",
        "    for ax_ in (\"x\", \"y\", \"z\"):\n",
        "        if ax_ == ax:\n",
        "            d[ax_] = data[ax][\"max\"] - data[ax][\"range\"] * 0.05\n",
        "        else:\n",
        "            d[ax_] = data[ax_][\"mid\"]\n",
        "\n",
        "    if ax in {\"x\", \"y\"}:\n",
        "        d[\"xshift\"] = 15\n",
        "\n",
        "    return d\n",
        "\n",
        "\n",
        "def get_axis_names():\n",
        "    return [get_annotation_for_ax(ax) for ax in (\"x\", \"y\", \"z\")]\n",
        "\n",
        "\n",
        "def get_scene_axis(axisname=\"x\"):\n",
        "\n",
        "    return dict(\n",
        "        title=\"\",  # remove axis label (x,y,z)\n",
        "        showbackground=False,\n",
        "        visible=True,\n",
        "        showticklabels=False,  # hide numeric values of axes\n",
        "        showgrid=True,  # Show box around plot\n",
        "        gridcolor=\"grey\",  # Box color\n",
        "        tickvals=[data[axisname][\"min\"], data[axisname][\"max\"]],  # Set box limits\n",
        "        range=[\n",
        "            data[axisname][\"min\"],\n",
        "            data[axisname][\"max\"],\n",
        "        ],  # Prevent extra lines around box\n",
        "    )\n",
        "\n",
        "\n",
        "fig = go.Figure(\n",
        "  \n",
        "    layout=dict(\n",
        "        title=\"surface\",\n",
        "        autosize=True,\n",
        "        width=700,\n",
        "        height=500,\n",
        "        margin=dict(l=20, r=20, b=25, t=25),\n",
        "        scene=dict(\n",
        "            xaxis=get_scene_axis(\"x\"),\n",
        "            yaxis=get_scene_axis(\"y\"),\n",
        "            zaxis=get_scene_axis(\"z\"),\n",
        "            annotations=get_axis_names(),\n",
        "        ),\n",
        "    ),\n",
        ")\n",
        "\n",
        "add_axis_arrows(fig)\n",
        "\n",
        "N = 1000\n",
        "t = np.linspace(0, 1, 100)\n",
        "y = np.sin(t)\n",
        "t = np.linspace(0, 10, 50)\n",
        "x, y, z = np.cos(t), np.sin(t), t\n",
        "t = np.zeros_like((t))+1.0\n",
        "z = t\n",
        "\n",
        "fig.add_trace(go.Scatter3d(x=x, y=y, z=z))\n",
        "fig.show()"
      ],
      "execution_count": 24,
      "outputs": [
        {
          "output_type": "display_data",
          "data": {
            "text/html": [
              "<html>\n",
              "<head><meta charset=\"utf-8\" /></head>\n",
              "<body>\n",
              "    <div>\n",
              "            <script src=\"https://cdnjs.cloudflare.com/ajax/libs/mathjax/2.7.5/MathJax.js?config=TeX-AMS-MML_SVG\"></script><script type=\"text/javascript\">if (window.MathJax) {MathJax.Hub.Config({SVG: {font: \"STIX-Web\"}});}</script>\n",
              "                <script type=\"text/javascript\">window.PlotlyConfig = {MathJaxConfig: 'local'};</script>\n",
              "        <script src=\"https://cdn.plot.ly/plotly-latest.min.js\"></script>    \n",
              "            <div id=\"349d1cc4-b860-478e-b056-27ac7f062b9a\" class=\"plotly-graph-div\" style=\"height:500px; width:700px;\"></div>\n",
              "            <script type=\"text/javascript\">\n",
              "                \n",
              "                    window.PLOTLYENV=window.PLOTLYENV || {};\n",
              "                    \n",
              "                if (document.getElementById(\"349d1cc4-b860-478e-b056-27ac7f062b9a\")) {\n",
              "                    Plotly.newPlot(\n",
              "                        '349d1cc4-b860-478e-b056-27ac7f062b9a',\n",
              "                        [{\"line\": {\"color\": \"rgb(84,48,5)\", \"width\": 3}, \"marker\": {\"color\": \"rgb(84,48,5)\", \"size\": 1}, \"showlegend\": false, \"type\": \"scatter3d\", \"x\": [-1.0, 1.0], \"y\": [0.0, 0.0], \"z\": [2.326193135, 2.326193135]}, {\"colorscale\": [[0, \"rgb(84,48,5)\"], [1, \"rgb(84,48,5)\"]], \"hovertext\": \"x\", \"showscale\": false, \"sizeref\": 0.1, \"type\": \"cone\", \"u\": [1], \"v\": [0], \"w\": [0], \"x\": [1.0], \"y\": [0.0], \"z\": [2.326193135]}, {\"line\": {\"color\": \"rgb(84,48,5)\", \"width\": 3}, \"marker\": {\"color\": \"rgb(84,48,5)\", \"size\": 1}, \"showlegend\": false, \"type\": \"scatter3d\", \"x\": [0.0, 0.0], \"y\": [-1.0, 1.0], \"z\": [2.326193135, 2.326193135]}, {\"colorscale\": [[0, \"rgb(84,48,5)\"], [1, \"rgb(84,48,5)\"]], \"hovertext\": \"y\", \"showscale\": false, \"sizeref\": 0.1, \"type\": \"cone\", \"u\": [0], \"v\": [1], \"w\": [0], \"x\": [0.0], \"y\": [1.0], \"z\": [2.326193135]}, {\"line\": {\"color\": \"rgb(84,48,5)\", \"width\": 3}, \"marker\": {\"color\": \"rgb(84,48,5)\", \"size\": 1}, \"showlegend\": false, \"type\": \"scatter3d\", \"x\": [0.0, 0.0], \"y\": [0.0, 0.0], \"z\": [0.78569291, 3.86669336]}, {\"colorscale\": [[0, \"rgb(84,48,5)\"], [1, \"rgb(84,48,5)\"]], \"hovertext\": \"z\", \"showscale\": false, \"sizeref\": 0.1, \"type\": \"cone\", \"u\": [0], \"v\": [0], \"w\": [1], \"x\": [0.0], \"y\": [0.0], \"z\": [3.86669336]}, {\"type\": \"scatter3d\", \"x\": [1.0, 0.9792475210564969, 0.9178514149905888, 0.8183599245989672, 0.6849024400004521, 0.5230181084730104, 0.33942593237925484, 0.14174589725634046, -0.061817295362854206, -0.262814763741325, -0.4529041164186286, -0.6241957028171256, -0.7695800728569471, -0.883023054382162, -0.95981620122199, -0.996772217050833, -0.9923572439880433, -0.9467545253046645, -0.8618567999191831, -0.7411877443484259, -0.5897557226621226, -0.41384591454310704, -0.22075944916926946, -0.018510372154503518, 0.18450697707700792, 0.37986637199507933, 0.5594594291408053, 0.7158321462405541, 0.842494280256423, 0.9341887246502055, 0.9871097053688656, 0.9990607393363355, 0.9695457993910898, 0.8997899018725932, 0.7926882623697213, 0.6526861299196696, 0.48559428713386943, 0.29834787391040735, 0.09871854474461515, -0.10500809346346798, -0.30437637517455507, -0.4911115282522227, -0.6574631180319587, -0.7965267287855186, -0.9025305312049614, -0.9710748419350043, -0.9993147322454036, -0.9860781066780927, -0.931914350819809, -0.8390715290764524], \"y\": [0.0, 0.20266793654820095, 0.39692414892492234, 0.5747060412161792, 0.7286347834693504, 0.8523215697196184, 0.9406327851124867, 0.9899030763721239, 0.9980874821347183, 0.9648463089837632, 0.8915592304110037, 0.7812680235262638, 0.6385503202266021, 0.469329612777201, 0.28062939951435684, 0.0802816748428135, -0.12339813736217871, -0.3219563150726187, -0.5071517094845144, -0.6712977935519321, -0.8075816909683363, -0.9103469443107828, -0.9753282860670456, -0.9998286683840896, -0.9828312039256306, -0.9250413717382029, -0.8288577363730427, -0.6982723955653996, -0.5387052883861563, -0.3567792408989381, -0.16004508604325057, 0.04333173336868346, 0.2449100710119793, 0.4363234264718193, 0.6096271964908323, 0.7576284153927202, 0.8741842988197335, 0.9544571997387519, 0.9951153947776636, 0.9944713672636168, 0.9525518475314604, 0.8710967034823207, 0.7534867274396376, 0.6046033165061543, 0.4306258703827373, 0.23877531564403087, 0.03701440148506237, -0.1662827938487564, -0.3626784288265488, -0.5440211108893698], \"z\": [1.0, 1.0, 1.0, 1.0, 1.0, 1.0, 1.0, 1.0, 1.0, 1.0, 1.0, 1.0, 1.0, 1.0, 1.0, 1.0, 1.0, 1.0, 1.0, 1.0, 1.0, 1.0, 1.0, 1.0, 1.0, 1.0, 1.0, 1.0, 1.0, 1.0, 1.0, 1.0, 1.0, 1.0, 1.0, 1.0, 1.0, 1.0, 1.0, 1.0, 1.0, 1.0, 1.0, 1.0, 1.0, 1.0, 1.0, 1.0, 1.0, 1.0]}],\n",
              "                        {\"autosize\": true, \"height\": 500, \"margin\": {\"b\": 25, \"l\": 20, \"r\": 20, \"t\": 25}, \"scene\": {\"annotations\": [{\"font\": {\"color\": \"#1f1f1f\"}, \"showarrow\": false, \"text\": \"x\", \"x\": 0.9, \"xanchor\": \"left\", \"xshift\": 15, \"y\": 0.0, \"z\": 2.326193135}, {\"font\": {\"color\": \"#1f1f1f\"}, \"showarrow\": false, \"text\": \"y\", \"x\": 0.0, \"xanchor\": \"left\", \"xshift\": 15, \"y\": 0.9, \"z\": 2.326193135}, {\"font\": {\"color\": \"#1f1f1f\"}, \"showarrow\": false, \"text\": \"z\", \"x\": 0.0, \"xanchor\": \"left\", \"y\": 0.0, \"z\": 3.7126433375000003}], \"xaxis\": {\"gridcolor\": \"grey\", \"range\": [-1.0, 1.0], \"showbackground\": false, \"showgrid\": true, \"showticklabels\": false, \"tickvals\": [-1.0, 1.0], \"title\": {\"text\": \"\"}, \"visible\": true}, \"yaxis\": {\"gridcolor\": \"grey\", \"range\": [-1.0, 1.0], \"showbackground\": false, \"showgrid\": true, \"showticklabels\": false, \"tickvals\": [-1.0, 1.0], \"title\": {\"text\": \"\"}, \"visible\": true}, \"zaxis\": {\"gridcolor\": \"grey\", \"range\": [0.78569291, 3.86669336], \"showbackground\": false, \"showgrid\": true, \"showticklabels\": false, \"tickvals\": [0.78569291, 3.86669336], \"title\": {\"text\": \"\"}, \"visible\": true}}, \"template\": {\"data\": {\"bar\": [{\"error_x\": {\"color\": \"#2a3f5f\"}, \"error_y\": {\"color\": \"#2a3f5f\"}, \"marker\": {\"line\": {\"color\": \"#E5ECF6\", \"width\": 0.5}}, \"type\": \"bar\"}], \"barpolar\": [{\"marker\": {\"line\": {\"color\": \"#E5ECF6\", \"width\": 0.5}}, \"type\": \"barpolar\"}], \"carpet\": [{\"aaxis\": {\"endlinecolor\": \"#2a3f5f\", \"gridcolor\": \"white\", \"linecolor\": \"white\", \"minorgridcolor\": \"white\", \"startlinecolor\": \"#2a3f5f\"}, \"baxis\": {\"endlinecolor\": \"#2a3f5f\", \"gridcolor\": \"white\", \"linecolor\": \"white\", \"minorgridcolor\": \"white\", \"startlinecolor\": \"#2a3f5f\"}, \"type\": \"carpet\"}], \"choropleth\": [{\"colorbar\": {\"outlinewidth\": 0, \"ticks\": \"\"}, \"type\": \"choropleth\"}], \"contour\": [{\"colorbar\": {\"outlinewidth\": 0, \"ticks\": \"\"}, \"colorscale\": [[0.0, \"#0d0887\"], [0.1111111111111111, \"#46039f\"], [0.2222222222222222, \"#7201a8\"], [0.3333333333333333, \"#9c179e\"], [0.4444444444444444, \"#bd3786\"], [0.5555555555555556, \"#d8576b\"], [0.6666666666666666, \"#ed7953\"], [0.7777777777777778, \"#fb9f3a\"], [0.8888888888888888, \"#fdca26\"], [1.0, \"#f0f921\"]], \"type\": \"contour\"}], \"contourcarpet\": [{\"colorbar\": {\"outlinewidth\": 0, \"ticks\": \"\"}, \"type\": \"contourcarpet\"}], \"heatmap\": [{\"colorbar\": {\"outlinewidth\": 0, \"ticks\": \"\"}, \"colorscale\": [[0.0, \"#0d0887\"], [0.1111111111111111, \"#46039f\"], [0.2222222222222222, \"#7201a8\"], [0.3333333333333333, \"#9c179e\"], [0.4444444444444444, \"#bd3786\"], [0.5555555555555556, \"#d8576b\"], [0.6666666666666666, \"#ed7953\"], [0.7777777777777778, \"#fb9f3a\"], [0.8888888888888888, \"#fdca26\"], [1.0, \"#f0f921\"]], \"type\": \"heatmap\"}], \"heatmapgl\": [{\"colorbar\": {\"outlinewidth\": 0, \"ticks\": \"\"}, \"colorscale\": [[0.0, \"#0d0887\"], [0.1111111111111111, \"#46039f\"], [0.2222222222222222, \"#7201a8\"], [0.3333333333333333, \"#9c179e\"], [0.4444444444444444, \"#bd3786\"], [0.5555555555555556, \"#d8576b\"], [0.6666666666666666, \"#ed7953\"], [0.7777777777777778, \"#fb9f3a\"], [0.8888888888888888, \"#fdca26\"], [1.0, \"#f0f921\"]], \"type\": \"heatmapgl\"}], \"histogram\": [{\"marker\": {\"colorbar\": {\"outlinewidth\": 0, \"ticks\": \"\"}}, \"type\": \"histogram\"}], \"histogram2d\": [{\"colorbar\": {\"outlinewidth\": 0, \"ticks\": \"\"}, \"colorscale\": [[0.0, \"#0d0887\"], [0.1111111111111111, \"#46039f\"], [0.2222222222222222, \"#7201a8\"], [0.3333333333333333, \"#9c179e\"], [0.4444444444444444, \"#bd3786\"], [0.5555555555555556, \"#d8576b\"], [0.6666666666666666, \"#ed7953\"], [0.7777777777777778, \"#fb9f3a\"], [0.8888888888888888, \"#fdca26\"], [1.0, \"#f0f921\"]], \"type\": \"histogram2d\"}], \"histogram2dcontour\": [{\"colorbar\": {\"outlinewidth\": 0, \"ticks\": \"\"}, \"colorscale\": [[0.0, \"#0d0887\"], [0.1111111111111111, \"#46039f\"], [0.2222222222222222, \"#7201a8\"], [0.3333333333333333, \"#9c179e\"], [0.4444444444444444, \"#bd3786\"], [0.5555555555555556, \"#d8576b\"], [0.6666666666666666, \"#ed7953\"], [0.7777777777777778, \"#fb9f3a\"], [0.8888888888888888, \"#fdca26\"], [1.0, \"#f0f921\"]], \"type\": \"histogram2dcontour\"}], \"mesh3d\": [{\"colorbar\": {\"outlinewidth\": 0, \"ticks\": \"\"}, \"type\": \"mesh3d\"}], \"parcoords\": [{\"line\": {\"colorbar\": {\"outlinewidth\": 0, \"ticks\": \"\"}}, \"type\": \"parcoords\"}], \"pie\": [{\"automargin\": true, \"type\": \"pie\"}], \"scatter\": [{\"marker\": {\"colorbar\": {\"outlinewidth\": 0, \"ticks\": \"\"}}, \"type\": \"scatter\"}], \"scatter3d\": [{\"line\": {\"colorbar\": {\"outlinewidth\": 0, \"ticks\": \"\"}}, \"marker\": {\"colorbar\": {\"outlinewidth\": 0, \"ticks\": \"\"}}, \"type\": \"scatter3d\"}], \"scattercarpet\": [{\"marker\": {\"colorbar\": {\"outlinewidth\": 0, \"ticks\": \"\"}}, \"type\": \"scattercarpet\"}], \"scattergeo\": [{\"marker\": {\"colorbar\": {\"outlinewidth\": 0, \"ticks\": \"\"}}, \"type\": \"scattergeo\"}], \"scattergl\": [{\"marker\": {\"colorbar\": {\"outlinewidth\": 0, \"ticks\": \"\"}}, \"type\": \"scattergl\"}], \"scattermapbox\": [{\"marker\": {\"colorbar\": {\"outlinewidth\": 0, \"ticks\": \"\"}}, \"type\": \"scattermapbox\"}], \"scatterpolar\": [{\"marker\": {\"colorbar\": {\"outlinewidth\": 0, \"ticks\": \"\"}}, \"type\": \"scatterpolar\"}], \"scatterpolargl\": [{\"marker\": {\"colorbar\": {\"outlinewidth\": 0, \"ticks\": \"\"}}, \"type\": \"scatterpolargl\"}], \"scatterternary\": [{\"marker\": {\"colorbar\": {\"outlinewidth\": 0, \"ticks\": \"\"}}, \"type\": \"scatterternary\"}], \"surface\": [{\"colorbar\": {\"outlinewidth\": 0, \"ticks\": \"\"}, \"colorscale\": [[0.0, \"#0d0887\"], [0.1111111111111111, \"#46039f\"], [0.2222222222222222, \"#7201a8\"], [0.3333333333333333, \"#9c179e\"], [0.4444444444444444, \"#bd3786\"], [0.5555555555555556, \"#d8576b\"], [0.6666666666666666, \"#ed7953\"], [0.7777777777777778, \"#fb9f3a\"], [0.8888888888888888, \"#fdca26\"], [1.0, \"#f0f921\"]], \"type\": \"surface\"}], \"table\": [{\"cells\": {\"fill\": {\"color\": \"#EBF0F8\"}, \"line\": {\"color\": \"white\"}}, \"header\": {\"fill\": {\"color\": \"#C8D4E3\"}, \"line\": {\"color\": \"white\"}}, \"type\": \"table\"}]}, \"layout\": {\"annotationdefaults\": {\"arrowcolor\": \"#2a3f5f\", \"arrowhead\": 0, \"arrowwidth\": 1}, \"coloraxis\": {\"colorbar\": {\"outlinewidth\": 0, \"ticks\": \"\"}}, \"colorscale\": {\"diverging\": [[0, \"#8e0152\"], [0.1, \"#c51b7d\"], [0.2, \"#de77ae\"], [0.3, \"#f1b6da\"], [0.4, \"#fde0ef\"], [0.5, \"#f7f7f7\"], [0.6, \"#e6f5d0\"], [0.7, \"#b8e186\"], [0.8, \"#7fbc41\"], [0.9, \"#4d9221\"], [1, \"#276419\"]], \"sequential\": [[0.0, \"#0d0887\"], [0.1111111111111111, \"#46039f\"], [0.2222222222222222, \"#7201a8\"], [0.3333333333333333, \"#9c179e\"], [0.4444444444444444, \"#bd3786\"], [0.5555555555555556, \"#d8576b\"], [0.6666666666666666, \"#ed7953\"], [0.7777777777777778, \"#fb9f3a\"], [0.8888888888888888, \"#fdca26\"], [1.0, \"#f0f921\"]], \"sequentialminus\": [[0.0, \"#0d0887\"], [0.1111111111111111, \"#46039f\"], [0.2222222222222222, \"#7201a8\"], [0.3333333333333333, \"#9c179e\"], [0.4444444444444444, \"#bd3786\"], [0.5555555555555556, \"#d8576b\"], [0.6666666666666666, \"#ed7953\"], [0.7777777777777778, \"#fb9f3a\"], [0.8888888888888888, \"#fdca26\"], [1.0, \"#f0f921\"]]}, \"colorway\": [\"#636efa\", \"#EF553B\", \"#00cc96\", \"#ab63fa\", \"#FFA15A\", \"#19d3f3\", \"#FF6692\", \"#B6E880\", \"#FF97FF\", \"#FECB52\"], \"font\": {\"color\": \"#2a3f5f\"}, \"geo\": {\"bgcolor\": \"white\", \"lakecolor\": \"white\", \"landcolor\": \"#E5ECF6\", \"showlakes\": true, \"showland\": true, \"subunitcolor\": \"white\"}, \"hoverlabel\": {\"align\": \"left\"}, \"hovermode\": \"closest\", \"mapbox\": {\"style\": \"light\"}, \"paper_bgcolor\": \"white\", \"plot_bgcolor\": \"#E5ECF6\", \"polar\": {\"angularaxis\": {\"gridcolor\": \"white\", \"linecolor\": \"white\", \"ticks\": \"\"}, \"bgcolor\": \"#E5ECF6\", \"radialaxis\": {\"gridcolor\": \"white\", \"linecolor\": \"white\", \"ticks\": \"\"}}, \"scene\": {\"xaxis\": {\"backgroundcolor\": \"#E5ECF6\", \"gridcolor\": \"white\", \"gridwidth\": 2, \"linecolor\": \"white\", \"showbackground\": true, \"ticks\": \"\", \"zerolinecolor\": \"white\"}, \"yaxis\": {\"backgroundcolor\": \"#E5ECF6\", \"gridcolor\": \"white\", \"gridwidth\": 2, \"linecolor\": \"white\", \"showbackground\": true, \"ticks\": \"\", \"zerolinecolor\": \"white\"}, \"zaxis\": {\"backgroundcolor\": \"#E5ECF6\", \"gridcolor\": \"white\", \"gridwidth\": 2, \"linecolor\": \"white\", \"showbackground\": true, \"ticks\": \"\", \"zerolinecolor\": \"white\"}}, \"shapedefaults\": {\"line\": {\"color\": \"#2a3f5f\"}}, \"ternary\": {\"aaxis\": {\"gridcolor\": \"white\", \"linecolor\": \"white\", \"ticks\": \"\"}, \"baxis\": {\"gridcolor\": \"white\", \"linecolor\": \"white\", \"ticks\": \"\"}, \"bgcolor\": \"#E5ECF6\", \"caxis\": {\"gridcolor\": \"white\", \"linecolor\": \"white\", \"ticks\": \"\"}}, \"title\": {\"x\": 0.05}, \"xaxis\": {\"automargin\": true, \"gridcolor\": \"white\", \"linecolor\": \"white\", \"ticks\": \"\", \"title\": {\"standoff\": 15}, \"zerolinecolor\": \"white\", \"zerolinewidth\": 2}, \"yaxis\": {\"automargin\": true, \"gridcolor\": \"white\", \"linecolor\": \"white\", \"ticks\": \"\", \"title\": {\"standoff\": 15}, \"zerolinecolor\": \"white\", \"zerolinewidth\": 2}}}, \"title\": {\"text\": \"surface\"}, \"width\": 700},\n",
              "                        {\"responsive\": true}\n",
              "                    ).then(function(){\n",
              "                            \n",
              "var gd = document.getElementById('349d1cc4-b860-478e-b056-27ac7f062b9a');\n",
              "var x = new MutationObserver(function (mutations, observer) {{\n",
              "        var display = window.getComputedStyle(gd).display;\n",
              "        if (!display || display === 'none') {{\n",
              "            console.log([gd, 'removed!']);\n",
              "            Plotly.purge(gd);\n",
              "            observer.disconnect();\n",
              "        }}\n",
              "}});\n",
              "\n",
              "// Listen for the removal of the full notebook cells\n",
              "var notebookContainer = gd.closest('#notebook-container');\n",
              "if (notebookContainer) {{\n",
              "    x.observe(notebookContainer, {childList: true});\n",
              "}}\n",
              "\n",
              "// Listen for the clearing of the current output cell\n",
              "var outputEl = gd.closest('.output');\n",
              "if (outputEl) {{\n",
              "    x.observe(outputEl, {childList: true});\n",
              "}}\n",
              "\n",
              "                        })\n",
              "                };\n",
              "                \n",
              "            </script>\n",
              "        </div>\n",
              "</body>\n",
              "</html>"
            ]
          },
          "metadata": {}
        }
      ]
    },
    {
      "cell_type": "code",
      "metadata": {
        "id": "3PK5uAA0LhSq"
      },
      "source": [
        ""
      ],
      "execution_count": 24,
      "outputs": []
    },
    {
      "cell_type": "code",
      "metadata": {
        "id": "bb8QqvgLPwH1"
      },
      "source": [
        ""
      ],
      "execution_count": null,
      "outputs": []
    }
  ]
}